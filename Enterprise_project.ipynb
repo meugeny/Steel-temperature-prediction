{
 "cells": [
  {
   "cell_type": "markdown",
   "metadata": {
    "toc": true
   },
   "source": [
    "<h1>Table of Contents<span class=\"tocSkip\"></span></h1>\n",
    "<div class=\"toc\"><ul class=\"toc-item\"><li><span><a href=\"#Описание-проекта\" data-toc-modified-id=\"Описание-проекта-1\"><span class=\"toc-item-num\">1&nbsp;&nbsp;</span>Описание проекта</a></span><ul class=\"toc-item\"><li><span><a href=\"#Описание-этапа-обработки\" data-toc-modified-id=\"Описание-этапа-обработки-1.1\"><span class=\"toc-item-num\">1.1&nbsp;&nbsp;</span>Описание этапа обработки</a></span></li><li><span><a href=\"#Описание-данных\" data-toc-modified-id=\"Описание-данных-1.2\"><span class=\"toc-item-num\">1.2&nbsp;&nbsp;</span>Описание данных</a></span></li><li><span><a href=\"#Целевые-метрики:\" data-toc-modified-id=\"Целевые-метрики:-1.3\"><span class=\"toc-item-num\">1.3&nbsp;&nbsp;</span>Целевые метрики:</a></span></li></ul></li><li><span><a href=\"#Анализ-данных\" data-toc-modified-id=\"Анализ-данных-2\"><span class=\"toc-item-num\">2&nbsp;&nbsp;</span>Анализ данных</a></span><ul class=\"toc-item\"><li><ul class=\"toc-item\"><li><span><a href=\"#Импорт-библиотек,-данных\" data-toc-modified-id=\"Импорт-библиотек,-данных-2.0.1\"><span class=\"toc-item-num\">2.0.1&nbsp;&nbsp;</span>Импорт библиотек, данных</a></span></li><li><span><a href=\"#data_arc.csv-—-данные-об-электродах\" data-toc-modified-id=\"data_arc.csv-—-данные-об-электродах-2.0.2\"><span class=\"toc-item-num\">2.0.2&nbsp;&nbsp;</span>data_arc.csv — данные об электродах</a></span></li><li><span><a href=\"#data_bulk.csv-—-данные-о-подаче-сыпучих-материалов-(объём)\" data-toc-modified-id=\"data_bulk.csv-—-данные-о-подаче-сыпучих-материалов-(объём)-2.0.3\"><span class=\"toc-item-num\">2.0.3&nbsp;&nbsp;</span>data_bulk.csv — данные о подаче сыпучих материалов (объём)</a></span></li><li><span><a href=\"#data_bulk_time.csv-—-данные-о-подаче-сыпучих-материалов-(время)\" data-toc-modified-id=\"data_bulk_time.csv-—-данные-о-подаче-сыпучих-материалов-(время)-2.0.4\"><span class=\"toc-item-num\">2.0.4&nbsp;&nbsp;</span>data_bulk_time.csv — данные о подаче сыпучих материалов (время)</a></span></li><li><span><a href=\"#data_gas.csv-—-данные-о-продувке-сплава-газом\" data-toc-modified-id=\"data_gas.csv-—-данные-о-продувке-сплава-газом-2.0.5\"><span class=\"toc-item-num\">2.0.5&nbsp;&nbsp;</span>data_gas.csv — данные о продувке сплава газом</a></span></li><li><span><a href=\"#data_temp.csv-—-результаты-измерения-температуры\" data-toc-modified-id=\"data_temp.csv-—-результаты-измерения-температуры-2.0.6\"><span class=\"toc-item-num\">2.0.6&nbsp;&nbsp;</span>data_temp.csv — результаты измерения температуры</a></span></li><li><span><a href=\"#data_wire.csv-—-данные-о-проволочных-материалах-(объём)\" data-toc-modified-id=\"data_wire.csv-—-данные-о-проволочных-материалах-(объём)-2.0.7\"><span class=\"toc-item-num\">2.0.7&nbsp;&nbsp;</span>data_wire.csv — данные о проволочных материалах (объём)</a></span></li><li><span><a href=\"#data_wire_time.csv-—-данные-о-проволочных-материалах-(время)\" data-toc-modified-id=\"data_wire_time.csv-—-данные-о-проволочных-материалах-(время)-2.0.8\"><span class=\"toc-item-num\">2.0.8&nbsp;&nbsp;</span>data_wire_time.csv — данные о проволочных материалах (время)</a></span></li></ul></li></ul></li><li><span><a href=\"#План-работы\" data-toc-modified-id=\"План-работы-3\"><span class=\"toc-item-num\">3&nbsp;&nbsp;</span>План работы</a></span></li><li><span><a href=\"#Обработка-данных\" data-toc-modified-id=\"Обработка-данных-4\"><span class=\"toc-item-num\">4&nbsp;&nbsp;</span>Обработка данных</a></span><ul class=\"toc-item\"><li><span><a href=\"#df_temp_max,-df_temp_min\" data-toc-modified-id=\"df_temp_max,-df_temp_min-4.1\"><span class=\"toc-item-num\">4.1&nbsp;&nbsp;</span>df_temp_max, df_temp_min</a></span><ul class=\"toc-item\"><li><span><a href=\"#Пример-работы-отбора-температур-на-тренировочном-датасете\" data-toc-modified-id=\"Пример-работы-отбора-температур-на-тренировочном-датасете-4.1.1\"><span class=\"toc-item-num\">4.1.1&nbsp;&nbsp;</span>Пример работы отбора температур на тренировочном датасете</a></span></li><li><span><a href=\"#Temp-rank\" data-toc-modified-id=\"Temp-rank-4.1.2\"><span class=\"toc-item-num\">4.1.2&nbsp;&nbsp;</span>Temp rank</a></span></li></ul></li><li><span><a href=\"#df_arc1\" data-toc-modified-id=\"df_arc1-4.2\"><span class=\"toc-item-num\">4.2&nbsp;&nbsp;</span>df_arc1</a></span><ul class=\"toc-item\"><li><span><a href=\"#Столбец-Работа\" data-toc-modified-id=\"Столбец-Работа-4.2.1\"><span class=\"toc-item-num\">4.2.1&nbsp;&nbsp;</span>Столбец <code>Работа</code></a></span></li></ul></li><li><span><a href=\"#df_bulk1,-df_wire1\" data-toc-modified-id=\"df_bulk1,-df_wire1-4.3\"><span class=\"toc-item-num\">4.3&nbsp;&nbsp;</span>df_bulk1, df_wire1</a></span></li></ul></li><li><span><a href=\"#DF\" data-toc-modified-id=\"DF-5\"><span class=\"toc-item-num\">5&nbsp;&nbsp;</span>DF</a></span><ul class=\"toc-item\"><li><span><a href=\"#Создание-сводной-таблицы\" data-toc-modified-id=\"Создание-сводной-таблицы-5.1\"><span class=\"toc-item-num\">5.1&nbsp;&nbsp;</span>Создание сводной таблицы</a></span></li><li><span><a href=\"#Проверка-на-мультиколлениарность-признаков\" data-toc-modified-id=\"Проверка-на-мультиколлениарность-признаков-5.2\"><span class=\"toc-item-num\">5.2&nbsp;&nbsp;</span>Проверка на мультиколлениарность признаков</a></span></li><li><span><a href=\"#Деление-на-тестовую-и-обучающую-выборки\" data-toc-modified-id=\"Деление-на-тестовую-и-обучающую-выборки-5.3\"><span class=\"toc-item-num\">5.3&nbsp;&nbsp;</span>Деление на тестовую и обучающую выборки</a></span></li><li><span><a href=\"#Масштабирование-признаков\" data-toc-modified-id=\"Масштабирование-признаков-5.4\"><span class=\"toc-item-num\">5.4&nbsp;&nbsp;</span>Масштабирование признаков</a></span></li></ul></li><li><span><a href=\"#Обучение-моделей\" data-toc-modified-id=\"Обучение-моделей-6\"><span class=\"toc-item-num\">6&nbsp;&nbsp;</span>Обучение моделей</a></span><ul class=\"toc-item\"><li><span><a href=\"#Dummy\" data-toc-modified-id=\"Dummy-6.1\"><span class=\"toc-item-num\">6.1&nbsp;&nbsp;</span>Dummy</a></span></li><li><span><a href=\"#Линейная-регрессия\" data-toc-modified-id=\"Линейная-регрессия-6.2\"><span class=\"toc-item-num\">6.2&nbsp;&nbsp;</span>Линейная регрессия</a></span><ul class=\"toc-item\"><li><span><a href=\"#Проверка-на-тестовых-данных\" data-toc-modified-id=\"Проверка-на-тестовых-данных-6.2.1\"><span class=\"toc-item-num\">6.2.1&nbsp;&nbsp;</span>Проверка на тестовых данных</a></span></li></ul></li><li><span><a href=\"#CatBoost-GridSearch\" data-toc-modified-id=\"CatBoost-GridSearch-6.3\"><span class=\"toc-item-num\">6.3&nbsp;&nbsp;</span>CatBoost GridSearch</a></span><ul class=\"toc-item\"><li><span><a href=\"#Проверка-на-тестовых-данных\" data-toc-modified-id=\"Проверка-на-тестовых-данных-6.3.1\"><span class=\"toc-item-num\">6.3.1&nbsp;&nbsp;</span>Проверка на тестовых данных</a></span></li></ul></li><li><span><a href=\"#LGBoost\" data-toc-modified-id=\"LGBoost-6.4\"><span class=\"toc-item-num\">6.4&nbsp;&nbsp;</span>LGBoost</a></span></li><li><span><a href=\"#LGB-GridSearch\" data-toc-modified-id=\"LGB-GridSearch-6.5\"><span class=\"toc-item-num\">6.5&nbsp;&nbsp;</span>LGB GridSearch</a></span><ul class=\"toc-item\"><li><span><a href=\"#Проверка-на-тестовых-данных\" data-toc-modified-id=\"Проверка-на-тестовых-данных-6.5.1\"><span class=\"toc-item-num\">6.5.1&nbsp;&nbsp;</span>Проверка на тестовых данных</a></span></li></ul></li><li><span><a href=\"#*Keras\" data-toc-modified-id=\"*Keras-6.6\"><span class=\"toc-item-num\">6.6&nbsp;&nbsp;</span>*Keras</a></span></li><li><span><a href=\"#Feature-importances-лучшей-модели\" data-toc-modified-id=\"Feature-importances-лучшей-модели-6.7\"><span class=\"toc-item-num\">6.7&nbsp;&nbsp;</span>Feature importances лучшей модели</a></span></li></ul></li><li><span><a href=\"#Отчет\" data-toc-modified-id=\"Отчет-7\"><span class=\"toc-item-num\">7&nbsp;&nbsp;</span>Отчет</a></span></li></ul></div>"
   ]
  },
  {
   "cell_type": "markdown",
   "metadata": {
    "id": "AGPROsDiQRcb"
   },
   "source": [
    "## Описание проекта\n",
    "\n",
    "Задачей проекта является оптимизация производственных расходов металлургического комбината ООО «Так закаляем сталь».  \n",
    "Руководство завода решило уменьшить потребление электроэнергии на этапе обработки стали.  \n",
    "Необходимо построить модель, которая предскажет температуру стали.\n",
    "\n",
    "### Описание этапа обработки\n",
    "\n",
    "Сталь обрабатывают в металлическом ковше вместимостью около 100 тонн. Чтобы ковш выдерживал высокие температуры, изнутри его облицовывают огнеупорным кирпичом. Расплавленную сталь заливают в ковш и подогревают до нужной температуры графитовыми электродами. Они установлены в крышке ковша. \n",
    "\n",
    "Из сплава выводится сера (десульфурация), добавлением примесей корректируется химический состав и отбираются пробы. Сталь легируют — изменяют её состав — подавая куски сплава из бункера для сыпучих материалов или проволоку через специальный трайб-аппарат (англ. tribe, «масса»).\n",
    "\n",
    "Перед тем как первый раз ввести легирующие добавки, измеряют температуру стали и производят её химический анализ. Потом температуру на несколько минут повышают, добавляют легирующие материалы и продувают сплав инертным газом. Затем его перемешивают и снова проводят измерения. Такой цикл повторяется до достижения целевого химического состава и оптимальной температуры плавки.\n",
    "\n",
    "Тогда расплавленная сталь отправляется на доводку металла или поступает в машину непрерывной разливки. Оттуда готовый продукт выходит в виде заготовок-слябов (англ. *slab*, «плита»).\n",
    "\n",
    "### Описание данных\n",
    "\n",
    "Данные состоят из файлов, полученных из разных источников:\n",
    "\n",
    "- `data_arc.csv` — данные об электродах;\n",
    "- `data_bulk.csv` — данные о подаче сыпучих материалов (объём);\n",
    "- `data_bulk_time.csv` *—* данные о подаче сыпучих материалов (время);\n",
    "- `data_gas.csv` — данные о продувке сплава газом;\n",
    "- `data_temp.csv` — результаты измерения температуры;\n",
    "- `data_wire.csv` — данные о проволочных материалах (объём);\n",
    "- `data_wire_time.csv` — данные о проволочных материалах (время).\n",
    "\n",
    "Во всех файлах столбец `key` содержит номер партии. В файлах может быть несколько строк с одинаковым значением `key`: они соответствуют разным итерациям обработки.\n",
    "\n",
    "### Целевые метрики:\n",
    "MAE > 8.7 — 0 sp  \n",
    "7.6 < MAE ≤ 8.7 — 4 sp  \n",
    "6.8 < MAE ≤ 7.6 — 4.5 sp  \n",
    "6.3 < MAE ≤ 6.8 — 5 sp  \n",
    "6.0 < MAE ≤ 6.3 — 5.5 sp  \n",
    "MAE ≤ 6.0 — 6 sp"
   ]
  },
  {
   "cell_type": "markdown",
   "metadata": {
    "id": "axUS5Mf03xtH"
   },
   "source": [
    "## Анализ данных"
   ]
  },
  {
   "cell_type": "markdown",
   "metadata": {
    "id": "C8Rar08q4RZ8"
   },
   "source": [
    "#### Импорт библиотек, данных"
   ]
  },
  {
   "cell_type": "code",
   "execution_count": 2,
   "metadata": {
    "colab": {
     "base_uri": "https://localhost:8080/"
    },
    "executionInfo": {
     "elapsed": 3987,
     "status": "ok",
     "timestamp": 1637915181647,
     "user": {
      "displayName": "Евгений Макаров",
      "photoUrl": "https://lh3.googleusercontent.com/a/default-user=s64",
      "userId": "14572979811838672928"
     },
     "user_tz": -180
    },
    "id": "ACJTm9JCPkB3",
    "outputId": "bb820819-0b58-42f7-93b9-ef287688c92d"
   },
   "outputs": [
    {
     "name": "stdout",
     "output_type": "stream",
     "text": [
      "Requirement already satisfied: catboost in /usr/local/lib/python3.7/dist-packages (1.0.3)\n",
      "Requirement already satisfied: scipy in /usr/local/lib/python3.7/dist-packages (from catboost) (1.4.1)\n",
      "Requirement already satisfied: graphviz in /usr/local/lib/python3.7/dist-packages (from catboost) (0.10.1)\n",
      "Requirement already satisfied: pandas>=0.24.0 in /usr/local/lib/python3.7/dist-packages (from catboost) (1.1.5)\n",
      "Requirement already satisfied: six in /usr/local/lib/python3.7/dist-packages (from catboost) (1.15.0)\n",
      "Requirement already satisfied: plotly in /usr/local/lib/python3.7/dist-packages (from catboost) (4.4.1)\n",
      "Requirement already satisfied: matplotlib in /usr/local/lib/python3.7/dist-packages (from catboost) (3.2.2)\n",
      "Requirement already satisfied: numpy>=1.16.0 in /usr/local/lib/python3.7/dist-packages (from catboost) (1.19.5)\n",
      "Requirement already satisfied: python-dateutil>=2.7.3 in /usr/local/lib/python3.7/dist-packages (from pandas>=0.24.0->catboost) (2.8.2)\n",
      "Requirement already satisfied: pytz>=2017.2 in /usr/local/lib/python3.7/dist-packages (from pandas>=0.24.0->catboost) (2018.9)\n",
      "Requirement already satisfied: pyparsing!=2.0.4,!=2.1.2,!=2.1.6,>=2.0.1 in /usr/local/lib/python3.7/dist-packages (from matplotlib->catboost) (3.0.6)\n",
      "Requirement already satisfied: kiwisolver>=1.0.1 in /usr/local/lib/python3.7/dist-packages (from matplotlib->catboost) (1.3.2)\n",
      "Requirement already satisfied: cycler>=0.10 in /usr/local/lib/python3.7/dist-packages (from matplotlib->catboost) (0.11.0)\n",
      "Requirement already satisfied: retrying>=1.3.3 in /usr/local/lib/python3.7/dist-packages (from plotly->catboost) (1.3.3)\n"
     ]
    }
   ],
   "source": [
    "import pandas as pd\n",
    "import numpy as np\n",
    "from sklearn.linear_model import LinearRegression\n",
    "from sklearn.dummy import DummyRegressor\n",
    "from sklearn.metrics import mean_absolute_error\n",
    "from sklearn.model_selection import train_test_split\n",
    "from sklearn.model_selection import cross_val_score\n",
    "from sklearn.preprocessing import StandardScaler\n",
    "from sklearn.model_selection import GridSearchCV\n",
    "import matplotlib\n",
    "import matplotlib.pyplot as plt\n",
    "import seaborn as sns\n",
    "TIME = '%Y-%m-%d %H:%M:%S'\n",
    "! pip install catboost\n",
    "from catboost import CatBoostRegressor\n",
    "import lightgbm as lgb"
   ]
  },
  {
   "cell_type": "code",
   "execution_count": 3,
   "metadata": {
    "executionInfo": {
     "elapsed": 18,
     "status": "ok",
     "timestamp": 1637915181650,
     "user": {
      "displayName": "Евгений Макаров",
      "photoUrl": "https://lh3.googleusercontent.com/a/default-user=s64",
      "userId": "14572979811838672928"
     },
     "user_tz": -180
    },
    "id": "Sb4S7hddPmHg"
   },
   "outputs": [],
   "source": [
    "df_arc = pd.read_csv('/content/drive/MyDrive/Colab/Prom/data_arc.csv')\n",
    "df_bulk = pd.read_csv('/content/drive/MyDrive/Colab/Prom/data_bulk.csv')\n",
    "df_bulk_time = pd.read_csv('/content/drive/MyDrive/Colab/Prom/data_bulk_time.csv')\n",
    "df_gas = pd.read_csv('/content/drive/MyDrive/Colab/Prom/data_gas.csv')\n",
    "df_temp = pd.read_csv('/content/drive/MyDrive/Colab/Prom/data_temp.csv')\n",
    "df_wire = pd.read_csv('/content/drive/MyDrive/Colab/Prom/data_wire.csv')\n",
    "df_wire_time = pd.read_csv('/content/drive/MyDrive/Colab/Prom/data_wire_time.csv')"
   ]
  },
  {
   "cell_type": "code",
   "execution_count": 4,
   "metadata": {
    "executionInfo": {
     "elapsed": 18,
     "status": "ok",
     "timestamp": 1637915181652,
     "user": {
      "displayName": "Евгений Макаров",
      "photoUrl": "https://lh3.googleusercontent.com/a/default-user=s64",
      "userId": "14572979811838672928"
     },
     "user_tz": -180
    },
    "id": "J9gHy1Bps8SU"
   },
   "outputs": [],
   "source": [
    "#df_arc = pd.read_csv('/datasets/final_steel/data_arc.csv')\n",
    "#df_bulk = pd.read_csv('/datasets/final_steel/data_bulk.csv')\n",
    "#df_bulk_time = pd.read_csv('/datasets/final_steel/data_bulk_time.csv')\n",
    "#df_gas = pd.read_csv('/datasets/final_steel/data_gas.csv')\n",
    "#df_temp = pd.read_csv('/datasets/final_steel/data_temp.csv')\n",
    "#df_wire = pd.read_csv('/datasets/final_steel/data_wire.csv')\n",
    "#df_wire_time = pd.read_csv('/datasets/final_steel/data_wire_time.csv')"
   ]
  },
  {
   "cell_type": "markdown",
   "metadata": {
    "id": "YfouO0k0uNOJ"
   },
   "source": [
    "#### data_arc.csv — данные об электродах  \n",
    "В данной таблице указаны точки начала конца нагрева металла дугой, а также активная и реактивная мощности, потребляемые нагревательными элементами при нагреве."
   ]
  },
  {
   "cell_type": "code",
   "execution_count": 5,
   "metadata": {
    "colab": {
     "base_uri": "https://localhost:8080/",
     "height": 363
    },
    "executionInfo": {
     "elapsed": 590,
     "status": "ok",
     "timestamp": 1637915182226,
     "user": {
      "displayName": "Евгений Макаров",
      "photoUrl": "https://lh3.googleusercontent.com/a/default-user=s64",
      "userId": "14572979811838672928"
     },
     "user_tz": -180
    },
    "id": "AyzSLrc7QcJv",
    "outputId": "bc9dc2c1-90f6-423d-e0fb-10c24d736931"
   },
   "outputs": [
    {
     "data": {
      "text/html": [
       "<div>\n",
       "<style scoped>\n",
       "    .dataframe tbody tr th:only-of-type {\n",
       "        vertical-align: middle;\n",
       "    }\n",
       "\n",
       "    .dataframe tbody tr th {\n",
       "        vertical-align: top;\n",
       "    }\n",
       "\n",
       "    .dataframe thead th {\n",
       "        text-align: right;\n",
       "    }\n",
       "</style>\n",
       "<table border=\"1\" class=\"dataframe\">\n",
       "  <thead>\n",
       "    <tr style=\"text-align: right;\">\n",
       "      <th></th>\n",
       "      <th>key</th>\n",
       "      <th>Начало нагрева дугой</th>\n",
       "      <th>Конец нагрева дугой</th>\n",
       "      <th>Активная мощность</th>\n",
       "      <th>Реактивная мощность</th>\n",
       "    </tr>\n",
       "  </thead>\n",
       "  <tbody>\n",
       "    <tr>\n",
       "      <th>0</th>\n",
       "      <td>1</td>\n",
       "      <td>2019-05-03 11:02:14</td>\n",
       "      <td>2019-05-03 11:06:02</td>\n",
       "      <td>0.976059</td>\n",
       "      <td>0.687084</td>\n",
       "    </tr>\n",
       "    <tr>\n",
       "      <th>1</th>\n",
       "      <td>1</td>\n",
       "      <td>2019-05-03 11:07:28</td>\n",
       "      <td>2019-05-03 11:10:33</td>\n",
       "      <td>0.805607</td>\n",
       "      <td>0.520285</td>\n",
       "    </tr>\n",
       "    <tr>\n",
       "      <th>2</th>\n",
       "      <td>1</td>\n",
       "      <td>2019-05-03 11:11:44</td>\n",
       "      <td>2019-05-03 11:14:36</td>\n",
       "      <td>0.744363</td>\n",
       "      <td>0.498805</td>\n",
       "    </tr>\n",
       "    <tr>\n",
       "      <th>3</th>\n",
       "      <td>1</td>\n",
       "      <td>2019-05-03 11:18:14</td>\n",
       "      <td>2019-05-03 11:24:19</td>\n",
       "      <td>1.659363</td>\n",
       "      <td>1.062669</td>\n",
       "    </tr>\n",
       "    <tr>\n",
       "      <th>4</th>\n",
       "      <td>1</td>\n",
       "      <td>2019-05-03 11:26:09</td>\n",
       "      <td>2019-05-03 11:28:37</td>\n",
       "      <td>0.692755</td>\n",
       "      <td>0.414397</td>\n",
       "    </tr>\n",
       "    <tr>\n",
       "      <th>5</th>\n",
       "      <td>2</td>\n",
       "      <td>2019-05-03 11:34:14</td>\n",
       "      <td>2019-05-03 11:36:31</td>\n",
       "      <td>0.438063</td>\n",
       "      <td>0.283043</td>\n",
       "    </tr>\n",
       "    <tr>\n",
       "      <th>6</th>\n",
       "      <td>2</td>\n",
       "      <td>2019-05-03 11:38:50</td>\n",
       "      <td>2019-05-03 11:44:28</td>\n",
       "      <td>1.296415</td>\n",
       "      <td>0.892914</td>\n",
       "    </tr>\n",
       "    <tr>\n",
       "      <th>7</th>\n",
       "      <td>2</td>\n",
       "      <td>2019-05-03 11:46:19</td>\n",
       "      <td>2019-05-03 11:48:25</td>\n",
       "      <td>0.490377</td>\n",
       "      <td>0.305281</td>\n",
       "    </tr>\n",
       "    <tr>\n",
       "      <th>8</th>\n",
       "      <td>2</td>\n",
       "      <td>2019-05-03 11:49:48</td>\n",
       "      <td>2019-05-03 11:53:18</td>\n",
       "      <td>0.827743</td>\n",
       "      <td>0.516874</td>\n",
       "    </tr>\n",
       "    <tr>\n",
       "      <th>9</th>\n",
       "      <td>3</td>\n",
       "      <td>2019-05-03 12:06:54</td>\n",
       "      <td>2019-05-03 12:11:34</td>\n",
       "      <td>1.062053</td>\n",
       "      <td>0.671494</td>\n",
       "    </tr>\n",
       "  </tbody>\n",
       "</table>\n",
       "</div>"
      ],
      "text/plain": [
       "   key Начало нагрева дугой  ... Активная мощность  Реактивная мощность\n",
       "0    1  2019-05-03 11:02:14  ...          0.976059             0.687084\n",
       "1    1  2019-05-03 11:07:28  ...          0.805607             0.520285\n",
       "2    1  2019-05-03 11:11:44  ...          0.744363             0.498805\n",
       "3    1  2019-05-03 11:18:14  ...          1.659363             1.062669\n",
       "4    1  2019-05-03 11:26:09  ...          0.692755             0.414397\n",
       "5    2  2019-05-03 11:34:14  ...          0.438063             0.283043\n",
       "6    2  2019-05-03 11:38:50  ...          1.296415             0.892914\n",
       "7    2  2019-05-03 11:46:19  ...          0.490377             0.305281\n",
       "8    2  2019-05-03 11:49:48  ...          0.827743             0.516874\n",
       "9    3  2019-05-03 12:06:54  ...          1.062053             0.671494\n",
       "\n",
       "[10 rows x 5 columns]"
      ]
     },
     "execution_count": 5,
     "metadata": {},
     "output_type": "execute_result"
    }
   ],
   "source": [
    "df_arc.head(10)"
   ]
  },
  {
   "cell_type": "code",
   "execution_count": 6,
   "metadata": {
    "colab": {
     "base_uri": "https://localhost:8080/"
    },
    "executionInfo": {
     "elapsed": 98,
     "status": "ok",
     "timestamp": 1637915182227,
     "user": {
      "displayName": "Евгений Макаров",
      "photoUrl": "https://lh3.googleusercontent.com/a/default-user=s64",
      "userId": "14572979811838672928"
     },
     "user_tz": -180
    },
    "id": "2ChP7r3unqsM",
    "outputId": "bedf4085-0412-4174-dc9a-4b0620371c48"
   },
   "outputs": [
    {
     "name": "stdout",
     "output_type": "stream",
     "text": [
      "<class 'pandas.core.frame.DataFrame'>\n",
      "RangeIndex: 14876 entries, 0 to 14875\n",
      "Data columns (total 5 columns):\n",
      " #   Column                Non-Null Count  Dtype  \n",
      "---  ------                --------------  -----  \n",
      " 0   key                   14876 non-null  int64  \n",
      " 1   Начало нагрева дугой  14876 non-null  object \n",
      " 2   Конец нагрева дугой   14876 non-null  object \n",
      " 3   Активная мощность     14876 non-null  float64\n",
      " 4   Реактивная мощность   14876 non-null  float64\n",
      "dtypes: float64(2), int64(1), object(2)\n",
      "memory usage: 581.2+ KB\n"
     ]
    }
   ],
   "source": [
    "df_arc.info()"
   ]
  },
  {
   "cell_type": "markdown",
   "metadata": {
    "id": "1GSrzk5341Ew"
   },
   "source": [
    "Пропуски в данных отсутствуют.  \n",
    "Построим гистограммы и посмотрим на распределения затраченных мощностей."
   ]
  },
  {
   "cell_type": "code",
   "execution_count": 7,
   "metadata": {
    "colab": {
     "base_uri": "https://localhost:8080/",
     "height": 282
    },
    "executionInfo": {
     "elapsed": 52,
     "status": "ok",
     "timestamp": 1637915182229,
     "user": {
      "displayName": "Евгений Макаров",
      "photoUrl": "https://lh3.googleusercontent.com/a/default-user=s64",
      "userId": "14572979811838672928"
     },
     "user_tz": -180
    },
    "id": "2mvrzI1GOFgs",
    "outputId": "f739e1e8-80e8-4891-9ec9-216447ba30c3"
   },
   "outputs": [
    {
     "data": {
      "text/plain": [
       "<matplotlib.axes._subplots.AxesSubplot at 0x7fe4674cccd0>"
      ]
     },
     "execution_count": 7,
     "metadata": {},
     "output_type": "execute_result"
    },
    {
     "data": {
      "image/png": "[encoded data removed]",
      "text/plain": [
       "<Figure size 432x288 with 1 Axes>"
      ]
     },
     "metadata": {
      "needs_background": "light"
     },
     "output_type": "display_data"
    }
   ],
   "source": [
    "df_arc['Активная мощность'].hist()"
   ]
  },
  {
   "cell_type": "code",
   "execution_count": 8,
   "metadata": {
    "colab": {
     "base_uri": "https://localhost:8080/",
     "height": 282
    },
    "executionInfo": {
     "elapsed": 697,
     "status": "ok",
     "timestamp": 1637915182905,
     "user": {
      "displayName": "Евгений Макаров",
      "photoUrl": "https://lh3.googleusercontent.com/a/default-user=s64",
      "userId": "14572979811838672928"
     },
     "user_tz": -180
    },
    "id": "wod5cmcFOarw",
    "outputId": "9c3d4e37-cb8b-4b7a-80f1-e69fa35a5d91"
   },
   "outputs": [
    {
     "data": {
      "text/plain": [
       "<matplotlib.axes._subplots.AxesSubplot at 0x7fe466f21f90>"
      ]
     },
     "execution_count": 8,
     "metadata": {},
     "output_type": "execute_result"
    },
    {
     "data": {
      "image/png": "[encoded data removed]",
      "text/plain": [
       "<Figure size 432x288 with 1 Axes>"
      ]
     },
     "metadata": {
      "needs_background": "light"
     },
     "output_type": "display_data"
    }
   ],
   "source": [
    "df_arc['Реактивная мощность'].hist()"
   ]
  },
  {
   "cell_type": "markdown",
   "metadata": {
    "id": "kq_dsXdJ46pw"
   },
   "source": [
    "В случае с активной мощностью ситуация нормальная, без выбросов. На графике реактивной мощности мы видим значения ниже 0. Посмотрим на них."
   ]
  },
  {
   "cell_type": "code",
   "execution_count": 9,
   "metadata": {
    "colab": {
     "base_uri": "https://localhost:8080/"
    },
    "executionInfo": {
     "elapsed": 221,
     "status": "ok",
     "timestamp": 1637915182906,
     "user": {
      "displayName": "Евгений Макаров",
      "photoUrl": "https://lh3.googleusercontent.com/a/default-user=s64",
      "userId": "14572979811838672928"
     },
     "user_tz": -180
    },
    "id": "EEp8rFoxEW7Q",
    "outputId": "e2f9a4ca-5d7f-4d77-abcb-fb44f35da0b1"
   },
   "outputs": [
    {
     "data": {
      "text/plain": [
       "9780    -715.504924\n",
       "5596       0.020806\n",
       "2419       0.021154\n",
       "4914       0.022485\n",
       "4633       0.022983\n",
       "            ...    \n",
       "13760      2.335088\n",
       "12424      2.397032\n",
       "9361       2.459959\n",
       "9226       2.504206\n",
       "7799       2.676388\n",
       "Name: Реактивная мощность, Length: 14876, dtype: float64"
      ]
     },
     "execution_count": 9,
     "metadata": {},
     "output_type": "execute_result"
    }
   ],
   "source": [
    "df_arc['Реактивная мощность'].sort_values()"
   ]
  },
  {
   "cell_type": "markdown",
   "metadata": {
    "id": "vKbNL86quKRx"
   },
   "source": [
    "#### data_bulk.csv — данные о подаче сыпучих материалов (объём)  \n",
    "Показывает количество добавленных сыпучих материалов разного типа (от 1 до 15)."
   ]
  },
  {
   "cell_type": "code",
   "execution_count": 10,
   "metadata": {
    "colab": {
     "base_uri": "https://localhost:8080/",
     "height": 206
    },
    "executionInfo": {
     "elapsed": 157,
     "status": "ok",
     "timestamp": 1637915182907,
     "user": {
      "displayName": "Евгений Макаров",
      "photoUrl": "https://lh3.googleusercontent.com/a/default-user=s64",
      "userId": "14572979811838672928"
     },
     "user_tz": -180
    },
    "id": "AfmV4ReEQ_TG",
    "outputId": "4069380f-5f94-4cf8-8a16-b0062d36be12"
   },
   "outputs": [
    {
     "data": {
      "text/html": [
       "<div>\n",
       "<style scoped>\n",
       "    .dataframe tbody tr th:only-of-type {\n",
       "        vertical-align: middle;\n",
       "    }\n",
       "\n",
       "    .dataframe tbody tr th {\n",
       "        vertical-align: top;\n",
       "    }\n",
       "\n",
       "    .dataframe thead th {\n",
       "        text-align: right;\n",
       "    }\n",
       "</style>\n",
       "<table border=\"1\" class=\"dataframe\">\n",
       "  <thead>\n",
       "    <tr style=\"text-align: right;\">\n",
       "      <th></th>\n",
       "      <th>key</th>\n",
       "      <th>Bulk 1</th>\n",
       "      <th>Bulk 2</th>\n",
       "      <th>Bulk 3</th>\n",
       "      <th>Bulk 4</th>\n",
       "      <th>Bulk 5</th>\n",
       "      <th>Bulk 6</th>\n",
       "      <th>Bulk 7</th>\n",
       "      <th>Bulk 8</th>\n",
       "      <th>Bulk 9</th>\n",
       "      <th>Bulk 10</th>\n",
       "      <th>Bulk 11</th>\n",
       "      <th>Bulk 12</th>\n",
       "      <th>Bulk 13</th>\n",
       "      <th>Bulk 14</th>\n",
       "      <th>Bulk 15</th>\n",
       "    </tr>\n",
       "  </thead>\n",
       "  <tbody>\n",
       "    <tr>\n",
       "      <th>0</th>\n",
       "      <td>1</td>\n",
       "      <td>NaN</td>\n",
       "      <td>NaN</td>\n",
       "      <td>NaN</td>\n",
       "      <td>43.0</td>\n",
       "      <td>NaN</td>\n",
       "      <td>NaN</td>\n",
       "      <td>NaN</td>\n",
       "      <td>NaN</td>\n",
       "      <td>NaN</td>\n",
       "      <td>NaN</td>\n",
       "      <td>NaN</td>\n",
       "      <td>206.0</td>\n",
       "      <td>NaN</td>\n",
       "      <td>150.0</td>\n",
       "      <td>154.0</td>\n",
       "    </tr>\n",
       "    <tr>\n",
       "      <th>1</th>\n",
       "      <td>2</td>\n",
       "      <td>NaN</td>\n",
       "      <td>NaN</td>\n",
       "      <td>NaN</td>\n",
       "      <td>73.0</td>\n",
       "      <td>NaN</td>\n",
       "      <td>NaN</td>\n",
       "      <td>NaN</td>\n",
       "      <td>NaN</td>\n",
       "      <td>NaN</td>\n",
       "      <td>NaN</td>\n",
       "      <td>NaN</td>\n",
       "      <td>206.0</td>\n",
       "      <td>NaN</td>\n",
       "      <td>149.0</td>\n",
       "      <td>154.0</td>\n",
       "    </tr>\n",
       "    <tr>\n",
       "      <th>2</th>\n",
       "      <td>3</td>\n",
       "      <td>NaN</td>\n",
       "      <td>NaN</td>\n",
       "      <td>NaN</td>\n",
       "      <td>34.0</td>\n",
       "      <td>NaN</td>\n",
       "      <td>NaN</td>\n",
       "      <td>NaN</td>\n",
       "      <td>NaN</td>\n",
       "      <td>NaN</td>\n",
       "      <td>NaN</td>\n",
       "      <td>NaN</td>\n",
       "      <td>205.0</td>\n",
       "      <td>NaN</td>\n",
       "      <td>152.0</td>\n",
       "      <td>153.0</td>\n",
       "    </tr>\n",
       "    <tr>\n",
       "      <th>3</th>\n",
       "      <td>4</td>\n",
       "      <td>NaN</td>\n",
       "      <td>NaN</td>\n",
       "      <td>NaN</td>\n",
       "      <td>81.0</td>\n",
       "      <td>NaN</td>\n",
       "      <td>NaN</td>\n",
       "      <td>NaN</td>\n",
       "      <td>NaN</td>\n",
       "      <td>NaN</td>\n",
       "      <td>NaN</td>\n",
       "      <td>NaN</td>\n",
       "      <td>207.0</td>\n",
       "      <td>NaN</td>\n",
       "      <td>153.0</td>\n",
       "      <td>154.0</td>\n",
       "    </tr>\n",
       "    <tr>\n",
       "      <th>4</th>\n",
       "      <td>5</td>\n",
       "      <td>NaN</td>\n",
       "      <td>NaN</td>\n",
       "      <td>NaN</td>\n",
       "      <td>78.0</td>\n",
       "      <td>NaN</td>\n",
       "      <td>NaN</td>\n",
       "      <td>NaN</td>\n",
       "      <td>NaN</td>\n",
       "      <td>NaN</td>\n",
       "      <td>NaN</td>\n",
       "      <td>NaN</td>\n",
       "      <td>203.0</td>\n",
       "      <td>NaN</td>\n",
       "      <td>151.0</td>\n",
       "      <td>152.0</td>\n",
       "    </tr>\n",
       "  </tbody>\n",
       "</table>\n",
       "</div>"
      ],
      "text/plain": [
       "   key  Bulk 1  Bulk 2  Bulk 3  ...  Bulk 12  Bulk 13  Bulk 14  Bulk 15\n",
       "0    1     NaN     NaN     NaN  ...    206.0      NaN    150.0    154.0\n",
       "1    2     NaN     NaN     NaN  ...    206.0      NaN    149.0    154.0\n",
       "2    3     NaN     NaN     NaN  ...    205.0      NaN    152.0    153.0\n",
       "3    4     NaN     NaN     NaN  ...    207.0      NaN    153.0    154.0\n",
       "4    5     NaN     NaN     NaN  ...    203.0      NaN    151.0    152.0\n",
       "\n",
       "[5 rows x 16 columns]"
      ]
     },
     "execution_count": 10,
     "metadata": {},
     "output_type": "execute_result"
    }
   ],
   "source": [
    "df_bulk.head()"
   ]
  },
  {
   "cell_type": "code",
   "execution_count": 11,
   "metadata": {
    "colab": {
     "base_uri": "https://localhost:8080/"
    },
    "executionInfo": {
     "elapsed": 157,
     "status": "ok",
     "timestamp": 1637915182908,
     "user": {
      "displayName": "Евгений Макаров",
      "photoUrl": "https://lh3.googleusercontent.com/a/default-user=s64",
      "userId": "14572979811838672928"
     },
     "user_tz": -180
    },
    "id": "NpEO4CNmtTGK",
    "outputId": "c83c1ae9-5177-47e9-d671-3d4401d7495a"
   },
   "outputs": [
    {
     "name": "stdout",
     "output_type": "stream",
     "text": [
      "<class 'pandas.core.frame.DataFrame'>\n",
      "RangeIndex: 3129 entries, 0 to 3128\n",
      "Data columns (total 16 columns):\n",
      " #   Column   Non-Null Count  Dtype  \n",
      "---  ------   --------------  -----  \n",
      " 0   key      3129 non-null   int64  \n",
      " 1   Bulk 1   252 non-null    float64\n",
      " 2   Bulk 2   22 non-null     float64\n",
      " 3   Bulk 3   1298 non-null   float64\n",
      " 4   Bulk 4   1014 non-null   float64\n",
      " 5   Bulk 5   77 non-null     float64\n",
      " 6   Bulk 6   576 non-null    float64\n",
      " 7   Bulk 7   25 non-null     float64\n",
      " 8   Bulk 8   1 non-null      float64\n",
      " 9   Bulk 9   19 non-null     float64\n",
      " 10  Bulk 10  176 non-null    float64\n",
      " 11  Bulk 11  177 non-null    float64\n",
      " 12  Bulk 12  2450 non-null   float64\n",
      " 13  Bulk 13  18 non-null     float64\n",
      " 14  Bulk 14  2806 non-null   float64\n",
      " 15  Bulk 15  2248 non-null   float64\n",
      "dtypes: float64(15), int64(1)\n",
      "memory usage: 391.2 KB\n"
     ]
    }
   ],
   "source": [
    "df_bulk.info()"
   ]
  },
  {
   "cell_type": "markdown",
   "metadata": {
    "id": "iCn9yWpx5hPn"
   },
   "source": [
    "Пропуски данных говорят о том, что данный тип сыпучего материала не был добавлен. В дальнейшем возможно заменить на 0.  \n",
    "Также нужно рассмотреть способ суммировать все типы материалов в один признак."
   ]
  },
  {
   "cell_type": "markdown",
   "metadata": {
    "id": "pD3ykoCsuHA5"
   },
   "source": [
    "#### data_bulk_time.csv — данные о подаче сыпучих материалов (время)"
   ]
  },
  {
   "cell_type": "code",
   "execution_count": 12,
   "metadata": {
    "colab": {
     "base_uri": "https://localhost:8080/",
     "height": 310
    },
    "executionInfo": {
     "elapsed": 115,
     "status": "ok",
     "timestamp": 1637915182909,
     "user": {
      "displayName": "Евгений Макаров",
      "photoUrl": "https://lh3.googleusercontent.com/a/default-user=s64",
      "userId": "14572979811838672928"
     },
     "user_tz": -180
    },
    "id": "L5RLW3QVm1VC",
    "outputId": "18db1247-03b3-4bc3-ece7-1d56e203739c"
   },
   "outputs": [
    {
     "data": {
      "text/html": [
       "<div>\n",
       "<style scoped>\n",
       "    .dataframe tbody tr th:only-of-type {\n",
       "        vertical-align: middle;\n",
       "    }\n",
       "\n",
       "    .dataframe tbody tr th {\n",
       "        vertical-align: top;\n",
       "    }\n",
       "\n",
       "    .dataframe thead th {\n",
       "        text-align: right;\n",
       "    }\n",
       "</style>\n",
       "<table border=\"1\" class=\"dataframe\">\n",
       "  <thead>\n",
       "    <tr style=\"text-align: right;\">\n",
       "      <th></th>\n",
       "      <th>key</th>\n",
       "      <th>Bulk 1</th>\n",
       "      <th>Bulk 2</th>\n",
       "      <th>Bulk 3</th>\n",
       "      <th>Bulk 4</th>\n",
       "      <th>Bulk 5</th>\n",
       "      <th>Bulk 6</th>\n",
       "      <th>Bulk 7</th>\n",
       "      <th>Bulk 8</th>\n",
       "      <th>Bulk 9</th>\n",
       "      <th>Bulk 10</th>\n",
       "      <th>Bulk 11</th>\n",
       "      <th>Bulk 12</th>\n",
       "      <th>Bulk 13</th>\n",
       "      <th>Bulk 14</th>\n",
       "      <th>Bulk 15</th>\n",
       "    </tr>\n",
       "  </thead>\n",
       "  <tbody>\n",
       "    <tr>\n",
       "      <th>0</th>\n",
       "      <td>1</td>\n",
       "      <td>NaN</td>\n",
       "      <td>NaN</td>\n",
       "      <td>NaN</td>\n",
       "      <td>2019-05-03 11:21:30</td>\n",
       "      <td>NaN</td>\n",
       "      <td>NaN</td>\n",
       "      <td>NaN</td>\n",
       "      <td>NaN</td>\n",
       "      <td>NaN</td>\n",
       "      <td>NaN</td>\n",
       "      <td>NaN</td>\n",
       "      <td>2019-05-03 11:03:52</td>\n",
       "      <td>NaN</td>\n",
       "      <td>2019-05-03 11:03:52</td>\n",
       "      <td>2019-05-03 11:03:52</td>\n",
       "    </tr>\n",
       "    <tr>\n",
       "      <th>1</th>\n",
       "      <td>2</td>\n",
       "      <td>NaN</td>\n",
       "      <td>NaN</td>\n",
       "      <td>NaN</td>\n",
       "      <td>2019-05-03 11:46:38</td>\n",
       "      <td>NaN</td>\n",
       "      <td>NaN</td>\n",
       "      <td>NaN</td>\n",
       "      <td>NaN</td>\n",
       "      <td>NaN</td>\n",
       "      <td>NaN</td>\n",
       "      <td>NaN</td>\n",
       "      <td>2019-05-03 11:40:20</td>\n",
       "      <td>NaN</td>\n",
       "      <td>2019-05-03 11:40:20</td>\n",
       "      <td>2019-05-03 11:40:20</td>\n",
       "    </tr>\n",
       "    <tr>\n",
       "      <th>2</th>\n",
       "      <td>3</td>\n",
       "      <td>NaN</td>\n",
       "      <td>NaN</td>\n",
       "      <td>NaN</td>\n",
       "      <td>2019-05-03 12:31:06</td>\n",
       "      <td>NaN</td>\n",
       "      <td>NaN</td>\n",
       "      <td>NaN</td>\n",
       "      <td>NaN</td>\n",
       "      <td>NaN</td>\n",
       "      <td>NaN</td>\n",
       "      <td>NaN</td>\n",
       "      <td>2019-05-03 12:09:40</td>\n",
       "      <td>NaN</td>\n",
       "      <td>2019-05-03 12:09:40</td>\n",
       "      <td>2019-05-03 12:09:40</td>\n",
       "    </tr>\n",
       "    <tr>\n",
       "      <th>3</th>\n",
       "      <td>4</td>\n",
       "      <td>NaN</td>\n",
       "      <td>NaN</td>\n",
       "      <td>NaN</td>\n",
       "      <td>2019-05-03 12:48:43</td>\n",
       "      <td>NaN</td>\n",
       "      <td>NaN</td>\n",
       "      <td>NaN</td>\n",
       "      <td>NaN</td>\n",
       "      <td>NaN</td>\n",
       "      <td>NaN</td>\n",
       "      <td>NaN</td>\n",
       "      <td>2019-05-03 12:41:24</td>\n",
       "      <td>NaN</td>\n",
       "      <td>2019-05-03 12:41:24</td>\n",
       "      <td>2019-05-03 12:41:24</td>\n",
       "    </tr>\n",
       "    <tr>\n",
       "      <th>4</th>\n",
       "      <td>5</td>\n",
       "      <td>NaN</td>\n",
       "      <td>NaN</td>\n",
       "      <td>NaN</td>\n",
       "      <td>2019-05-03 13:18:50</td>\n",
       "      <td>NaN</td>\n",
       "      <td>NaN</td>\n",
       "      <td>NaN</td>\n",
       "      <td>NaN</td>\n",
       "      <td>NaN</td>\n",
       "      <td>NaN</td>\n",
       "      <td>NaN</td>\n",
       "      <td>2019-05-03 13:12:56</td>\n",
       "      <td>NaN</td>\n",
       "      <td>2019-05-03 13:12:56</td>\n",
       "      <td>2019-05-03 13:12:56</td>\n",
       "    </tr>\n",
       "  </tbody>\n",
       "</table>\n",
       "</div>"
      ],
      "text/plain": [
       "   key Bulk 1 Bulk 2  ... Bulk 13              Bulk 14              Bulk 15\n",
       "0    1    NaN    NaN  ...     NaN  2019-05-03 11:03:52  2019-05-03 11:03:52\n",
       "1    2    NaN    NaN  ...     NaN  2019-05-03 11:40:20  2019-05-03 11:40:20\n",
       "2    3    NaN    NaN  ...     NaN  2019-05-03 12:09:40  2019-05-03 12:09:40\n",
       "3    4    NaN    NaN  ...     NaN  2019-05-03 12:41:24  2019-05-03 12:41:24\n",
       "4    5    NaN    NaN  ...     NaN  2019-05-03 13:12:56  2019-05-03 13:12:56\n",
       "\n",
       "[5 rows x 16 columns]"
      ]
     },
     "execution_count": 12,
     "metadata": {},
     "output_type": "execute_result"
    }
   ],
   "source": [
    "df_bulk_time.head()"
   ]
  },
  {
   "cell_type": "code",
   "execution_count": 13,
   "metadata": {
    "colab": {
     "base_uri": "https://localhost:8080/"
    },
    "executionInfo": {
     "elapsed": 115,
     "status": "ok",
     "timestamp": 1637915182910,
     "user": {
      "displayName": "Евгений Макаров",
      "photoUrl": "https://lh3.googleusercontent.com/a/default-user=s64",
      "userId": "14572979811838672928"
     },
     "user_tz": -180
    },
    "id": "EBCaZM1CtVlA",
    "outputId": "ca6cb6da-eeac-43ed-e119-24e77529509f"
   },
   "outputs": [
    {
     "name": "stdout",
     "output_type": "stream",
     "text": [
      "<class 'pandas.core.frame.DataFrame'>\n",
      "RangeIndex: 3129 entries, 0 to 3128\n",
      "Data columns (total 16 columns):\n",
      " #   Column   Non-Null Count  Dtype \n",
      "---  ------   --------------  ----- \n",
      " 0   key      3129 non-null   int64 \n",
      " 1   Bulk 1   252 non-null    object\n",
      " 2   Bulk 2   22 non-null     object\n",
      " 3   Bulk 3   1298 non-null   object\n",
      " 4   Bulk 4   1014 non-null   object\n",
      " 5   Bulk 5   77 non-null     object\n",
      " 6   Bulk 6   576 non-null    object\n",
      " 7   Bulk 7   25 non-null     object\n",
      " 8   Bulk 8   1 non-null      object\n",
      " 9   Bulk 9   19 non-null     object\n",
      " 10  Bulk 10  176 non-null    object\n",
      " 11  Bulk 11  177 non-null    object\n",
      " 12  Bulk 12  2450 non-null   object\n",
      " 13  Bulk 13  18 non-null     object\n",
      " 14  Bulk 14  2806 non-null   object\n",
      " 15  Bulk 15  2248 non-null   object\n",
      "dtypes: int64(1), object(15)\n",
      "memory usage: 391.2+ KB\n"
     ]
    }
   ],
   "source": [
    "df_bulk_time.info()"
   ]
  },
  {
   "cell_type": "markdown",
   "metadata": {
    "id": "ZCWq-5Mw5rMb"
   },
   "source": [
    "Значения соответствуют времени подачи того или иного сыпучего материала. Тип данных - строка, требует замены на временной тип."
   ]
  },
  {
   "cell_type": "markdown",
   "metadata": {
    "id": "EAhJzbmPuDiH"
   },
   "source": [
    "#### data_gas.csv — данные о продувке сплава газом  \n",
    "Показывает количество инертного газа для каждой партии, которым продувают расплавленный металл. "
   ]
  },
  {
   "cell_type": "code",
   "execution_count": 14,
   "metadata": {
    "colab": {
     "base_uri": "https://localhost:8080/",
     "height": 206
    },
    "executionInfo": {
     "elapsed": 87,
     "status": "ok",
     "timestamp": 1637915182914,
     "user": {
      "displayName": "Евгений Макаров",
      "photoUrl": "https://lh3.googleusercontent.com/a/default-user=s64",
      "userId": "14572979811838672928"
     },
     "user_tz": -180
    },
    "id": "Ez4trx1Xm1P_",
    "outputId": "cee3aa74-0ad6-4f31-efe6-6e7f5704859c"
   },
   "outputs": [
    {
     "data": {
      "text/html": [
       "<div>\n",
       "<style scoped>\n",
       "    .dataframe tbody tr th:only-of-type {\n",
       "        vertical-align: middle;\n",
       "    }\n",
       "\n",
       "    .dataframe tbody tr th {\n",
       "        vertical-align: top;\n",
       "    }\n",
       "\n",
       "    .dataframe thead th {\n",
       "        text-align: right;\n",
       "    }\n",
       "</style>\n",
       "<table border=\"1\" class=\"dataframe\">\n",
       "  <thead>\n",
       "    <tr style=\"text-align: right;\">\n",
       "      <th></th>\n",
       "      <th>key</th>\n",
       "      <th>Газ 1</th>\n",
       "    </tr>\n",
       "  </thead>\n",
       "  <tbody>\n",
       "    <tr>\n",
       "      <th>0</th>\n",
       "      <td>1</td>\n",
       "      <td>29.749986</td>\n",
       "    </tr>\n",
       "    <tr>\n",
       "      <th>1</th>\n",
       "      <td>2</td>\n",
       "      <td>12.555561</td>\n",
       "    </tr>\n",
       "    <tr>\n",
       "      <th>2</th>\n",
       "      <td>3</td>\n",
       "      <td>28.554793</td>\n",
       "    </tr>\n",
       "    <tr>\n",
       "      <th>3</th>\n",
       "      <td>4</td>\n",
       "      <td>18.841219</td>\n",
       "    </tr>\n",
       "    <tr>\n",
       "      <th>4</th>\n",
       "      <td>5</td>\n",
       "      <td>5.413692</td>\n",
       "    </tr>\n",
       "  </tbody>\n",
       "</table>\n",
       "</div>"
      ],
      "text/plain": [
       "   key      Газ 1\n",
       "0    1  29.749986\n",
       "1    2  12.555561\n",
       "2    3  28.554793\n",
       "3    4  18.841219\n",
       "4    5   5.413692"
      ]
     },
     "execution_count": 14,
     "metadata": {},
     "output_type": "execute_result"
    }
   ],
   "source": [
    "df_gas.head()"
   ]
  },
  {
   "cell_type": "code",
   "execution_count": 15,
   "metadata": {
    "colab": {
     "base_uri": "https://localhost:8080/"
    },
    "executionInfo": {
     "elapsed": 813,
     "status": "ok",
     "timestamp": 1637915183643,
     "user": {
      "displayName": "Евгений Макаров",
      "photoUrl": "https://lh3.googleusercontent.com/a/default-user=s64",
      "userId": "14572979811838672928"
     },
     "user_tz": -180
    },
    "id": "zYUMbDmStZUg",
    "outputId": "2caf4ac0-71b7-4fe3-eff8-90e5b48bc84c"
   },
   "outputs": [
    {
     "name": "stdout",
     "output_type": "stream",
     "text": [
      "<class 'pandas.core.frame.DataFrame'>\n",
      "RangeIndex: 3239 entries, 0 to 3238\n",
      "Data columns (total 2 columns):\n",
      " #   Column  Non-Null Count  Dtype  \n",
      "---  ------  --------------  -----  \n",
      " 0   key     3239 non-null   int64  \n",
      " 1   Газ 1   3239 non-null   float64\n",
      "dtypes: float64(1), int64(1)\n",
      "memory usage: 50.7 KB\n"
     ]
    }
   ],
   "source": [
    "df_gas.info()"
   ]
  },
  {
   "cell_type": "code",
   "execution_count": 16,
   "metadata": {
    "colab": {
     "base_uri": "https://localhost:8080/",
     "height": 282
    },
    "executionInfo": {
     "elapsed": 139,
     "status": "ok",
     "timestamp": 1637915183650,
     "user": {
      "displayName": "Евгений Макаров",
      "photoUrl": "https://lh3.googleusercontent.com/a/default-user=s64",
      "userId": "14572979811838672928"
     },
     "user_tz": -180
    },
    "id": "LfOC3LoiCpBW",
    "outputId": "31d17c9a-8bd3-4ff3-8fbd-eb7fd15942f0"
   },
   "outputs": [
    {
     "data": {
      "text/plain": [
       "<matplotlib.axes._subplots.AxesSubplot at 0x7fe466eb4dd0>"
      ]
     },
     "execution_count": 16,
     "metadata": {},
     "output_type": "execute_result"
    },
    {
     "data": {
      "image/png": "[encoded data removed]",
      "text/plain": [
       "<Figure size 432x288 with 1 Axes>"
      ]
     },
     "metadata": {
      "needs_background": "light"
     },
     "output_type": "display_data"
    }
   ],
   "source": [
    "df_gas['Газ 1'].hist()"
   ]
  },
  {
   "cell_type": "markdown",
   "metadata": {
    "id": "ewsr05XS6UxF"
   },
   "source": [
    "Пропуски в данных отсутствуют, обработка требуется для аномальных значений."
   ]
  },
  {
   "cell_type": "markdown",
   "metadata": {
    "id": "AEZzCGzgt-fZ"
   },
   "source": [
    "#### data_temp.csv — результаты измерения температуры\n",
    "Таблица показывает время замера температуры и само ее значение.  \n",
    "В данном проекте целевым признаком является последнее значение температуры для каждой партии товара."
   ]
  },
  {
   "cell_type": "code",
   "execution_count": 17,
   "metadata": {
    "colab": {
     "base_uri": "https://localhost:8080/",
     "height": 676
    },
    "executionInfo": {
     "elapsed": 122,
     "status": "ok",
     "timestamp": 1637915183651,
     "user": {
      "displayName": "Евгений Макаров",
      "photoUrl": "https://lh3.googleusercontent.com/a/default-user=s64",
      "userId": "14572979811838672928"
     },
     "user_tz": -180
    },
    "id": "4bko6xvjm1MR",
    "outputId": "052ac962-a4ce-447f-8924-06329443bd5e"
   },
   "outputs": [
    {
     "data": {
      "text/html": [
       "<div>\n",
       "<style scoped>\n",
       "    .dataframe tbody tr th:only-of-type {\n",
       "        vertical-align: middle;\n",
       "    }\n",
       "\n",
       "    .dataframe tbody tr th {\n",
       "        vertical-align: top;\n",
       "    }\n",
       "\n",
       "    .dataframe thead th {\n",
       "        text-align: right;\n",
       "    }\n",
       "</style>\n",
       "<table border=\"1\" class=\"dataframe\">\n",
       "  <thead>\n",
       "    <tr style=\"text-align: right;\">\n",
       "      <th></th>\n",
       "      <th>key</th>\n",
       "      <th>Время замера</th>\n",
       "      <th>Температура</th>\n",
       "    </tr>\n",
       "  </thead>\n",
       "  <tbody>\n",
       "    <tr>\n",
       "      <th>0</th>\n",
       "      <td>1</td>\n",
       "      <td>2019-05-03 11:16:18</td>\n",
       "      <td>1571.0</td>\n",
       "    </tr>\n",
       "    <tr>\n",
       "      <th>1</th>\n",
       "      <td>1</td>\n",
       "      <td>2019-05-03 11:25:53</td>\n",
       "      <td>1604.0</td>\n",
       "    </tr>\n",
       "    <tr>\n",
       "      <th>2</th>\n",
       "      <td>1</td>\n",
       "      <td>2019-05-03 11:29:11</td>\n",
       "      <td>1618.0</td>\n",
       "    </tr>\n",
       "    <tr>\n",
       "      <th>3</th>\n",
       "      <td>1</td>\n",
       "      <td>2019-05-03 11:30:01</td>\n",
       "      <td>1601.0</td>\n",
       "    </tr>\n",
       "    <tr>\n",
       "      <th>4</th>\n",
       "      <td>1</td>\n",
       "      <td>2019-05-03 11:30:39</td>\n",
       "      <td>1613.0</td>\n",
       "    </tr>\n",
       "    <tr>\n",
       "      <th>5</th>\n",
       "      <td>2</td>\n",
       "      <td>2019-05-03 11:37:27</td>\n",
       "      <td>1581.0</td>\n",
       "    </tr>\n",
       "    <tr>\n",
       "      <th>6</th>\n",
       "      <td>2</td>\n",
       "      <td>2019-05-03 11:38:00</td>\n",
       "      <td>1577.0</td>\n",
       "    </tr>\n",
       "    <tr>\n",
       "      <th>7</th>\n",
       "      <td>2</td>\n",
       "      <td>2019-05-03 11:49:38</td>\n",
       "      <td>1589.0</td>\n",
       "    </tr>\n",
       "    <tr>\n",
       "      <th>8</th>\n",
       "      <td>2</td>\n",
       "      <td>2019-05-03 11:55:50</td>\n",
       "      <td>1604.0</td>\n",
       "    </tr>\n",
       "    <tr>\n",
       "      <th>9</th>\n",
       "      <td>2</td>\n",
       "      <td>2019-05-03 11:58:24</td>\n",
       "      <td>1608.0</td>\n",
       "    </tr>\n",
       "    <tr>\n",
       "      <th>10</th>\n",
       "      <td>2</td>\n",
       "      <td>2019-05-03 11:59:12</td>\n",
       "      <td>1602.0</td>\n",
       "    </tr>\n",
       "    <tr>\n",
       "      <th>11</th>\n",
       "      <td>3</td>\n",
       "      <td>2019-05-03 12:13:17</td>\n",
       "      <td>1596.0</td>\n",
       "    </tr>\n",
       "    <tr>\n",
       "      <th>12</th>\n",
       "      <td>3</td>\n",
       "      <td>2019-05-03 12:18:36</td>\n",
       "      <td>1597.0</td>\n",
       "    </tr>\n",
       "    <tr>\n",
       "      <th>13</th>\n",
       "      <td>3</td>\n",
       "      <td>2019-05-03 12:25:06</td>\n",
       "      <td>1598.0</td>\n",
       "    </tr>\n",
       "    <tr>\n",
       "      <th>14</th>\n",
       "      <td>3</td>\n",
       "      <td>2019-05-03 12:30:48</td>\n",
       "      <td>1599.0</td>\n",
       "    </tr>\n",
       "    <tr>\n",
       "      <th>15</th>\n",
       "      <td>3</td>\n",
       "      <td>2019-05-03 12:34:57</td>\n",
       "      <td>1599.0</td>\n",
       "    </tr>\n",
       "    <tr>\n",
       "      <th>16</th>\n",
       "      <td>4</td>\n",
       "      <td>2019-05-03 12:52:57</td>\n",
       "      <td>1601.0</td>\n",
       "    </tr>\n",
       "    <tr>\n",
       "      <th>17</th>\n",
       "      <td>4</td>\n",
       "      <td>2019-05-03 12:58:43</td>\n",
       "      <td>1623.0</td>\n",
       "    </tr>\n",
       "    <tr>\n",
       "      <th>18</th>\n",
       "      <td>4</td>\n",
       "      <td>2019-05-03 12:59:25</td>\n",
       "      <td>1625.0</td>\n",
       "    </tr>\n",
       "    <tr>\n",
       "      <th>19</th>\n",
       "      <td>5</td>\n",
       "      <td>2019-05-03 13:23:19</td>\n",
       "      <td>1576.0</td>\n",
       "    </tr>\n",
       "  </tbody>\n",
       "</table>\n",
       "</div>"
      ],
      "text/plain": [
       "    key         Время замера  Температура\n",
       "0     1  2019-05-03 11:16:18       1571.0\n",
       "1     1  2019-05-03 11:25:53       1604.0\n",
       "2     1  2019-05-03 11:29:11       1618.0\n",
       "3     1  2019-05-03 11:30:01       1601.0\n",
       "4     1  2019-05-03 11:30:39       1613.0\n",
       "5     2  2019-05-03 11:37:27       1581.0\n",
       "6     2  2019-05-03 11:38:00       1577.0\n",
       "7     2  2019-05-03 11:49:38       1589.0\n",
       "8     2  2019-05-03 11:55:50       1604.0\n",
       "9     2  2019-05-03 11:58:24       1608.0\n",
       "10    2  2019-05-03 11:59:12       1602.0\n",
       "11    3  2019-05-03 12:13:17       1596.0\n",
       "12    3  2019-05-03 12:18:36       1597.0\n",
       "13    3  2019-05-03 12:25:06       1598.0\n",
       "14    3  2019-05-03 12:30:48       1599.0\n",
       "15    3  2019-05-03 12:34:57       1599.0\n",
       "16    4  2019-05-03 12:52:57       1601.0\n",
       "17    4  2019-05-03 12:58:43       1623.0\n",
       "18    4  2019-05-03 12:59:25       1625.0\n",
       "19    5  2019-05-03 13:23:19       1576.0"
      ]
     },
     "execution_count": 17,
     "metadata": {},
     "output_type": "execute_result"
    }
   ],
   "source": [
    "df_temp.head(20)"
   ]
  },
  {
   "cell_type": "code",
   "execution_count": 18,
   "metadata": {
    "colab": {
     "base_uri": "https://localhost:8080/"
    },
    "executionInfo": {
     "elapsed": 122,
     "status": "ok",
     "timestamp": 1637915183652,
     "user": {
      "displayName": "Евгений Макаров",
      "photoUrl": "https://lh3.googleusercontent.com/a/default-user=s64",
      "userId": "14572979811838672928"
     },
     "user_tz": -180
    },
    "id": "xm_Am5f5tezA",
    "outputId": "58284eac-b87f-45b6-8808-a9ef05ab5128"
   },
   "outputs": [
    {
     "name": "stdout",
     "output_type": "stream",
     "text": [
      "<class 'pandas.core.frame.DataFrame'>\n",
      "RangeIndex: 15907 entries, 0 to 15906\n",
      "Data columns (total 3 columns):\n",
      " #   Column        Non-Null Count  Dtype  \n",
      "---  ------        --------------  -----  \n",
      " 0   key           15907 non-null  int64  \n",
      " 1   Время замера  15907 non-null  object \n",
      " 2   Температура   13006 non-null  float64\n",
      "dtypes: float64(1), int64(1), object(1)\n",
      "memory usage: 372.9+ KB\n"
     ]
    }
   ],
   "source": [
    "df_temp.info()"
   ]
  },
  {
   "cell_type": "code",
   "execution_count": 19,
   "metadata": {
    "colab": {
     "base_uri": "https://localhost:8080/"
    },
    "executionInfo": {
     "elapsed": 103,
     "status": "ok",
     "timestamp": 1637915183653,
     "user": {
      "displayName": "Евгений Макаров",
      "photoUrl": "https://lh3.googleusercontent.com/a/default-user=s64",
      "userId": "14572979811838672928"
     },
     "user_tz": -180
    },
    "id": "UKQNSBZh6vpO",
    "outputId": "1fd7dd82-6efd-4788-8da6-c852bb3398e6"
   },
   "outputs": [
    {
     "data": {
      "text/plain": [
       "0.18237254039102282"
      ]
     },
     "execution_count": 19,
     "metadata": {},
     "output_type": "execute_result"
    }
   ],
   "source": [
    "df_temp['Температура'].isna().mean()"
   ]
  },
  {
   "cell_type": "code",
   "execution_count": 20,
   "metadata": {
    "colab": {
     "base_uri": "https://localhost:8080/",
     "height": 282
    },
    "executionInfo": {
     "elapsed": 78,
     "status": "ok",
     "timestamp": 1637915183654,
     "user": {
      "displayName": "Евгений Макаров",
      "photoUrl": "https://lh3.googleusercontent.com/a/default-user=s64",
      "userId": "14572979811838672928"
     },
     "user_tz": -180
    },
    "id": "e8qoCFk8E9Gw",
    "outputId": "03a0503c-a4e3-4631-bc51-29e05e1130bc"
   },
   "outputs": [
    {
     "data": {
      "text/plain": [
       "<matplotlib.axes._subplots.AxesSubplot at 0x7fe466de1290>"
      ]
     },
     "execution_count": 20,
     "metadata": {},
     "output_type": "execute_result"
    },
    {
     "data": {
      "image/png": "[encoded data removed]",
      "text/plain": [
       "<Figure size 432x288 with 1 Axes>"
      ]
     },
     "metadata": {
      "needs_background": "light"
     },
     "output_type": "display_data"
    }
   ],
   "source": [
    "df_temp['Температура'].hist()"
   ]
  },
  {
   "cell_type": "code",
   "execution_count": 21,
   "metadata": {
    "colab": {
     "base_uri": "https://localhost:8080/"
    },
    "executionInfo": {
     "elapsed": 850,
     "status": "ok",
     "timestamp": 1637915184448,
     "user": {
      "displayName": "Евгений Макаров",
      "photoUrl": "https://lh3.googleusercontent.com/a/default-user=s64",
      "userId": "14572979811838672928"
     },
     "user_tz": -180
    },
    "id": "sBG-jhYsFsRu",
    "outputId": "7aedd0be-28f1-4e05-95ba-3acb08a92c87"
   },
   "outputs": [
    {
     "data": {
      "text/plain": [
       "4350     1191.0\n",
       "5978     1208.0\n",
       "7958     1218.0\n",
       "8913     1383.0\n",
       "8914     1383.0\n",
       "10127    1227.0\n",
       "12564    1204.0\n",
       "Name: Температура, dtype: float64"
      ]
     },
     "execution_count": 21,
     "metadata": {},
     "output_type": "execute_result"
    }
   ],
   "source": [
    "df_temp.query('Температура < 1500')['Температура']"
   ]
  },
  {
   "cell_type": "markdown",
   "metadata": {
    "id": "JZESbzPk6qph"
   },
   "source": [
    "В данных 18,2% пропусков, а также 7 значений температуры до 1400°C.  \n",
    "Температура плавления стали 1450—1520°C. Данные 7 значений можно считать выбросами и удалить их. Что было подтверждено на консультации.  \n",
    "\n",
    "На этапе обработки необходимо выделить целевой признак последней температуры, а также провести анализ, чем можно заполнить пропуска.  \n",
    "Если для партии есть только одно измерение, это противоречит условиям задачи, поэтому строки должны быть удалены.  \n",
    "\n",
    "Промежуточные температуры не могут быть использованы, как признак.\n"
   ]
  },
  {
   "cell_type": "markdown",
   "metadata": {
    "id": "8CROCWl6t6lB"
   },
   "source": [
    "#### data_wire.csv — данные о проволочных материалах (объём)  \n",
    "Аналогично сыпучим материалам, представлено количество добавленных проволочных материалов определенного типа (1-9) для изменения химического состава продукта.  \n",
    "Пропуски обозначают, что данный материал не был введен."
   ]
  },
  {
   "cell_type": "code",
   "execution_count": 22,
   "metadata": {
    "colab": {
     "base_uri": "https://localhost:8080/",
     "height": 206
    },
    "executionInfo": {
     "elapsed": 481,
     "status": "ok",
     "timestamp": 1637915184512,
     "user": {
      "displayName": "Евгений Макаров",
      "photoUrl": "https://lh3.googleusercontent.com/a/default-user=s64",
      "userId": "14572979811838672928"
     },
     "user_tz": -180
    },
    "id": "BZHf0XSKm1IJ",
    "outputId": "01d83bb6-2821-4510-dbf2-7e92d811ef97"
   },
   "outputs": [
    {
     "data": {
      "text/html": [
       "<div>\n",
       "<style scoped>\n",
       "    .dataframe tbody tr th:only-of-type {\n",
       "        vertical-align: middle;\n",
       "    }\n",
       "\n",
       "    .dataframe tbody tr th {\n",
       "        vertical-align: top;\n",
       "    }\n",
       "\n",
       "    .dataframe thead th {\n",
       "        text-align: right;\n",
       "    }\n",
       "</style>\n",
       "<table border=\"1\" class=\"dataframe\">\n",
       "  <thead>\n",
       "    <tr style=\"text-align: right;\">\n",
       "      <th></th>\n",
       "      <th>key</th>\n",
       "      <th>Wire 1</th>\n",
       "      <th>Wire 2</th>\n",
       "      <th>Wire 3</th>\n",
       "      <th>Wire 4</th>\n",
       "      <th>Wire 5</th>\n",
       "      <th>Wire 6</th>\n",
       "      <th>Wire 7</th>\n",
       "      <th>Wire 8</th>\n",
       "      <th>Wire 9</th>\n",
       "    </tr>\n",
       "  </thead>\n",
       "  <tbody>\n",
       "    <tr>\n",
       "      <th>0</th>\n",
       "      <td>1</td>\n",
       "      <td>60.059998</td>\n",
       "      <td>NaN</td>\n",
       "      <td>NaN</td>\n",
       "      <td>NaN</td>\n",
       "      <td>NaN</td>\n",
       "      <td>NaN</td>\n",
       "      <td>NaN</td>\n",
       "      <td>NaN</td>\n",
       "      <td>NaN</td>\n",
       "    </tr>\n",
       "    <tr>\n",
       "      <th>1</th>\n",
       "      <td>2</td>\n",
       "      <td>96.052315</td>\n",
       "      <td>NaN</td>\n",
       "      <td>NaN</td>\n",
       "      <td>NaN</td>\n",
       "      <td>NaN</td>\n",
       "      <td>NaN</td>\n",
       "      <td>NaN</td>\n",
       "      <td>NaN</td>\n",
       "      <td>NaN</td>\n",
       "    </tr>\n",
       "    <tr>\n",
       "      <th>2</th>\n",
       "      <td>3</td>\n",
       "      <td>91.160157</td>\n",
       "      <td>NaN</td>\n",
       "      <td>NaN</td>\n",
       "      <td>NaN</td>\n",
       "      <td>NaN</td>\n",
       "      <td>NaN</td>\n",
       "      <td>NaN</td>\n",
       "      <td>NaN</td>\n",
       "      <td>NaN</td>\n",
       "    </tr>\n",
       "    <tr>\n",
       "      <th>3</th>\n",
       "      <td>4</td>\n",
       "      <td>89.063515</td>\n",
       "      <td>NaN</td>\n",
       "      <td>NaN</td>\n",
       "      <td>NaN</td>\n",
       "      <td>NaN</td>\n",
       "      <td>NaN</td>\n",
       "      <td>NaN</td>\n",
       "      <td>NaN</td>\n",
       "      <td>NaN</td>\n",
       "    </tr>\n",
       "    <tr>\n",
       "      <th>4</th>\n",
       "      <td>5</td>\n",
       "      <td>89.238236</td>\n",
       "      <td>9.11456</td>\n",
       "      <td>NaN</td>\n",
       "      <td>NaN</td>\n",
       "      <td>NaN</td>\n",
       "      <td>NaN</td>\n",
       "      <td>NaN</td>\n",
       "      <td>NaN</td>\n",
       "      <td>NaN</td>\n",
       "    </tr>\n",
       "  </tbody>\n",
       "</table>\n",
       "</div>"
      ],
      "text/plain": [
       "   key     Wire 1   Wire 2  Wire 3  ...  Wire 6  Wire 7  Wire 8  Wire 9\n",
       "0    1  60.059998      NaN     NaN  ...     NaN     NaN     NaN     NaN\n",
       "1    2  96.052315      NaN     NaN  ...     NaN     NaN     NaN     NaN\n",
       "2    3  91.160157      NaN     NaN  ...     NaN     NaN     NaN     NaN\n",
       "3    4  89.063515      NaN     NaN  ...     NaN     NaN     NaN     NaN\n",
       "4    5  89.238236  9.11456     NaN  ...     NaN     NaN     NaN     NaN\n",
       "\n",
       "[5 rows x 10 columns]"
      ]
     },
     "execution_count": 22,
     "metadata": {},
     "output_type": "execute_result"
    }
   ],
   "source": [
    "df_wire.head()"
   ]
  },
  {
   "cell_type": "code",
   "execution_count": 23,
   "metadata": {
    "colab": {
     "base_uri": "https://localhost:8080/"
    },
    "executionInfo": {
     "elapsed": 480,
     "status": "ok",
     "timestamp": 1637915184513,
     "user": {
      "displayName": "Евгений Макаров",
      "photoUrl": "https://lh3.googleusercontent.com/a/default-user=s64",
      "userId": "14572979811838672928"
     },
     "user_tz": -180
    },
    "id": "A3ALv7mfthYA",
    "outputId": "31e7ac72-b923-4bbc-c966-b15e2dd73404"
   },
   "outputs": [
    {
     "name": "stdout",
     "output_type": "stream",
     "text": [
      "<class 'pandas.core.frame.DataFrame'>\n",
      "RangeIndex: 3081 entries, 0 to 3080\n",
      "Data columns (total 10 columns):\n",
      " #   Column  Non-Null Count  Dtype  \n",
      "---  ------  --------------  -----  \n",
      " 0   key     3081 non-null   int64  \n",
      " 1   Wire 1  3055 non-null   float64\n",
      " 2   Wire 2  1079 non-null   float64\n",
      " 3   Wire 3  63 non-null     float64\n",
      " 4   Wire 4  14 non-null     float64\n",
      " 5   Wire 5  1 non-null      float64\n",
      " 6   Wire 6  73 non-null     float64\n",
      " 7   Wire 7  11 non-null     float64\n",
      " 8   Wire 8  19 non-null     float64\n",
      " 9   Wire 9  29 non-null     float64\n",
      "dtypes: float64(9), int64(1)\n",
      "memory usage: 240.8 KB\n"
     ]
    }
   ],
   "source": [
    "df_wire.info()"
   ]
  },
  {
   "cell_type": "markdown",
   "metadata": {
    "id": "LXuH1EqsFVRr"
   },
   "source": [
    "Аналогично сыпучим материалам возможно суммировать все значения добавленных материалов и проверить на выбросы."
   ]
  },
  {
   "cell_type": "markdown",
   "metadata": {
    "id": "0WFo78x1t0f5"
   },
   "source": [
    "#### data_wire_time.csv — данные о проволочных материалах (время)"
   ]
  },
  {
   "cell_type": "code",
   "execution_count": 24,
   "metadata": {
    "colab": {
     "base_uri": "https://localhost:8080/",
     "height": 206
    },
    "executionInfo": {
     "elapsed": 429,
     "status": "ok",
     "timestamp": 1637915184540,
     "user": {
      "displayName": "Евгений Макаров",
      "photoUrl": "https://lh3.googleusercontent.com/a/default-user=s64",
      "userId": "14572979811838672928"
     },
     "user_tz": -180
    },
    "id": "K4w6oI3Em0-q",
    "outputId": "566bd809-3663-45d3-da54-63a54a54cd29"
   },
   "outputs": [
    {
     "data": {
      "text/html": [
       "<div>\n",
       "<style scoped>\n",
       "    .dataframe tbody tr th:only-of-type {\n",
       "        vertical-align: middle;\n",
       "    }\n",
       "\n",
       "    .dataframe tbody tr th {\n",
       "        vertical-align: top;\n",
       "    }\n",
       "\n",
       "    .dataframe thead th {\n",
       "        text-align: right;\n",
       "    }\n",
       "</style>\n",
       "<table border=\"1\" class=\"dataframe\">\n",
       "  <thead>\n",
       "    <tr style=\"text-align: right;\">\n",
       "      <th></th>\n",
       "      <th>key</th>\n",
       "      <th>Wire 1</th>\n",
       "      <th>Wire 2</th>\n",
       "      <th>Wire 3</th>\n",
       "      <th>Wire 4</th>\n",
       "      <th>Wire 5</th>\n",
       "      <th>Wire 6</th>\n",
       "      <th>Wire 7</th>\n",
       "      <th>Wire 8</th>\n",
       "      <th>Wire 9</th>\n",
       "    </tr>\n",
       "  </thead>\n",
       "  <tbody>\n",
       "    <tr>\n",
       "      <th>0</th>\n",
       "      <td>1</td>\n",
       "      <td>2019-05-03 11:11:41</td>\n",
       "      <td>NaN</td>\n",
       "      <td>NaN</td>\n",
       "      <td>NaN</td>\n",
       "      <td>NaN</td>\n",
       "      <td>NaN</td>\n",
       "      <td>NaN</td>\n",
       "      <td>NaN</td>\n",
       "      <td>NaN</td>\n",
       "    </tr>\n",
       "    <tr>\n",
       "      <th>1</th>\n",
       "      <td>2</td>\n",
       "      <td>2019-05-03 11:46:10</td>\n",
       "      <td>NaN</td>\n",
       "      <td>NaN</td>\n",
       "      <td>NaN</td>\n",
       "      <td>NaN</td>\n",
       "      <td>NaN</td>\n",
       "      <td>NaN</td>\n",
       "      <td>NaN</td>\n",
       "      <td>NaN</td>\n",
       "    </tr>\n",
       "    <tr>\n",
       "      <th>2</th>\n",
       "      <td>3</td>\n",
       "      <td>2019-05-03 12:13:47</td>\n",
       "      <td>NaN</td>\n",
       "      <td>NaN</td>\n",
       "      <td>NaN</td>\n",
       "      <td>NaN</td>\n",
       "      <td>NaN</td>\n",
       "      <td>NaN</td>\n",
       "      <td>NaN</td>\n",
       "      <td>NaN</td>\n",
       "    </tr>\n",
       "    <tr>\n",
       "      <th>3</th>\n",
       "      <td>4</td>\n",
       "      <td>2019-05-03 12:48:05</td>\n",
       "      <td>NaN</td>\n",
       "      <td>NaN</td>\n",
       "      <td>NaN</td>\n",
       "      <td>NaN</td>\n",
       "      <td>NaN</td>\n",
       "      <td>NaN</td>\n",
       "      <td>NaN</td>\n",
       "      <td>NaN</td>\n",
       "    </tr>\n",
       "    <tr>\n",
       "      <th>4</th>\n",
       "      <td>5</td>\n",
       "      <td>2019-05-03 13:18:15</td>\n",
       "      <td>2019-05-03 13:32:06</td>\n",
       "      <td>NaN</td>\n",
       "      <td>NaN</td>\n",
       "      <td>NaN</td>\n",
       "      <td>NaN</td>\n",
       "      <td>NaN</td>\n",
       "      <td>NaN</td>\n",
       "      <td>NaN</td>\n",
       "    </tr>\n",
       "  </tbody>\n",
       "</table>\n",
       "</div>"
      ],
      "text/plain": [
       "   key               Wire 1               Wire 2  ... Wire 7 Wire 8 Wire 9\n",
       "0    1  2019-05-03 11:11:41                  NaN  ...    NaN    NaN    NaN\n",
       "1    2  2019-05-03 11:46:10                  NaN  ...    NaN    NaN    NaN\n",
       "2    3  2019-05-03 12:13:47                  NaN  ...    NaN    NaN    NaN\n",
       "3    4  2019-05-03 12:48:05                  NaN  ...    NaN    NaN    NaN\n",
       "4    5  2019-05-03 13:18:15  2019-05-03 13:32:06  ...    NaN    NaN    NaN\n",
       "\n",
       "[5 rows x 10 columns]"
      ]
     },
     "execution_count": 24,
     "metadata": {},
     "output_type": "execute_result"
    }
   ],
   "source": [
    "df_wire_time.head()"
   ]
  },
  {
   "cell_type": "code",
   "execution_count": 25,
   "metadata": {
    "colab": {
     "base_uri": "https://localhost:8080/"
    },
    "executionInfo": {
     "elapsed": 431,
     "status": "ok",
     "timestamp": 1637915184544,
     "user": {
      "displayName": "Евгений Макаров",
      "photoUrl": "https://lh3.googleusercontent.com/a/default-user=s64",
      "userId": "14572979811838672928"
     },
     "user_tz": -180
    },
    "id": "SsoHRbuotluh",
    "outputId": "2b7b7cea-30b3-4833-eabc-1f2366aeef8d"
   },
   "outputs": [
    {
     "name": "stdout",
     "output_type": "stream",
     "text": [
      "<class 'pandas.core.frame.DataFrame'>\n",
      "RangeIndex: 3081 entries, 0 to 3080\n",
      "Data columns (total 10 columns):\n",
      " #   Column  Non-Null Count  Dtype \n",
      "---  ------  --------------  ----- \n",
      " 0   key     3081 non-null   int64 \n",
      " 1   Wire 1  3055 non-null   object\n",
      " 2   Wire 2  1079 non-null   object\n",
      " 3   Wire 3  63 non-null     object\n",
      " 4   Wire 4  14 non-null     object\n",
      " 5   Wire 5  1 non-null      object\n",
      " 6   Wire 6  73 non-null     object\n",
      " 7   Wire 7  11 non-null     object\n",
      " 8   Wire 8  19 non-null     object\n",
      " 9   Wire 9  29 non-null     object\n",
      "dtypes: int64(1), object(9)\n",
      "memory usage: 240.8+ KB\n"
     ]
    }
   ],
   "source": [
    "df_wire_time.info()"
   ]
  },
  {
   "cell_type": "markdown",
   "metadata": {
    "id": "w_-BCBlvtnSP"
   },
   "source": [
    "## План работы"
   ]
  },
  {
   "cell_type": "markdown",
   "metadata": {
    "id": "BEVvKK429htV"
   },
   "source": [
    "Предобработка данных:\n",
    "* Добавить новый признак `Полная мощность` в таблице `data_arc`.\n",
    "* Провести замену пропущенных значений на 0 в таблицах `data_bulk.csv` и `data_wire.csv`, суммировать добавленные материалы. проверить на аномальные значения.\n",
    "* Провести обработку аномальных значений в таблицах `data_arc`, `data_gas`.\n",
    "* Провести обработку таблицы `data_temp.csv`: выделить целевой признак и начальную температуру.  \n",
    "* Собрать данные всех таблиц в одну, проверить на корреляцию признаков.   \n",
    "* Провести масштабирование признаков.\n",
    "\n",
    "Построение моделей:\n",
    "* Выделить тестовую и обучающую выборки в соотношении 15:85. \n",
    "* Обучить несколько моделей, используя функцию ошибки МАЕ, оценить скорость обучения, показатель метрики. Проверить важность признаков для моделей.  \n",
    "* Проверить лучшие модели на тестовой выборке.\n",
    "* Внести необходимые изменения для достижения целевого показателя метрики."
   ]
  },
  {
   "cell_type": "markdown",
   "metadata": {
    "id": "z4awS9YtI4WL"
   },
   "source": [
    "## Обработка данных"
   ]
  },
  {
   "cell_type": "markdown",
   "metadata": {
    "id": "lDuibofBJCBx"
   },
   "source": [
    "### df_temp_max, df_temp_min  \n",
    "Для таблицы температур оставим только те партии, в которых минимум два измерения температуры.   \n",
    "\n",
    "Первое измерение добавим в таблицу признаков.  \n",
    "\n",
    "Последнее измерение будет являться целевым признаком."
   ]
  },
  {
   "cell_type": "code",
   "execution_count": 26,
   "metadata": {
    "colab": {
     "base_uri": "https://localhost:8080/",
     "height": 206
    },
    "executionInfo": {
     "elapsed": 341,
     "status": "ok",
     "timestamp": 1637915184547,
     "user": {
      "displayName": "Евгений Макаров",
      "photoUrl": "https://lh3.googleusercontent.com/a/default-user=s64",
      "userId": "14572979811838672928"
     },
     "user_tz": -180
    },
    "id": "Ah0WA9OiJI-g",
    "outputId": "79c0d068-200d-420b-e396-ec44935f94b6"
   },
   "outputs": [
    {
     "data": {
      "text/html": [
       "<div>\n",
       "<style scoped>\n",
       "    .dataframe tbody tr th:only-of-type {\n",
       "        vertical-align: middle;\n",
       "    }\n",
       "\n",
       "    .dataframe tbody tr th {\n",
       "        vertical-align: top;\n",
       "    }\n",
       "\n",
       "    .dataframe thead th {\n",
       "        text-align: right;\n",
       "    }\n",
       "</style>\n",
       "<table border=\"1\" class=\"dataframe\">\n",
       "  <thead>\n",
       "    <tr style=\"text-align: right;\">\n",
       "      <th></th>\n",
       "      <th>key</th>\n",
       "      <th>Время замера</th>\n",
       "      <th>Температура</th>\n",
       "    </tr>\n",
       "  </thead>\n",
       "  <tbody>\n",
       "    <tr>\n",
       "      <th>0</th>\n",
       "      <td>1</td>\n",
       "      <td>2019-05-03 11:16:18</td>\n",
       "      <td>1571.0</td>\n",
       "    </tr>\n",
       "    <tr>\n",
       "      <th>1</th>\n",
       "      <td>1</td>\n",
       "      <td>2019-05-03 11:25:53</td>\n",
       "      <td>1604.0</td>\n",
       "    </tr>\n",
       "    <tr>\n",
       "      <th>2</th>\n",
       "      <td>1</td>\n",
       "      <td>2019-05-03 11:29:11</td>\n",
       "      <td>1618.0</td>\n",
       "    </tr>\n",
       "    <tr>\n",
       "      <th>3</th>\n",
       "      <td>1</td>\n",
       "      <td>2019-05-03 11:30:01</td>\n",
       "      <td>1601.0</td>\n",
       "    </tr>\n",
       "    <tr>\n",
       "      <th>4</th>\n",
       "      <td>1</td>\n",
       "      <td>2019-05-03 11:30:39</td>\n",
       "      <td>1613.0</td>\n",
       "    </tr>\n",
       "  </tbody>\n",
       "</table>\n",
       "</div>"
      ],
      "text/plain": [
       "   key         Время замера  Температура\n",
       "0    1  2019-05-03 11:16:18       1571.0\n",
       "1    1  2019-05-03 11:25:53       1604.0\n",
       "2    1  2019-05-03 11:29:11       1618.0\n",
       "3    1  2019-05-03 11:30:01       1601.0\n",
       "4    1  2019-05-03 11:30:39       1613.0"
      ]
     },
     "execution_count": 26,
     "metadata": {},
     "output_type": "execute_result"
    }
   ],
   "source": [
    "df_temp.head(5)"
   ]
  },
  {
   "cell_type": "code",
   "execution_count": 27,
   "metadata": {
    "colab": {
     "base_uri": "https://localhost:8080/"
    },
    "executionInfo": {
     "elapsed": 341,
     "status": "ok",
     "timestamp": 1637915184549,
     "user": {
      "displayName": "Евгений Макаров",
      "photoUrl": "https://lh3.googleusercontent.com/a/default-user=s64",
      "userId": "14572979811838672928"
     },
     "user_tz": -180
    },
    "id": "5JpU-XHXJrIc",
    "outputId": "1581c173-e9af-47a3-a88d-26469a564316"
   },
   "outputs": [
    {
     "data": {
      "text/plain": [
       "15907"
      ]
     },
     "execution_count": 27,
     "metadata": {},
     "output_type": "execute_result"
    }
   ],
   "source": [
    "len(df_temp)"
   ]
  },
  {
   "cell_type": "markdown",
   "metadata": {
    "id": "kEGGuG2hMfDJ"
   },
   "source": [
    "Удаление нулевых значений"
   ]
  },
  {
   "cell_type": "code",
   "execution_count": 28,
   "metadata": {
    "executionInfo": {
     "elapsed": 259,
     "status": "ok",
     "timestamp": 1637915184550,
     "user": {
      "displayName": "Евгений Макаров",
      "photoUrl": "https://lh3.googleusercontent.com/a/default-user=s64",
      "userId": "14572979811838672928"
     },
     "user_tz": -180
    },
    "id": "F4f9nGx1JO-C"
   },
   "outputs": [],
   "source": [
    "df_temp1 = df_temp.dropna()"
   ]
  },
  {
   "cell_type": "code",
   "execution_count": 29,
   "metadata": {
    "colab": {
     "base_uri": "https://localhost:8080/"
    },
    "executionInfo": {
     "elapsed": 261,
     "status": "ok",
     "timestamp": 1637915184553,
     "user": {
      "displayName": "Евгений Макаров",
      "photoUrl": "https://lh3.googleusercontent.com/a/default-user=s64",
      "userId": "14572979811838672928"
     },
     "user_tz": -180
    },
    "id": "gNXl90ahJuA4",
    "outputId": "b02b4160-53bb-4f6f-9d0d-6762e4239c3a"
   },
   "outputs": [
    {
     "data": {
      "text/plain": [
       "13006"
      ]
     },
     "execution_count": 29,
     "metadata": {},
     "output_type": "execute_result"
    }
   ],
   "source": [
    "len(df_temp1)"
   ]
  },
  {
   "cell_type": "markdown",
   "metadata": {
    "id": "G8oUebvXMhSA"
   },
   "source": [
    "Удаление аномалий"
   ]
  },
  {
   "cell_type": "code",
   "execution_count": 30,
   "metadata": {
    "colab": {
     "base_uri": "https://localhost:8080/",
     "height": 282
    },
    "executionInfo": {
     "elapsed": 245,
     "status": "ok",
     "timestamp": 1637915184556,
     "user": {
      "displayName": "Евгений Макаров",
      "photoUrl": "https://lh3.googleusercontent.com/a/default-user=s64",
      "userId": "14572979811838672928"
     },
     "user_tz": -180
    },
    "id": "bZEn1yiyMkFh",
    "outputId": "9aff4d4a-e7c9-4c33-b504-fd50b2dda802"
   },
   "outputs": [
    {
     "data": {
      "text/plain": [
       "<matplotlib.axes._subplots.AxesSubplot at 0x7fe4662ab4d0>"
      ]
     },
     "execution_count": 30,
     "metadata": {},
     "output_type": "execute_result"
    },
    {
     "data": {
      "image/png": "[encoded data removed]",
      "text/plain": [
       "<Figure size 432x288 with 1 Axes>"
      ]
     },
     "metadata": {
      "needs_background": "light"
     },
     "output_type": "display_data"
    }
   ],
   "source": [
    "df_temp1['Температура'].plot()"
   ]
  },
  {
   "cell_type": "markdown",
   "metadata": {
    "id": "jWfeGzxJ7iPp"
   },
   "source": [
    "Значения температуры до 1500 градусов можно считать выбросами и удалить их. Что было подтверждено на консультации."
   ]
  },
  {
   "cell_type": "code",
   "execution_count": 31,
   "metadata": {
    "executionInfo": {
     "elapsed": 213,
     "status": "ok",
     "timestamp": 1637915184560,
     "user": {
      "displayName": "Евгений Макаров",
      "photoUrl": "https://lh3.googleusercontent.com/a/default-user=s64",
      "userId": "14572979811838672928"
     },
     "user_tz": -180
    },
    "id": "-1FzbjfwM1Ay"
   },
   "outputs": [],
   "source": [
    "df_temp1 = df_temp1[df_temp1['Температура'] > 1500]"
   ]
  },
  {
   "cell_type": "markdown",
   "metadata": {
    "id": "qsE64mH17yq9"
   },
   "source": [
    "#### Пример работы отбора температур на тренировочном датасете"
   ]
  },
  {
   "cell_type": "code",
   "execution_count": 32,
   "metadata": {
    "colab": {
     "base_uri": "https://localhost:8080/",
     "height": 331
    },
    "executionInfo": {
     "elapsed": 215,
     "status": "ok",
     "timestamp": 1637915184562,
     "user": {
      "displayName": "Евгений Макаров",
      "photoUrl": "https://lh3.googleusercontent.com/a/default-user=s64",
      "userId": "14572979811838672928"
     },
     "user_tz": -180
    },
    "id": "v_MJLPsHKgvi",
    "outputId": "55e7c2ee-d166-4058-fdd8-a3a6033eea28"
   },
   "outputs": [
    {
     "data": {
      "text/html": [
       "<div>\n",
       "<style scoped>\n",
       "    .dataframe tbody tr th:only-of-type {\n",
       "        vertical-align: middle;\n",
       "    }\n",
       "\n",
       "    .dataframe tbody tr th {\n",
       "        vertical-align: top;\n",
       "    }\n",
       "\n",
       "    .dataframe thead th {\n",
       "        text-align: right;\n",
       "    }\n",
       "</style>\n",
       "<table border=\"1\" class=\"dataframe\">\n",
       "  <thead>\n",
       "    <tr style=\"text-align: right;\">\n",
       "      <th></th>\n",
       "      <th>col</th>\n",
       "      <th>temp</th>\n",
       "    </tr>\n",
       "  </thead>\n",
       "  <tbody>\n",
       "    <tr>\n",
       "      <th>0</th>\n",
       "      <td>1</td>\n",
       "      <td>100</td>\n",
       "    </tr>\n",
       "    <tr>\n",
       "      <th>1</th>\n",
       "      <td>1</td>\n",
       "      <td>200</td>\n",
       "    </tr>\n",
       "    <tr>\n",
       "      <th>2</th>\n",
       "      <td>1</td>\n",
       "      <td>300</td>\n",
       "    </tr>\n",
       "    <tr>\n",
       "      <th>3</th>\n",
       "      <td>2</td>\n",
       "      <td>250</td>\n",
       "    </tr>\n",
       "    <tr>\n",
       "      <th>4</th>\n",
       "      <td>2</td>\n",
       "      <td>300</td>\n",
       "    </tr>\n",
       "    <tr>\n",
       "      <th>5</th>\n",
       "      <td>3</td>\n",
       "      <td>1000</td>\n",
       "    </tr>\n",
       "    <tr>\n",
       "      <th>6</th>\n",
       "      <td>3</td>\n",
       "      <td>1100</td>\n",
       "    </tr>\n",
       "    <tr>\n",
       "      <th>7</th>\n",
       "      <td>3</td>\n",
       "      <td>1200</td>\n",
       "    </tr>\n",
       "    <tr>\n",
       "      <th>8</th>\n",
       "      <td>3</td>\n",
       "      <td>1300</td>\n",
       "    </tr>\n",
       "  </tbody>\n",
       "</table>\n",
       "</div>"
      ],
      "text/plain": [
       "   col  temp\n",
       "0    1   100\n",
       "1    1   200\n",
       "2    1   300\n",
       "3    2   250\n",
       "4    2   300\n",
       "5    3  1000\n",
       "6    3  1100\n",
       "7    3  1200\n",
       "8    3  1300"
      ]
     },
     "execution_count": 32,
     "metadata": {},
     "output_type": "execute_result"
    }
   ],
   "source": [
    "t = pd.DataFrame({'col':[1,1,1,2,2,3,3,3,3], 'temp':[100,200,300,250,300,1000,1100,1200,1300]})\n",
    "t"
   ]
  },
  {
   "cell_type": "markdown",
   "metadata": {
    "id": "ySukPI2t85JK"
   },
   "source": [
    "Создадим столбец с рангами, где значение будет показывать номер измерения по возрастанию."
   ]
  },
  {
   "cell_type": "code",
   "execution_count": 33,
   "metadata": {
    "executionInfo": {
     "elapsed": 212,
     "status": "ok",
     "timestamp": 1637915184563,
     "user": {
      "displayName": "Евгений Макаров",
      "photoUrl": "https://lh3.googleusercontent.com/a/default-user=s64",
      "userId": "14572979811838672928"
     },
     "user_tz": -180
    },
    "id": "zVJUqnGp8Vfb"
   },
   "outputs": [],
   "source": [
    "t['col'].rank(method='first')\n",
    "t['rank'] = t.groupby(by='col')['col'].rank(method='first')"
   ]
  },
  {
   "cell_type": "markdown",
   "metadata": {
    "id": "bB-fiWtV9BhK"
   },
   "source": [
    "Затем, чтобы оставить минимальную температуру, отсортируем по возрастанию и удалим дубликаты по номеру партии.  \n",
    "\n",
    "Чтобы оставить максимальную температуру, отсортируем по убыванию и удалим дубликаты по номеру партии"
   ]
  },
  {
   "cell_type": "code",
   "execution_count": 34,
   "metadata": {
    "colab": {
     "base_uri": "https://localhost:8080/",
     "height": 143
    },
    "executionInfo": {
     "elapsed": 213,
     "status": "ok",
     "timestamp": 1637915184564,
     "user": {
      "displayName": "Евгений Макаров",
      "photoUrl": "https://lh3.googleusercontent.com/a/default-user=s64",
      "userId": "14572979811838672928"
     },
     "user_tz": -180
    },
    "id": "4MTu-VZ68cCZ",
    "outputId": "1554cb94-3ddc-4ce1-c4f6-2968d5a907b7"
   },
   "outputs": [
    {
     "data": {
      "text/html": [
       "<div>\n",
       "<style scoped>\n",
       "    .dataframe tbody tr th:only-of-type {\n",
       "        vertical-align: middle;\n",
       "    }\n",
       "\n",
       "    .dataframe tbody tr th {\n",
       "        vertical-align: top;\n",
       "    }\n",
       "\n",
       "    .dataframe thead th {\n",
       "        text-align: right;\n",
       "    }\n",
       "</style>\n",
       "<table border=\"1\" class=\"dataframe\">\n",
       "  <thead>\n",
       "    <tr style=\"text-align: right;\">\n",
       "      <th></th>\n",
       "      <th>col</th>\n",
       "      <th>temp</th>\n",
       "      <th>rank</th>\n",
       "    </tr>\n",
       "  </thead>\n",
       "  <tbody>\n",
       "    <tr>\n",
       "      <th>8</th>\n",
       "      <td>3</td>\n",
       "      <td>1300</td>\n",
       "      <td>4.0</td>\n",
       "    </tr>\n",
       "    <tr>\n",
       "      <th>2</th>\n",
       "      <td>1</td>\n",
       "      <td>300</td>\n",
       "      <td>3.0</td>\n",
       "    </tr>\n",
       "    <tr>\n",
       "      <th>4</th>\n",
       "      <td>2</td>\n",
       "      <td>300</td>\n",
       "      <td>2.0</td>\n",
       "    </tr>\n",
       "  </tbody>\n",
       "</table>\n",
       "</div>"
      ],
      "text/plain": [
       "   col  temp  rank\n",
       "8    3  1300   4.0\n",
       "2    1   300   3.0\n",
       "4    2   300   2.0"
      ]
     },
     "execution_count": 34,
     "metadata": {},
     "output_type": "execute_result"
    }
   ],
   "source": [
    "t.sort_values('rank', ascending=False).drop_duplicates(['col'])"
   ]
  },
  {
   "cell_type": "code",
   "execution_count": 35,
   "metadata": {
    "colab": {
     "base_uri": "https://localhost:8080/",
     "height": 143
    },
    "executionInfo": {
     "elapsed": 212,
     "status": "ok",
     "timestamp": 1637915184565,
     "user": {
      "displayName": "Евгений Макаров",
      "photoUrl": "https://lh3.googleusercontent.com/a/default-user=s64",
      "userId": "14572979811838672928"
     },
     "user_tz": -180
    },
    "id": "MWBi8hPu8fBo",
    "outputId": "f921cf93-2057-4f9d-bd6b-e07dec0953c0"
   },
   "outputs": [
    {
     "data": {
      "text/html": [
       "<div>\n",
       "<style scoped>\n",
       "    .dataframe tbody tr th:only-of-type {\n",
       "        vertical-align: middle;\n",
       "    }\n",
       "\n",
       "    .dataframe tbody tr th {\n",
       "        vertical-align: top;\n",
       "    }\n",
       "\n",
       "    .dataframe thead th {\n",
       "        text-align: right;\n",
       "    }\n",
       "</style>\n",
       "<table border=\"1\" class=\"dataframe\">\n",
       "  <thead>\n",
       "    <tr style=\"text-align: right;\">\n",
       "      <th></th>\n",
       "      <th>col</th>\n",
       "      <th>temp</th>\n",
       "      <th>rank</th>\n",
       "    </tr>\n",
       "  </thead>\n",
       "  <tbody>\n",
       "    <tr>\n",
       "      <th>0</th>\n",
       "      <td>1</td>\n",
       "      <td>100</td>\n",
       "      <td>1.0</td>\n",
       "    </tr>\n",
       "    <tr>\n",
       "      <th>3</th>\n",
       "      <td>2</td>\n",
       "      <td>250</td>\n",
       "      <td>1.0</td>\n",
       "    </tr>\n",
       "    <tr>\n",
       "      <th>5</th>\n",
       "      <td>3</td>\n",
       "      <td>1000</td>\n",
       "      <td>1.0</td>\n",
       "    </tr>\n",
       "  </tbody>\n",
       "</table>\n",
       "</div>"
      ],
      "text/plain": [
       "   col  temp  rank\n",
       "0    1   100   1.0\n",
       "3    2   250   1.0\n",
       "5    3  1000   1.0"
      ]
     },
     "execution_count": 35,
     "metadata": {},
     "output_type": "execute_result"
    }
   ],
   "source": [
    "t.sort_values('rank', ascending=True).drop_duplicates(['col'])"
   ]
  },
  {
   "cell_type": "markdown",
   "metadata": {
    "id": "cyyd2ypx8kNV"
   },
   "source": [
    "#### Temp rank  \n",
    "Аналогичную процедуру проведем для датасета с температурами"
   ]
  },
  {
   "cell_type": "markdown",
   "metadata": {
    "id": "09vbx8tOMkZL"
   },
   "source": [
    "Оставим только те партии, у которых есть хотя бы 2 измерения температуры.  \n"
   ]
  },
  {
   "cell_type": "code",
   "execution_count": 36,
   "metadata": {
    "colab": {
     "base_uri": "https://localhost:8080/"
    },
    "executionInfo": {
     "elapsed": 211,
     "status": "ok",
     "timestamp": 1637915184566,
     "user": {
      "displayName": "Евгений Макаров",
      "photoUrl": "https://lh3.googleusercontent.com/a/default-user=s64",
      "userId": "14572979811838672928"
     },
     "user_tz": -180
    },
    "id": "dieOHpMfTYed",
    "outputId": "714bd91e-b553-4acb-d1db-5ce0302584ec"
   },
   "outputs": [
    {
     "name": "stderr",
     "output_type": "stream",
     "text": [
      "/usr/local/lib/python3.7/dist-packages/ipykernel_launcher.py:1: SettingWithCopyWarning: \n",
      "A value is trying to be set on a copy of a slice from a DataFrame.\n",
      "Try using .loc[row_indexer,col_indexer] = value instead\n",
      "\n",
      "See the caveats in the documentation: https://pandas.pydata.org/pandas-docs/stable/user_guide/indexing.html#returning-a-view-versus-a-copy\n",
      "  \"\"\"Entry point for launching an IPython kernel.\n"
     ]
    }
   ],
   "source": [
    "df_temp1['rank'] = df_temp1.groupby(by='key')['key'].rank(method='first')"
   ]
  },
  {
   "cell_type": "code",
   "execution_count": 37,
   "metadata": {
    "colab": {
     "base_uri": "https://localhost:8080/",
     "height": 423
    },
    "executionInfo": {
     "elapsed": 166,
     "status": "ok",
     "timestamp": 1637915184567,
     "user": {
      "displayName": "Евгений Макаров",
      "photoUrl": "https://lh3.googleusercontent.com/a/default-user=s64",
      "userId": "14572979811838672928"
     },
     "user_tz": -180
    },
    "id": "3oVtIeJ5-ItA",
    "outputId": "13f86507-ccbc-49e1-a3bb-5d3b7bb33494"
   },
   "outputs": [
    {
     "data": {
      "text/html": [
       "<div>\n",
       "<style scoped>\n",
       "    .dataframe tbody tr th:only-of-type {\n",
       "        vertical-align: middle;\n",
       "    }\n",
       "\n",
       "    .dataframe tbody tr th {\n",
       "        vertical-align: top;\n",
       "    }\n",
       "\n",
       "    .dataframe thead th {\n",
       "        text-align: right;\n",
       "    }\n",
       "</style>\n",
       "<table border=\"1\" class=\"dataframe\">\n",
       "  <thead>\n",
       "    <tr style=\"text-align: right;\">\n",
       "      <th></th>\n",
       "      <th>key</th>\n",
       "      <th>Время замера</th>\n",
       "      <th>Температура</th>\n",
       "      <th>rank</th>\n",
       "    </tr>\n",
       "  </thead>\n",
       "  <tbody>\n",
       "    <tr>\n",
       "      <th>0</th>\n",
       "      <td>1</td>\n",
       "      <td>2019-05-03 11:16:18</td>\n",
       "      <td>1571.0</td>\n",
       "      <td>1.0</td>\n",
       "    </tr>\n",
       "    <tr>\n",
       "      <th>1</th>\n",
       "      <td>1</td>\n",
       "      <td>2019-05-03 11:25:53</td>\n",
       "      <td>1604.0</td>\n",
       "      <td>2.0</td>\n",
       "    </tr>\n",
       "    <tr>\n",
       "      <th>2</th>\n",
       "      <td>1</td>\n",
       "      <td>2019-05-03 11:29:11</td>\n",
       "      <td>1618.0</td>\n",
       "      <td>3.0</td>\n",
       "    </tr>\n",
       "    <tr>\n",
       "      <th>3</th>\n",
       "      <td>1</td>\n",
       "      <td>2019-05-03 11:30:01</td>\n",
       "      <td>1601.0</td>\n",
       "      <td>4.0</td>\n",
       "    </tr>\n",
       "    <tr>\n",
       "      <th>4</th>\n",
       "      <td>1</td>\n",
       "      <td>2019-05-03 11:30:39</td>\n",
       "      <td>1613.0</td>\n",
       "      <td>5.0</td>\n",
       "    </tr>\n",
       "    <tr>\n",
       "      <th>...</th>\n",
       "      <td>...</td>\n",
       "      <td>...</td>\n",
       "      <td>...</td>\n",
       "      <td>...</td>\n",
       "    </tr>\n",
       "    <tr>\n",
       "      <th>15878</th>\n",
       "      <td>3237</td>\n",
       "      <td>2019-08-31 22:44:04</td>\n",
       "      <td>1569.0</td>\n",
       "      <td>1.0</td>\n",
       "    </tr>\n",
       "    <tr>\n",
       "      <th>15883</th>\n",
       "      <td>3238</td>\n",
       "      <td>2019-08-31 23:30:31</td>\n",
       "      <td>1584.0</td>\n",
       "      <td>1.0</td>\n",
       "    </tr>\n",
       "    <tr>\n",
       "      <th>15886</th>\n",
       "      <td>3239</td>\n",
       "      <td>2019-09-01 01:31:47</td>\n",
       "      <td>1598.0</td>\n",
       "      <td>1.0</td>\n",
       "    </tr>\n",
       "    <tr>\n",
       "      <th>15894</th>\n",
       "      <td>3240</td>\n",
       "      <td>2019-09-01 02:39:01</td>\n",
       "      <td>1617.0</td>\n",
       "      <td>1.0</td>\n",
       "    </tr>\n",
       "    <tr>\n",
       "      <th>15902</th>\n",
       "      <td>3241</td>\n",
       "      <td>2019-09-01 04:03:30</td>\n",
       "      <td>1586.0</td>\n",
       "      <td>1.0</td>\n",
       "    </tr>\n",
       "  </tbody>\n",
       "</table>\n",
       "<p>12999 rows × 4 columns</p>\n",
       "</div>"
      ],
      "text/plain": [
       "        key         Время замера  Температура  rank\n",
       "0         1  2019-05-03 11:16:18       1571.0   1.0\n",
       "1         1  2019-05-03 11:25:53       1604.0   2.0\n",
       "2         1  2019-05-03 11:29:11       1618.0   3.0\n",
       "3         1  2019-05-03 11:30:01       1601.0   4.0\n",
       "4         1  2019-05-03 11:30:39       1613.0   5.0\n",
       "...     ...                  ...          ...   ...\n",
       "15878  3237  2019-08-31 22:44:04       1569.0   1.0\n",
       "15883  3238  2019-08-31 23:30:31       1584.0   1.0\n",
       "15886  3239  2019-09-01 01:31:47       1598.0   1.0\n",
       "15894  3240  2019-09-01 02:39:01       1617.0   1.0\n",
       "15902  3241  2019-09-01 04:03:30       1586.0   1.0\n",
       "\n",
       "[12999 rows x 4 columns]"
      ]
     },
     "execution_count": 37,
     "metadata": {},
     "output_type": "execute_result"
    }
   ],
   "source": [
    "df_temp1"
   ]
  },
  {
   "cell_type": "markdown",
   "metadata": {
    "id": "nudwd6j1-TN4"
   },
   "source": [
    "Создадим список партий с количеством измерений больше двух и оставим только такие партии."
   ]
  },
  {
   "cell_type": "code",
   "execution_count": 38,
   "metadata": {
    "executionInfo": {
     "elapsed": 165,
     "status": "ok",
     "timestamp": 1637915184568,
     "user": {
      "displayName": "Евгений Макаров",
      "photoUrl": "https://lh3.googleusercontent.com/a/default-user=s64",
      "userId": "14572979811838672928"
     },
     "user_tz": -180
    },
    "id": "VEY4yL3gJvyC"
   },
   "outputs": [],
   "source": [
    "df_temp_min2 = df_temp1.groupby(by='key').count().query('Температура > 1').index"
   ]
  },
  {
   "cell_type": "code",
   "execution_count": 39,
   "metadata": {
    "colab": {
     "base_uri": "https://localhost:8080/"
    },
    "executionInfo": {
     "elapsed": 165,
     "status": "ok",
     "timestamp": 1637915184568,
     "user": {
      "displayName": "Евгений Макаров",
      "photoUrl": "https://lh3.googleusercontent.com/a/default-user=s64",
      "userId": "14572979811838672928"
     },
     "user_tz": -180
    },
    "id": "lwUMFOhaKAjr",
    "outputId": "1c247b54-120e-4dea-9a49-fa52ac4a8091"
   },
   "outputs": [
    {
     "data": {
      "text/plain": [
       "Int64Index([   1,    2,    3,    4,    5,    6,    7,    8,    9,   10,\n",
       "            ...\n",
       "            2489, 2490, 2492, 2493, 2494, 2495, 2496, 2497, 2498, 2499],\n",
       "           dtype='int64', name='key', length=2475)"
      ]
     },
     "execution_count": 39,
     "metadata": {},
     "output_type": "execute_result"
    }
   ],
   "source": [
    "df_temp_min2"
   ]
  },
  {
   "cell_type": "code",
   "execution_count": 40,
   "metadata": {
    "executionInfo": {
     "elapsed": 140,
     "status": "ok",
     "timestamp": 1637915184569,
     "user": {
      "displayName": "Евгений Макаров",
      "photoUrl": "https://lh3.googleusercontent.com/a/default-user=s64",
      "userId": "14572979811838672928"
     },
     "user_tz": -180
    },
    "id": "PBhHfzZu1hOK"
   },
   "outputs": [],
   "source": [
    "df_temp1 = df_temp1[df_temp1['key'].isin(df_temp_min2)]"
   ]
  },
  {
   "cell_type": "code",
   "execution_count": 41,
   "metadata": {
    "colab": {
     "base_uri": "https://localhost:8080/",
     "height": 423
    },
    "executionInfo": {
     "elapsed": 141,
     "status": "ok",
     "timestamp": 1637915184570,
     "user": {
      "displayName": "Евгений Макаров",
      "photoUrl": "https://lh3.googleusercontent.com/a/default-user=s64",
      "userId": "14572979811838672928"
     },
     "user_tz": -180
    },
    "id": "oloIjYsZ1w2L",
    "outputId": "b908cc14-c257-4add-8953-1dfbf55c1c5a"
   },
   "outputs": [
    {
     "data": {
      "text/html": [
       "<div>\n",
       "<style scoped>\n",
       "    .dataframe tbody tr th:only-of-type {\n",
       "        vertical-align: middle;\n",
       "    }\n",
       "\n",
       "    .dataframe tbody tr th {\n",
       "        vertical-align: top;\n",
       "    }\n",
       "\n",
       "    .dataframe thead th {\n",
       "        text-align: right;\n",
       "    }\n",
       "</style>\n",
       "<table border=\"1\" class=\"dataframe\">\n",
       "  <thead>\n",
       "    <tr style=\"text-align: right;\">\n",
       "      <th></th>\n",
       "      <th>key</th>\n",
       "      <th>Время замера</th>\n",
       "      <th>Температура</th>\n",
       "      <th>rank</th>\n",
       "    </tr>\n",
       "  </thead>\n",
       "  <tbody>\n",
       "    <tr>\n",
       "      <th>0</th>\n",
       "      <td>1</td>\n",
       "      <td>2019-05-03 11:16:18</td>\n",
       "      <td>1571.0</td>\n",
       "      <td>1.0</td>\n",
       "    </tr>\n",
       "    <tr>\n",
       "      <th>1</th>\n",
       "      <td>1</td>\n",
       "      <td>2019-05-03 11:25:53</td>\n",
       "      <td>1604.0</td>\n",
       "      <td>2.0</td>\n",
       "    </tr>\n",
       "    <tr>\n",
       "      <th>2</th>\n",
       "      <td>1</td>\n",
       "      <td>2019-05-03 11:29:11</td>\n",
       "      <td>1618.0</td>\n",
       "      <td>3.0</td>\n",
       "    </tr>\n",
       "    <tr>\n",
       "      <th>3</th>\n",
       "      <td>1</td>\n",
       "      <td>2019-05-03 11:30:01</td>\n",
       "      <td>1601.0</td>\n",
       "      <td>4.0</td>\n",
       "    </tr>\n",
       "    <tr>\n",
       "      <th>4</th>\n",
       "      <td>1</td>\n",
       "      <td>2019-05-03 11:30:39</td>\n",
       "      <td>1613.0</td>\n",
       "      <td>5.0</td>\n",
       "    </tr>\n",
       "    <tr>\n",
       "      <th>...</th>\n",
       "      <td>...</td>\n",
       "      <td>...</td>\n",
       "      <td>...</td>\n",
       "      <td>...</td>\n",
       "    </tr>\n",
       "    <tr>\n",
       "      <th>12262</th>\n",
       "      <td>2498</td>\n",
       "      <td>2019-08-06 02:19:26</td>\n",
       "      <td>1593.0</td>\n",
       "      <td>4.0</td>\n",
       "    </tr>\n",
       "    <tr>\n",
       "      <th>12263</th>\n",
       "      <td>2498</td>\n",
       "      <td>2019-08-06 02:25:31</td>\n",
       "      <td>1594.0</td>\n",
       "      <td>5.0</td>\n",
       "    </tr>\n",
       "    <tr>\n",
       "      <th>12264</th>\n",
       "      <td>2499</td>\n",
       "      <td>2019-08-06 02:40:25</td>\n",
       "      <td>1569.0</td>\n",
       "      <td>1.0</td>\n",
       "    </tr>\n",
       "    <tr>\n",
       "      <th>12265</th>\n",
       "      <td>2499</td>\n",
       "      <td>2019-08-06 02:54:24</td>\n",
       "      <td>1604.0</td>\n",
       "      <td>2.0</td>\n",
       "    </tr>\n",
       "    <tr>\n",
       "      <th>12266</th>\n",
       "      <td>2499</td>\n",
       "      <td>2019-08-06 03:00:28</td>\n",
       "      <td>1603.0</td>\n",
       "      <td>3.0</td>\n",
       "    </tr>\n",
       "  </tbody>\n",
       "</table>\n",
       "<p>12259 rows × 4 columns</p>\n",
       "</div>"
      ],
      "text/plain": [
       "        key         Время замера  Температура  rank\n",
       "0         1  2019-05-03 11:16:18       1571.0   1.0\n",
       "1         1  2019-05-03 11:25:53       1604.0   2.0\n",
       "2         1  2019-05-03 11:29:11       1618.0   3.0\n",
       "3         1  2019-05-03 11:30:01       1601.0   4.0\n",
       "4         1  2019-05-03 11:30:39       1613.0   5.0\n",
       "...     ...                  ...          ...   ...\n",
       "12262  2498  2019-08-06 02:19:26       1593.0   4.0\n",
       "12263  2498  2019-08-06 02:25:31       1594.0   5.0\n",
       "12264  2499  2019-08-06 02:40:25       1569.0   1.0\n",
       "12265  2499  2019-08-06 02:54:24       1604.0   2.0\n",
       "12266  2499  2019-08-06 03:00:28       1603.0   3.0\n",
       "\n",
       "[12259 rows x 4 columns]"
      ]
     },
     "execution_count": 41,
     "metadata": {},
     "output_type": "execute_result"
    }
   ],
   "source": [
    "df_temp1"
   ]
  },
  {
   "cell_type": "code",
   "execution_count": 42,
   "metadata": {
    "executionInfo": {
     "elapsed": 138,
     "status": "ok",
     "timestamp": 1637915184571,
     "user": {
      "displayName": "Евгений Макаров",
      "photoUrl": "https://lh3.googleusercontent.com/a/default-user=s64",
      "userId": "14572979811838672928"
     },
     "user_tz": -180
    },
    "id": "oTEmnwAQOTkG"
   },
   "outputs": [],
   "source": [
    "df_temp_max = df_temp1.sort_values('rank', ascending=False).drop_duplicates(['key']).sort_values('key')[['key','Температура']]"
   ]
  },
  {
   "cell_type": "code",
   "execution_count": 43,
   "metadata": {
    "executionInfo": {
     "elapsed": 139,
     "status": "ok",
     "timestamp": 1637915184573,
     "user": {
      "displayName": "Евгений Макаров",
      "photoUrl": "https://lh3.googleusercontent.com/a/default-user=s64",
      "userId": "14572979811838672928"
     },
     "user_tz": -180
    },
    "id": "K9lNR6eNSust"
   },
   "outputs": [],
   "source": [
    "df_temp_min = df_temp1.sort_values('rank', ascending=True).drop_duplicates(['key']).sort_values('key')[['key','Температура']]"
   ]
  },
  {
   "cell_type": "code",
   "execution_count": 44,
   "metadata": {
    "colab": {
     "base_uri": "https://localhost:8080/",
     "height": 423
    },
    "executionInfo": {
     "elapsed": 1841,
     "status": "ok",
     "timestamp": 1637915186276,
     "user": {
      "displayName": "Евгений Макаров",
      "photoUrl": "https://lh3.googleusercontent.com/a/default-user=s64",
      "userId": "14572979811838672928"
     },
     "user_tz": -180
    },
    "id": "oI9fCPG015XK",
    "outputId": "bfc2ed0d-9e37-4bc7-ac74-7e891ef4a812"
   },
   "outputs": [
    {
     "data": {
      "text/html": [
       "<div>\n",
       "<style scoped>\n",
       "    .dataframe tbody tr th:only-of-type {\n",
       "        vertical-align: middle;\n",
       "    }\n",
       "\n",
       "    .dataframe tbody tr th {\n",
       "        vertical-align: top;\n",
       "    }\n",
       "\n",
       "    .dataframe thead th {\n",
       "        text-align: right;\n",
       "    }\n",
       "</style>\n",
       "<table border=\"1\" class=\"dataframe\">\n",
       "  <thead>\n",
       "    <tr style=\"text-align: right;\">\n",
       "      <th></th>\n",
       "      <th>key</th>\n",
       "      <th>Температура</th>\n",
       "    </tr>\n",
       "  </thead>\n",
       "  <tbody>\n",
       "    <tr>\n",
       "      <th>4</th>\n",
       "      <td>1</td>\n",
       "      <td>1613.0</td>\n",
       "    </tr>\n",
       "    <tr>\n",
       "      <th>10</th>\n",
       "      <td>2</td>\n",
       "      <td>1602.0</td>\n",
       "    </tr>\n",
       "    <tr>\n",
       "      <th>15</th>\n",
       "      <td>3</td>\n",
       "      <td>1599.0</td>\n",
       "    </tr>\n",
       "    <tr>\n",
       "      <th>18</th>\n",
       "      <td>4</td>\n",
       "      <td>1625.0</td>\n",
       "    </tr>\n",
       "    <tr>\n",
       "      <th>20</th>\n",
       "      <td>5</td>\n",
       "      <td>1602.0</td>\n",
       "    </tr>\n",
       "    <tr>\n",
       "      <th>...</th>\n",
       "      <td>...</td>\n",
       "      <td>...</td>\n",
       "    </tr>\n",
       "    <tr>\n",
       "      <th>12252</th>\n",
       "      <td>2495</td>\n",
       "      <td>1591.0</td>\n",
       "    </tr>\n",
       "    <tr>\n",
       "      <th>12256</th>\n",
       "      <td>2496</td>\n",
       "      <td>1591.0</td>\n",
       "    </tr>\n",
       "    <tr>\n",
       "      <th>12258</th>\n",
       "      <td>2497</td>\n",
       "      <td>1589.0</td>\n",
       "    </tr>\n",
       "    <tr>\n",
       "      <th>12263</th>\n",
       "      <td>2498</td>\n",
       "      <td>1594.0</td>\n",
       "    </tr>\n",
       "    <tr>\n",
       "      <th>12266</th>\n",
       "      <td>2499</td>\n",
       "      <td>1603.0</td>\n",
       "    </tr>\n",
       "  </tbody>\n",
       "</table>\n",
       "<p>2475 rows × 2 columns</p>\n",
       "</div>"
      ],
      "text/plain": [
       "        key  Температура\n",
       "4         1       1613.0\n",
       "10        2       1602.0\n",
       "15        3       1599.0\n",
       "18        4       1625.0\n",
       "20        5       1602.0\n",
       "...     ...          ...\n",
       "12252  2495       1591.0\n",
       "12256  2496       1591.0\n",
       "12258  2497       1589.0\n",
       "12263  2498       1594.0\n",
       "12266  2499       1603.0\n",
       "\n",
       "[2475 rows x 2 columns]"
      ]
     },
     "execution_count": 44,
     "metadata": {},
     "output_type": "execute_result"
    }
   ],
   "source": [
    "df_temp_max"
   ]
  },
  {
   "cell_type": "code",
   "execution_count": 45,
   "metadata": {
    "colab": {
     "base_uri": "https://localhost:8080/",
     "height": 423
    },
    "executionInfo": {
     "elapsed": 580,
     "status": "ok",
     "timestamp": 1637915186281,
     "user": {
      "displayName": "Евгений Макаров",
      "photoUrl": "https://lh3.googleusercontent.com/a/default-user=s64",
      "userId": "14572979811838672928"
     },
     "user_tz": -180
    },
    "id": "_4FfsBkoU8Sb",
    "outputId": "37555f44-0714-4e44-a18d-4bac0054c842"
   },
   "outputs": [
    {
     "data": {
      "text/html": [
       "<div>\n",
       "<style scoped>\n",
       "    .dataframe tbody tr th:only-of-type {\n",
       "        vertical-align: middle;\n",
       "    }\n",
       "\n",
       "    .dataframe tbody tr th {\n",
       "        vertical-align: top;\n",
       "    }\n",
       "\n",
       "    .dataframe thead th {\n",
       "        text-align: right;\n",
       "    }\n",
       "</style>\n",
       "<table border=\"1\" class=\"dataframe\">\n",
       "  <thead>\n",
       "    <tr style=\"text-align: right;\">\n",
       "      <th></th>\n",
       "      <th>key</th>\n",
       "      <th>Температура</th>\n",
       "    </tr>\n",
       "  </thead>\n",
       "  <tbody>\n",
       "    <tr>\n",
       "      <th>0</th>\n",
       "      <td>1</td>\n",
       "      <td>1571.0</td>\n",
       "    </tr>\n",
       "    <tr>\n",
       "      <th>5</th>\n",
       "      <td>2</td>\n",
       "      <td>1581.0</td>\n",
       "    </tr>\n",
       "    <tr>\n",
       "      <th>11</th>\n",
       "      <td>3</td>\n",
       "      <td>1596.0</td>\n",
       "    </tr>\n",
       "    <tr>\n",
       "      <th>16</th>\n",
       "      <td>4</td>\n",
       "      <td>1601.0</td>\n",
       "    </tr>\n",
       "    <tr>\n",
       "      <th>19</th>\n",
       "      <td>5</td>\n",
       "      <td>1576.0</td>\n",
       "    </tr>\n",
       "    <tr>\n",
       "      <th>...</th>\n",
       "      <td>...</td>\n",
       "      <td>...</td>\n",
       "    </tr>\n",
       "    <tr>\n",
       "      <th>12250</th>\n",
       "      <td>2495</td>\n",
       "      <td>1570.0</td>\n",
       "    </tr>\n",
       "    <tr>\n",
       "      <th>12253</th>\n",
       "      <td>2496</td>\n",
       "      <td>1554.0</td>\n",
       "    </tr>\n",
       "    <tr>\n",
       "      <th>12257</th>\n",
       "      <td>2497</td>\n",
       "      <td>1571.0</td>\n",
       "    </tr>\n",
       "    <tr>\n",
       "      <th>12259</th>\n",
       "      <td>2498</td>\n",
       "      <td>1591.0</td>\n",
       "    </tr>\n",
       "    <tr>\n",
       "      <th>12264</th>\n",
       "      <td>2499</td>\n",
       "      <td>1569.0</td>\n",
       "    </tr>\n",
       "  </tbody>\n",
       "</table>\n",
       "<p>2475 rows × 2 columns</p>\n",
       "</div>"
      ],
      "text/plain": [
       "        key  Температура\n",
       "0         1       1571.0\n",
       "5         2       1581.0\n",
       "11        3       1596.0\n",
       "16        4       1601.0\n",
       "19        5       1576.0\n",
       "...     ...          ...\n",
       "12250  2495       1570.0\n",
       "12253  2496       1554.0\n",
       "12257  2497       1571.0\n",
       "12259  2498       1591.0\n",
       "12264  2499       1569.0\n",
       "\n",
       "[2475 rows x 2 columns]"
      ]
     },
     "execution_count": 45,
     "metadata": {},
     "output_type": "execute_result"
    }
   ],
   "source": [
    "df_temp_min"
   ]
  },
  {
   "cell_type": "markdown",
   "metadata": {
    "id": "6oFQCjiX-tHp"
   },
   "source": [
    "Оставим только два столбца для последующего добавления в сводную таблицу."
   ]
  },
  {
   "cell_type": "code",
   "execution_count": 46,
   "metadata": {
    "executionInfo": {
     "elapsed": 579,
     "status": "ok",
     "timestamp": 1637915186282,
     "user": {
      "displayName": "Евгений Макаров",
      "photoUrl": "https://lh3.googleusercontent.com/a/default-user=s64",
      "userId": "14572979811838672928"
     },
     "user_tz": -180
    },
    "id": "KKOkSaVpc3G9"
   },
   "outputs": [],
   "source": [
    "df_temp_max.columns = ['key','T_max']\n",
    "df_temp_min.columns = ['key','T_min']"
   ]
  },
  {
   "cell_type": "markdown",
   "metadata": {
    "id": "cBqTJyXnU9w9"
   },
   "source": [
    "### df_arc1"
   ]
  },
  {
   "cell_type": "code",
   "execution_count": 47,
   "metadata": {
    "colab": {
     "base_uri": "https://localhost:8080/",
     "height": 206
    },
    "executionInfo": {
     "elapsed": 579,
     "status": "ok",
     "timestamp": 1637915186283,
     "user": {
      "displayName": "Евгений Макаров",
      "photoUrl": "https://lh3.googleusercontent.com/a/default-user=s64",
      "userId": "14572979811838672928"
     },
     "user_tz": -180
    },
    "id": "NtnT0hfHN6cf",
    "outputId": "4156861e-e057-4181-bac3-b94ae10c11f6"
   },
   "outputs": [
    {
     "data": {
      "text/html": [
       "<div>\n",
       "<style scoped>\n",
       "    .dataframe tbody tr th:only-of-type {\n",
       "        vertical-align: middle;\n",
       "    }\n",
       "\n",
       "    .dataframe tbody tr th {\n",
       "        vertical-align: top;\n",
       "    }\n",
       "\n",
       "    .dataframe thead th {\n",
       "        text-align: right;\n",
       "    }\n",
       "</style>\n",
       "<table border=\"1\" class=\"dataframe\">\n",
       "  <thead>\n",
       "    <tr style=\"text-align: right;\">\n",
       "      <th></th>\n",
       "      <th>key</th>\n",
       "      <th>Начало нагрева дугой</th>\n",
       "      <th>Конец нагрева дугой</th>\n",
       "      <th>Активная мощность</th>\n",
       "      <th>Реактивная мощность</th>\n",
       "    </tr>\n",
       "  </thead>\n",
       "  <tbody>\n",
       "    <tr>\n",
       "      <th>0</th>\n",
       "      <td>1</td>\n",
       "      <td>2019-05-03 11:02:14</td>\n",
       "      <td>2019-05-03 11:06:02</td>\n",
       "      <td>0.976059</td>\n",
       "      <td>0.687084</td>\n",
       "    </tr>\n",
       "    <tr>\n",
       "      <th>1</th>\n",
       "      <td>1</td>\n",
       "      <td>2019-05-03 11:07:28</td>\n",
       "      <td>2019-05-03 11:10:33</td>\n",
       "      <td>0.805607</td>\n",
       "      <td>0.520285</td>\n",
       "    </tr>\n",
       "    <tr>\n",
       "      <th>2</th>\n",
       "      <td>1</td>\n",
       "      <td>2019-05-03 11:11:44</td>\n",
       "      <td>2019-05-03 11:14:36</td>\n",
       "      <td>0.744363</td>\n",
       "      <td>0.498805</td>\n",
       "    </tr>\n",
       "    <tr>\n",
       "      <th>3</th>\n",
       "      <td>1</td>\n",
       "      <td>2019-05-03 11:18:14</td>\n",
       "      <td>2019-05-03 11:24:19</td>\n",
       "      <td>1.659363</td>\n",
       "      <td>1.062669</td>\n",
       "    </tr>\n",
       "    <tr>\n",
       "      <th>4</th>\n",
       "      <td>1</td>\n",
       "      <td>2019-05-03 11:26:09</td>\n",
       "      <td>2019-05-03 11:28:37</td>\n",
       "      <td>0.692755</td>\n",
       "      <td>0.414397</td>\n",
       "    </tr>\n",
       "  </tbody>\n",
       "</table>\n",
       "</div>"
      ],
      "text/plain": [
       "   key Начало нагрева дугой  ... Активная мощность  Реактивная мощность\n",
       "0    1  2019-05-03 11:02:14  ...          0.976059             0.687084\n",
       "1    1  2019-05-03 11:07:28  ...          0.805607             0.520285\n",
       "2    1  2019-05-03 11:11:44  ...          0.744363             0.498805\n",
       "3    1  2019-05-03 11:18:14  ...          1.659363             1.062669\n",
       "4    1  2019-05-03 11:26:09  ...          0.692755             0.414397\n",
       "\n",
       "[5 rows x 5 columns]"
      ]
     },
     "execution_count": 47,
     "metadata": {},
     "output_type": "execute_result"
    }
   ],
   "source": [
    "df_arc.head()"
   ]
  },
  {
   "cell_type": "markdown",
   "metadata": {
    "id": "aBai5SFjL1Ws"
   },
   "source": [
    "Удаление партии с отрицательным значением реактивной мощности."
   ]
  },
  {
   "cell_type": "code",
   "execution_count": 48,
   "metadata": {
    "colab": {
     "base_uri": "https://localhost:8080/"
    },
    "executionInfo": {
     "elapsed": 579,
     "status": "ok",
     "timestamp": 1637915186284,
     "user": {
      "displayName": "Евгений Макаров",
      "photoUrl": "https://lh3.googleusercontent.com/a/default-user=s64",
      "userId": "14572979811838672928"
     },
     "user_tz": -180
    },
    "id": "ZqhZuvdvy5CN",
    "outputId": "8d7cf8b9-276f-4c67-c628-96eafe92579c"
   },
   "outputs": [
    {
     "data": {
      "text/plain": [
       "key                                    2116\n",
       "Начало нагрева дугой    2019-07-24 00:44:48\n",
       "Конец нагрева дугой     2019-07-24 00:46:37\n",
       "Активная мощность                  0.495782\n",
       "Реактивная мощность                -715.505\n",
       "Name: 9780, dtype: object"
      ]
     },
     "execution_count": 48,
     "metadata": {},
     "output_type": "execute_result"
    }
   ],
   "source": [
    "df_arc.iloc[9780]"
   ]
  },
  {
   "cell_type": "code",
   "execution_count": 49,
   "metadata": {
    "executionInfo": {
     "elapsed": 461,
     "status": "ok",
     "timestamp": 1637915186284,
     "user": {
      "displayName": "Евгений Макаров",
      "photoUrl": "https://lh3.googleusercontent.com/a/default-user=s64",
      "userId": "14572979811838672928"
     },
     "user_tz": -180
    },
    "id": "jOLMdUORZRVX"
   },
   "outputs": [],
   "source": [
    "df_arc = df_arc[df_arc['key'] != 2116]"
   ]
  },
  {
   "cell_type": "markdown",
   "metadata": {
    "id": "R6CyHFe0Lwnk"
   },
   "source": [
    "Проверка на корреляцию мощностей."
   ]
  },
  {
   "cell_type": "code",
   "execution_count": 50,
   "metadata": {
    "colab": {
     "base_uri": "https://localhost:8080/"
    },
    "executionInfo": {
     "elapsed": 463,
     "status": "ok",
     "timestamp": 1637915186286,
     "user": {
      "displayName": "Евгений Макаров",
      "photoUrl": "https://lh3.googleusercontent.com/a/default-user=s64",
      "userId": "14572979811838672928"
     },
     "user_tz": -180
    },
    "id": "4d84JQ4iLWwh",
    "outputId": "4545e2e4-802e-40f2-f47b-462e3d3a3f9a"
   },
   "outputs": [
    {
     "data": {
      "text/plain": [
       "0.9631799081909955"
      ]
     },
     "execution_count": 50,
     "metadata": {},
     "output_type": "execute_result"
    }
   ],
   "source": [
    "df_arc['Реактивная мощность'].corr(df_arc['Активная мощность'])"
   ]
  },
  {
   "cell_type": "markdown",
   "metadata": {
    "id": "EfRAUPbC-8uz"
   },
   "source": [
    "Корреляция высокая, поэтому мы можем оставить только один признак - полную мощность. "
   ]
  },
  {
   "cell_type": "code",
   "execution_count": 51,
   "metadata": {
    "colab": {
     "base_uri": "https://localhost:8080/"
    },
    "executionInfo": {
     "elapsed": 445,
     "status": "ok",
     "timestamp": 1637915186287,
     "user": {
      "displayName": "Евгений Макаров",
      "photoUrl": "https://lh3.googleusercontent.com/a/default-user=s64",
      "userId": "14572979811838672928"
     },
     "user_tz": -180
    },
    "id": "5GlIjvnuOAjI",
    "outputId": "028a4912-42b8-4277-abf6-a89ff446d243"
   },
   "outputs": [
    {
     "name": "stderr",
     "output_type": "stream",
     "text": [
      "/usr/local/lib/python3.7/dist-packages/ipykernel_launcher.py:1: SettingWithCopyWarning: \n",
      "A value is trying to be set on a copy of a slice from a DataFrame.\n",
      "Try using .loc[row_indexer,col_indexer] = value instead\n",
      "\n",
      "See the caveats in the documentation: https://pandas.pydata.org/pandas-docs/stable/user_guide/indexing.html#returning-a-view-versus-a-copy\n",
      "  \"\"\"Entry point for launching an IPython kernel.\n"
     ]
    }
   ],
   "source": [
    "df_arc['Полная мощность'] = np.sqrt((df_arc['Активная мощность'])**2 + (df_arc['Реактивная мощность'])**2)"
   ]
  },
  {
   "cell_type": "code",
   "execution_count": 52,
   "metadata": {
    "colab": {
     "base_uri": "https://localhost:8080/",
     "height": 206
    },
    "executionInfo": {
     "elapsed": 429,
     "status": "ok",
     "timestamp": 1637915186287,
     "user": {
      "displayName": "Евгений Макаров",
      "photoUrl": "https://lh3.googleusercontent.com/a/default-user=s64",
      "userId": "14572979811838672928"
     },
     "user_tz": -180
    },
    "id": "4NxMt6A7XBxS",
    "outputId": "88dd9198-91be-4151-ecfe-fa07aab3ad6f"
   },
   "outputs": [
    {
     "data": {
      "text/html": [
       "<div>\n",
       "<style scoped>\n",
       "    .dataframe tbody tr th:only-of-type {\n",
       "        vertical-align: middle;\n",
       "    }\n",
       "\n",
       "    .dataframe tbody tr th {\n",
       "        vertical-align: top;\n",
       "    }\n",
       "\n",
       "    .dataframe thead th {\n",
       "        text-align: right;\n",
       "    }\n",
       "</style>\n",
       "<table border=\"1\" class=\"dataframe\">\n",
       "  <thead>\n",
       "    <tr style=\"text-align: right;\">\n",
       "      <th></th>\n",
       "      <th>key</th>\n",
       "      <th>Начало нагрева дугой</th>\n",
       "      <th>Конец нагрева дугой</th>\n",
       "      <th>Активная мощность</th>\n",
       "      <th>Реактивная мощность</th>\n",
       "      <th>Полная мощность</th>\n",
       "    </tr>\n",
       "  </thead>\n",
       "  <tbody>\n",
       "    <tr>\n",
       "      <th>0</th>\n",
       "      <td>1</td>\n",
       "      <td>2019-05-03 11:02:14</td>\n",
       "      <td>2019-05-03 11:06:02</td>\n",
       "      <td>0.976059</td>\n",
       "      <td>0.687084</td>\n",
       "      <td>1.193639</td>\n",
       "    </tr>\n",
       "    <tr>\n",
       "      <th>1</th>\n",
       "      <td>1</td>\n",
       "      <td>2019-05-03 11:07:28</td>\n",
       "      <td>2019-05-03 11:10:33</td>\n",
       "      <td>0.805607</td>\n",
       "      <td>0.520285</td>\n",
       "      <td>0.959010</td>\n",
       "    </tr>\n",
       "    <tr>\n",
       "      <th>2</th>\n",
       "      <td>1</td>\n",
       "      <td>2019-05-03 11:11:44</td>\n",
       "      <td>2019-05-03 11:14:36</td>\n",
       "      <td>0.744363</td>\n",
       "      <td>0.498805</td>\n",
       "      <td>0.896038</td>\n",
       "    </tr>\n",
       "    <tr>\n",
       "      <th>3</th>\n",
       "      <td>1</td>\n",
       "      <td>2019-05-03 11:18:14</td>\n",
       "      <td>2019-05-03 11:24:19</td>\n",
       "      <td>1.659363</td>\n",
       "      <td>1.062669</td>\n",
       "      <td>1.970470</td>\n",
       "    </tr>\n",
       "    <tr>\n",
       "      <th>4</th>\n",
       "      <td>1</td>\n",
       "      <td>2019-05-03 11:26:09</td>\n",
       "      <td>2019-05-03 11:28:37</td>\n",
       "      <td>0.692755</td>\n",
       "      <td>0.414397</td>\n",
       "      <td>0.807239</td>\n",
       "    </tr>\n",
       "  </tbody>\n",
       "</table>\n",
       "</div>"
      ],
      "text/plain": [
       "   key Начало нагрева дугой  ... Реактивная мощность  Полная мощность\n",
       "0    1  2019-05-03 11:02:14  ...            0.687084         1.193639\n",
       "1    1  2019-05-03 11:07:28  ...            0.520285         0.959010\n",
       "2    1  2019-05-03 11:11:44  ...            0.498805         0.896038\n",
       "3    1  2019-05-03 11:18:14  ...            1.062669         1.970470\n",
       "4    1  2019-05-03 11:26:09  ...            0.414397         0.807239\n",
       "\n",
       "[5 rows x 6 columns]"
      ]
     },
     "execution_count": 52,
     "metadata": {},
     "output_type": "execute_result"
    }
   ],
   "source": [
    "df_arc.head()"
   ]
  },
  {
   "cell_type": "markdown",
   "metadata": {
    "id": "SFEyGtvaHrc_"
   },
   "source": [
    "#### Столбец `Работа`"
   ]
  },
  {
   "cell_type": "code",
   "execution_count": 53,
   "metadata": {
    "colab": {
     "base_uri": "https://localhost:8080/"
    },
    "executionInfo": {
     "elapsed": 426,
     "status": "ok",
     "timestamp": 1637915186288,
     "user": {
      "displayName": "Евгений Макаров",
      "photoUrl": "https://lh3.googleusercontent.com/a/default-user=s64",
      "userId": "14572979811838672928"
     },
     "user_tz": -180
    },
    "id": "keR6etrUHvmD",
    "outputId": "bc52b10a-933c-460b-9285-78b499bf3f45"
   },
   "outputs": [
    {
     "name": "stderr",
     "output_type": "stream",
     "text": [
      "/usr/local/lib/python3.7/dist-packages/ipykernel_launcher.py:1: SettingWithCopyWarning: \n",
      "A value is trying to be set on a copy of a slice from a DataFrame.\n",
      "Try using .loc[row_indexer,col_indexer] = value instead\n",
      "\n",
      "See the caveats in the documentation: https://pandas.pydata.org/pandas-docs/stable/user_guide/indexing.html#returning-a-view-versus-a-copy\n",
      "  \"\"\"Entry point for launching an IPython kernel.\n",
      "/usr/local/lib/python3.7/dist-packages/ipykernel_launcher.py:2: SettingWithCopyWarning: \n",
      "A value is trying to be set on a copy of a slice from a DataFrame.\n",
      "Try using .loc[row_indexer,col_indexer] = value instead\n",
      "\n",
      "See the caveats in the documentation: https://pandas.pydata.org/pandas-docs/stable/user_guide/indexing.html#returning-a-view-versus-a-copy\n",
      "  \n"
     ]
    }
   ],
   "source": [
    "df_arc['Начало нагрева дугой'] = pd.to_datetime(df_arc['Начало нагрева дугой'], format=TIME)\n",
    "df_arc['Конец нагрева дугой'] = pd.to_datetime(df_arc['Конец нагрева дугой'], format=TIME)"
   ]
  },
  {
   "cell_type": "code",
   "execution_count": 54,
   "metadata": {
    "executionInfo": {
     "elapsed": 359,
     "status": "ok",
     "timestamp": 1637915186288,
     "user": {
      "displayName": "Евгений Макаров",
      "photoUrl": "https://lh3.googleusercontent.com/a/default-user=s64",
      "userId": "14572979811838672928"
     },
     "user_tz": -180
    },
    "id": "Y_GoBXHCIxsH"
   },
   "outputs": [],
   "source": [
    "df_arc['Время нагрева,ч'] = (df_arc['Конец нагрева дугой']-df_arc['Начало нагрева дугой']).astype('timedelta64[s]') / 3600"
   ]
  },
  {
   "cell_type": "code",
   "execution_count": 55,
   "metadata": {
    "colab": {
     "base_uri": "https://localhost:8080/",
     "height": 423
    },
    "executionInfo": {
     "elapsed": 359,
     "status": "ok",
     "timestamp": 1637915186289,
     "user": {
      "displayName": "Евгений Макаров",
      "photoUrl": "https://lh3.googleusercontent.com/a/default-user=s64",
      "userId": "14572979811838672928"
     },
     "user_tz": -180
    },
    "id": "sfXL4R-6I92e",
    "outputId": "83f8017d-7e69-49d4-a802-94f9c2d6ccd6"
   },
   "outputs": [
    {
     "data": {
      "text/html": [
       "<div>\n",
       "<style scoped>\n",
       "    .dataframe tbody tr th:only-of-type {\n",
       "        vertical-align: middle;\n",
       "    }\n",
       "\n",
       "    .dataframe tbody tr th {\n",
       "        vertical-align: top;\n",
       "    }\n",
       "\n",
       "    .dataframe thead th {\n",
       "        text-align: right;\n",
       "    }\n",
       "</style>\n",
       "<table border=\"1\" class=\"dataframe\">\n",
       "  <thead>\n",
       "    <tr style=\"text-align: right;\">\n",
       "      <th></th>\n",
       "      <th>key</th>\n",
       "      <th>Начало нагрева дугой</th>\n",
       "      <th>Конец нагрева дугой</th>\n",
       "      <th>Активная мощность</th>\n",
       "      <th>Реактивная мощность</th>\n",
       "      <th>Полная мощность</th>\n",
       "      <th>Время нагрева,ч</th>\n",
       "    </tr>\n",
       "  </thead>\n",
       "  <tbody>\n",
       "    <tr>\n",
       "      <th>0</th>\n",
       "      <td>1</td>\n",
       "      <td>2019-05-03 11:02:14</td>\n",
       "      <td>2019-05-03 11:06:02</td>\n",
       "      <td>0.976059</td>\n",
       "      <td>0.687084</td>\n",
       "      <td>1.193639</td>\n",
       "      <td>0.063333</td>\n",
       "    </tr>\n",
       "    <tr>\n",
       "      <th>1</th>\n",
       "      <td>1</td>\n",
       "      <td>2019-05-03 11:07:28</td>\n",
       "      <td>2019-05-03 11:10:33</td>\n",
       "      <td>0.805607</td>\n",
       "      <td>0.520285</td>\n",
       "      <td>0.959010</td>\n",
       "      <td>0.051389</td>\n",
       "    </tr>\n",
       "    <tr>\n",
       "      <th>2</th>\n",
       "      <td>1</td>\n",
       "      <td>2019-05-03 11:11:44</td>\n",
       "      <td>2019-05-03 11:14:36</td>\n",
       "      <td>0.744363</td>\n",
       "      <td>0.498805</td>\n",
       "      <td>0.896038</td>\n",
       "      <td>0.047778</td>\n",
       "    </tr>\n",
       "    <tr>\n",
       "      <th>3</th>\n",
       "      <td>1</td>\n",
       "      <td>2019-05-03 11:18:14</td>\n",
       "      <td>2019-05-03 11:24:19</td>\n",
       "      <td>1.659363</td>\n",
       "      <td>1.062669</td>\n",
       "      <td>1.970470</td>\n",
       "      <td>0.101389</td>\n",
       "    </tr>\n",
       "    <tr>\n",
       "      <th>4</th>\n",
       "      <td>1</td>\n",
       "      <td>2019-05-03 11:26:09</td>\n",
       "      <td>2019-05-03 11:28:37</td>\n",
       "      <td>0.692755</td>\n",
       "      <td>0.414397</td>\n",
       "      <td>0.807239</td>\n",
       "      <td>0.041111</td>\n",
       "    </tr>\n",
       "    <tr>\n",
       "      <th>...</th>\n",
       "      <td>...</td>\n",
       "      <td>...</td>\n",
       "      <td>...</td>\n",
       "      <td>...</td>\n",
       "      <td>...</td>\n",
       "      <td>...</td>\n",
       "      <td>...</td>\n",
       "    </tr>\n",
       "    <tr>\n",
       "      <th>14871</th>\n",
       "      <td>3241</td>\n",
       "      <td>2019-09-01 03:58:58</td>\n",
       "      <td>2019-09-01 04:01:35</td>\n",
       "      <td>0.533670</td>\n",
       "      <td>0.354439</td>\n",
       "      <td>0.640648</td>\n",
       "      <td>0.043611</td>\n",
       "    </tr>\n",
       "    <tr>\n",
       "      <th>14872</th>\n",
       "      <td>3241</td>\n",
       "      <td>2019-09-01 04:05:04</td>\n",
       "      <td>2019-09-01 04:08:04</td>\n",
       "      <td>0.676604</td>\n",
       "      <td>0.523631</td>\n",
       "      <td>0.855559</td>\n",
       "      <td>0.050000</td>\n",
       "    </tr>\n",
       "    <tr>\n",
       "      <th>14873</th>\n",
       "      <td>3241</td>\n",
       "      <td>2019-09-01 04:16:41</td>\n",
       "      <td>2019-09-01 04:19:45</td>\n",
       "      <td>0.733899</td>\n",
       "      <td>0.475654</td>\n",
       "      <td>0.874560</td>\n",
       "      <td>0.051111</td>\n",
       "    </tr>\n",
       "    <tr>\n",
       "      <th>14874</th>\n",
       "      <td>3241</td>\n",
       "      <td>2019-09-01 04:31:51</td>\n",
       "      <td>2019-09-01 04:32:48</td>\n",
       "      <td>0.220694</td>\n",
       "      <td>0.145768</td>\n",
       "      <td>0.264489</td>\n",
       "      <td>0.015833</td>\n",
       "    </tr>\n",
       "    <tr>\n",
       "      <th>14875</th>\n",
       "      <td>3241</td>\n",
       "      <td>2019-09-01 04:34:47</td>\n",
       "      <td>2019-09-01 04:36:08</td>\n",
       "      <td>0.306580</td>\n",
       "      <td>0.196708</td>\n",
       "      <td>0.364260</td>\n",
       "      <td>0.022500</td>\n",
       "    </tr>\n",
       "  </tbody>\n",
       "</table>\n",
       "<p>14872 rows × 7 columns</p>\n",
       "</div>"
      ],
      "text/plain": [
       "        key Начало нагрева дугой  ... Полная мощность  Время нагрева,ч\n",
       "0         1  2019-05-03 11:02:14  ...        1.193639         0.063333\n",
       "1         1  2019-05-03 11:07:28  ...        0.959010         0.051389\n",
       "2         1  2019-05-03 11:11:44  ...        0.896038         0.047778\n",
       "3         1  2019-05-03 11:18:14  ...        1.970470         0.101389\n",
       "4         1  2019-05-03 11:26:09  ...        0.807239         0.041111\n",
       "...     ...                  ...  ...             ...              ...\n",
       "14871  3241  2019-09-01 03:58:58  ...        0.640648         0.043611\n",
       "14872  3241  2019-09-01 04:05:04  ...        0.855559         0.050000\n",
       "14873  3241  2019-09-01 04:16:41  ...        0.874560         0.051111\n",
       "14874  3241  2019-09-01 04:31:51  ...        0.264489         0.015833\n",
       "14875  3241  2019-09-01 04:34:47  ...        0.364260         0.022500\n",
       "\n",
       "[14872 rows x 7 columns]"
      ]
     },
     "execution_count": 55,
     "metadata": {},
     "output_type": "execute_result"
    }
   ],
   "source": [
    "df_arc"
   ]
  },
  {
   "cell_type": "code",
   "execution_count": 56,
   "metadata": {
    "executionInfo": {
     "elapsed": 357,
     "status": "ok",
     "timestamp": 1637915186289,
     "user": {
      "displayName": "Евгений Макаров",
      "photoUrl": "https://lh3.googleusercontent.com/a/default-user=s64",
      "userId": "14572979811838672928"
     },
     "user_tz": -180
    },
    "id": "y_xioo_IJa7K"
   },
   "outputs": [],
   "source": [
    "df_arc['Работа'] = df_arc['Время нагрева,ч'] * df_arc['Активная мощность']"
   ]
  },
  {
   "cell_type": "markdown",
   "metadata": {
    "id": "ck-r4y7v_FMb"
   },
   "source": [
    "Для добавления в таблицу для каждой партии возьмем сумму полных мощностей, затраченных на нагрев."
   ]
  },
  {
   "cell_type": "code",
   "execution_count": 57,
   "metadata": {
    "colab": {
     "base_uri": "https://localhost:8080/"
    },
    "executionInfo": {
     "elapsed": 358,
     "status": "ok",
     "timestamp": 1637915186290,
     "user": {
      "displayName": "Евгений Макаров",
      "photoUrl": "https://lh3.googleusercontent.com/a/default-user=s64",
      "userId": "14572979811838672928"
     },
     "user_tz": -180
    },
    "id": "a46gtS4KXGFX",
    "outputId": "7d981504-2c75-4c25-fd7b-c69852b4c097"
   },
   "outputs": [
    {
     "data": {
      "text/plain": [
       "key\n",
       "1       0.335501\n",
       "2       0.203838\n",
       "3       0.123218\n",
       "4       0.186295\n",
       "5       0.277082\n",
       "          ...   \n",
       "3237    0.216109\n",
       "3238    0.120236\n",
       "3239    0.234716\n",
       "3240    0.153968\n",
       "3241    0.105007\n",
       "Name: Работа, Length: 3213, dtype: float64"
      ]
     },
     "execution_count": 57,
     "metadata": {},
     "output_type": "execute_result"
    }
   ],
   "source": [
    "df_arc1 = df_arc[['key', 'Работа']].groupby('key')['Работа'].sum()\n",
    "df_arc1"
   ]
  },
  {
   "cell_type": "markdown",
   "metadata": {
    "id": "mUGfY1gTaIsc"
   },
   "source": [
    "### df_bulk1, df_wire1"
   ]
  },
  {
   "cell_type": "markdown",
   "metadata": {
    "id": "r-4AReDW_Poq"
   },
   "source": [
    "Для таблиц с количеством добавленных материалов возьмем сумму для каждой партии."
   ]
  },
  {
   "cell_type": "code",
   "execution_count": 58,
   "metadata": {
    "executionInfo": {
     "elapsed": 302,
     "status": "ok",
     "timestamp": 1637915186291,
     "user": {
      "displayName": "Евгений Макаров",
      "photoUrl": "https://lh3.googleusercontent.com/a/default-user=s64",
      "userId": "14572979811838672928"
     },
     "user_tz": -180
    },
    "id": "y_TmHPCVaQhJ"
   },
   "outputs": [],
   "source": [
    "df_bulk['bulk_sum'] = df_bulk[list(df_bulk.columns)].sum(axis=1)"
   ]
  },
  {
   "cell_type": "code",
   "execution_count": 59,
   "metadata": {
    "executionInfo": {
     "elapsed": 302,
     "status": "ok",
     "timestamp": 1637915186291,
     "user": {
      "displayName": "Евгений Макаров",
      "photoUrl": "https://lh3.googleusercontent.com/a/default-user=s64",
      "userId": "14572979811838672928"
     },
     "user_tz": -180
    },
    "id": "nF4uHYKybLg1"
   },
   "outputs": [],
   "source": [
    "df_bulk1 = df_bulk[['key','bulk_sum']]"
   ]
  },
  {
   "cell_type": "code",
   "execution_count": 60,
   "metadata": {
    "colab": {
     "base_uri": "https://localhost:8080/"
    },
    "executionInfo": {
     "elapsed": 302,
     "status": "ok",
     "timestamp": 1637915186292,
     "user": {
      "displayName": "Евгений Макаров",
      "photoUrl": "https://lh3.googleusercontent.com/a/default-user=s64",
      "userId": "14572979811838672928"
     },
     "user_tz": -180
    },
    "id": "lnxWLsS7bOdA",
    "outputId": "c9985f3a-4479-4773-a4e3-ab1104bfe0f1"
   },
   "outputs": [
    {
     "data": {
      "text/plain": [
       "key         0.0\n",
       "bulk_sum    0.0\n",
       "dtype: float64"
      ]
     },
     "execution_count": 60,
     "metadata": {},
     "output_type": "execute_result"
    }
   ],
   "source": [
    "df_bulk1.isna().mean()"
   ]
  },
  {
   "cell_type": "code",
   "execution_count": 61,
   "metadata": {
    "executionInfo": {
     "elapsed": 239,
     "status": "ok",
     "timestamp": 1637915186293,
     "user": {
      "displayName": "Евгений Макаров",
      "photoUrl": "https://lh3.googleusercontent.com/a/default-user=s64",
      "userId": "14572979811838672928"
     },
     "user_tz": -180
    },
    "id": "mc-IW9rebdwc"
   },
   "outputs": [],
   "source": [
    "df_wire['wire_sum'] = df_wire[list(df_wire.columns)].sum(axis=1)"
   ]
  },
  {
   "cell_type": "code",
   "execution_count": 62,
   "metadata": {
    "executionInfo": {
     "elapsed": 241,
     "status": "ok",
     "timestamp": 1637915186295,
     "user": {
      "displayName": "Евгений Макаров",
      "photoUrl": "https://lh3.googleusercontent.com/a/default-user=s64",
      "userId": "14572979811838672928"
     },
     "user_tz": -180
    },
    "id": "OuySgtvdbdwd"
   },
   "outputs": [],
   "source": [
    "df_wire1 = df_wire[['key','wire_sum']]"
   ]
  },
  {
   "cell_type": "code",
   "execution_count": 63,
   "metadata": {
    "colab": {
     "base_uri": "https://localhost:8080/"
    },
    "executionInfo": {
     "elapsed": 241,
     "status": "ok",
     "timestamp": 1637915186296,
     "user": {
      "displayName": "Евгений Макаров",
      "photoUrl": "https://lh3.googleusercontent.com/a/default-user=s64",
      "userId": "14572979811838672928"
     },
     "user_tz": -180
    },
    "id": "4e_jqXsTbdwe",
    "outputId": "87497776-8cbf-4528-8f57-ee0b7cefa614"
   },
   "outputs": [
    {
     "data": {
      "text/plain": [
       "key         0.0\n",
       "wire_sum    0.0\n",
       "dtype: float64"
      ]
     },
     "execution_count": 63,
     "metadata": {},
     "output_type": "execute_result"
    }
   ],
   "source": [
    "df_wire1.isna().mean()"
   ]
  },
  {
   "cell_type": "markdown",
   "metadata": {
    "id": "W7XyR37tO6jj"
   },
   "source": [
    "## DF"
   ]
  },
  {
   "cell_type": "markdown",
   "metadata": {
    "id": "1nRQ6VI6bkou"
   },
   "source": [
    "### Создание сводной таблицы"
   ]
  },
  {
   "cell_type": "code",
   "execution_count": 64,
   "metadata": {
    "executionInfo": {
     "elapsed": 189,
     "status": "ok",
     "timestamp": 1637915186298,
     "user": {
      "displayName": "Евгений Макаров",
      "photoUrl": "https://lh3.googleusercontent.com/a/default-user=s64",
      "userId": "14572979811838672928"
     },
     "user_tz": -180
    },
    "id": "5XvZojFkb8Yf"
   },
   "outputs": [],
   "source": [
    "df = df_temp_max.merge(df_temp_min, on='key', how='left'\n",
    "           ).merge(df_arc1, on='key', how='left'\n",
    "           ).merge(df_bulk1, on='key', how='left'\n",
    "           ).merge(df_wire1, on='key', how='left'\n",
    "           ).merge(df_gas, on='key', how='left')"
   ]
  },
  {
   "cell_type": "code",
   "execution_count": 65,
   "metadata": {
    "colab": {
     "base_uri": "https://localhost:8080/",
     "height": 423
    },
    "executionInfo": {
     "elapsed": 186,
     "status": "ok",
     "timestamp": 1637915186298,
     "user": {
      "displayName": "Евгений Макаров",
      "photoUrl": "https://lh3.googleusercontent.com/a/default-user=s64",
      "userId": "14572979811838672928"
     },
     "user_tz": -180
    },
    "id": "AGgCpV8SOxul",
    "outputId": "4817ca40-5d27-4bf7-e861-b9ef48c72c5a"
   },
   "outputs": [
    {
     "data": {
      "text/html": [
       "<div>\n",
       "<style scoped>\n",
       "    .dataframe tbody tr th:only-of-type {\n",
       "        vertical-align: middle;\n",
       "    }\n",
       "\n",
       "    .dataframe tbody tr th {\n",
       "        vertical-align: top;\n",
       "    }\n",
       "\n",
       "    .dataframe thead th {\n",
       "        text-align: right;\n",
       "    }\n",
       "</style>\n",
       "<table border=\"1\" class=\"dataframe\">\n",
       "  <thead>\n",
       "    <tr style=\"text-align: right;\">\n",
       "      <th></th>\n",
       "      <th>key</th>\n",
       "      <th>T_max</th>\n",
       "      <th>T_min</th>\n",
       "      <th>Работа</th>\n",
       "      <th>bulk_sum</th>\n",
       "      <th>wire_sum</th>\n",
       "      <th>Газ 1</th>\n",
       "    </tr>\n",
       "  </thead>\n",
       "  <tbody>\n",
       "    <tr>\n",
       "      <th>0</th>\n",
       "      <td>1</td>\n",
       "      <td>1613.0</td>\n",
       "      <td>1571.0</td>\n",
       "      <td>0.335501</td>\n",
       "      <td>554.0</td>\n",
       "      <td>61.059998</td>\n",
       "      <td>29.749986</td>\n",
       "    </tr>\n",
       "    <tr>\n",
       "      <th>1</th>\n",
       "      <td>2</td>\n",
       "      <td>1602.0</td>\n",
       "      <td>1581.0</td>\n",
       "      <td>0.203838</td>\n",
       "      <td>584.0</td>\n",
       "      <td>98.052315</td>\n",
       "      <td>12.555561</td>\n",
       "    </tr>\n",
       "    <tr>\n",
       "      <th>2</th>\n",
       "      <td>3</td>\n",
       "      <td>1599.0</td>\n",
       "      <td>1596.0</td>\n",
       "      <td>0.123218</td>\n",
       "      <td>547.0</td>\n",
       "      <td>94.160157</td>\n",
       "      <td>28.554793</td>\n",
       "    </tr>\n",
       "    <tr>\n",
       "      <th>3</th>\n",
       "      <td>4</td>\n",
       "      <td>1625.0</td>\n",
       "      <td>1601.0</td>\n",
       "      <td>0.186295</td>\n",
       "      <td>599.0</td>\n",
       "      <td>93.063515</td>\n",
       "      <td>18.841219</td>\n",
       "    </tr>\n",
       "    <tr>\n",
       "      <th>4</th>\n",
       "      <td>5</td>\n",
       "      <td>1602.0</td>\n",
       "      <td>1576.0</td>\n",
       "      <td>0.277082</td>\n",
       "      <td>589.0</td>\n",
       "      <td>103.352796</td>\n",
       "      <td>5.413692</td>\n",
       "    </tr>\n",
       "    <tr>\n",
       "      <th>...</th>\n",
       "      <td>...</td>\n",
       "      <td>...</td>\n",
       "      <td>...</td>\n",
       "      <td>...</td>\n",
       "      <td>...</td>\n",
       "      <td>...</td>\n",
       "      <td>...</td>\n",
       "    </tr>\n",
       "    <tr>\n",
       "      <th>2470</th>\n",
       "      <td>2495</td>\n",
       "      <td>1591.0</td>\n",
       "      <td>1570.0</td>\n",
       "      <td>0.173935</td>\n",
       "      <td>3214.0</td>\n",
       "      <td>2584.150879</td>\n",
       "      <td>7.125735</td>\n",
       "    </tr>\n",
       "    <tr>\n",
       "      <th>2471</th>\n",
       "      <td>2496</td>\n",
       "      <td>1591.0</td>\n",
       "      <td>1554.0</td>\n",
       "      <td>0.202186</td>\n",
       "      <td>3292.0</td>\n",
       "      <td>2610.179527</td>\n",
       "      <td>9.412616</td>\n",
       "    </tr>\n",
       "    <tr>\n",
       "      <th>2472</th>\n",
       "      <td>2497</td>\n",
       "      <td>1589.0</td>\n",
       "      <td>1571.0</td>\n",
       "      <td>0.118760</td>\n",
       "      <td>3162.0</td>\n",
       "      <td>2600.134723</td>\n",
       "      <td>6.271699</td>\n",
       "    </tr>\n",
       "    <tr>\n",
       "      <th>2473</th>\n",
       "      <td>2498</td>\n",
       "      <td>1594.0</td>\n",
       "      <td>1591.0</td>\n",
       "      <td>0.174980</td>\n",
       "      <td>3231.0</td>\n",
       "      <td>2616.110717</td>\n",
       "      <td>14.953657</td>\n",
       "    </tr>\n",
       "    <tr>\n",
       "      <th>2474</th>\n",
       "      <td>2499</td>\n",
       "      <td>1603.0</td>\n",
       "      <td>1569.0</td>\n",
       "      <td>0.298648</td>\n",
       "      <td>3132.0</td>\n",
       "      <td>2659.166238</td>\n",
       "      <td>11.336151</td>\n",
       "    </tr>\n",
       "  </tbody>\n",
       "</table>\n",
       "<p>2475 rows × 7 columns</p>\n",
       "</div>"
      ],
      "text/plain": [
       "       key   T_max   T_min    Работа  bulk_sum     wire_sum      Газ 1\n",
       "0        1  1613.0  1571.0  0.335501     554.0    61.059998  29.749986\n",
       "1        2  1602.0  1581.0  0.203838     584.0    98.052315  12.555561\n",
       "2        3  1599.0  1596.0  0.123218     547.0    94.160157  28.554793\n",
       "3        4  1625.0  1601.0  0.186295     599.0    93.063515  18.841219\n",
       "4        5  1602.0  1576.0  0.277082     589.0   103.352796   5.413692\n",
       "...    ...     ...     ...       ...       ...          ...        ...\n",
       "2470  2495  1591.0  1570.0  0.173935    3214.0  2584.150879   7.125735\n",
       "2471  2496  1591.0  1554.0  0.202186    3292.0  2610.179527   9.412616\n",
       "2472  2497  1589.0  1571.0  0.118760    3162.0  2600.134723   6.271699\n",
       "2473  2498  1594.0  1591.0  0.174980    3231.0  2616.110717  14.953657\n",
       "2474  2499  1603.0  1569.0  0.298648    3132.0  2659.166238  11.336151\n",
       "\n",
       "[2475 rows x 7 columns]"
      ]
     },
     "execution_count": 65,
     "metadata": {},
     "output_type": "execute_result"
    }
   ],
   "source": [
    "df"
   ]
  },
  {
   "cell_type": "markdown",
   "metadata": {
    "id": "2WHX2d8K_h7a"
   },
   "source": [
    "Проверим на пропущенные значения."
   ]
  },
  {
   "cell_type": "code",
   "execution_count": 66,
   "metadata": {
    "colab": {
     "base_uri": "https://localhost:8080/"
    },
    "executionInfo": {
     "elapsed": 185,
     "status": "ok",
     "timestamp": 1637915186300,
     "user": {
      "displayName": "Евгений Макаров",
      "photoUrl": "https://lh3.googleusercontent.com/a/default-user=s64",
      "userId": "14572979811838672928"
     },
     "user_tz": -180
    },
    "id": "W-as9ugFSzuB",
    "outputId": "0695dd3a-bd9f-4a1d-c90c-57876289b537"
   },
   "outputs": [
    {
     "data": {
      "text/plain": [
       "key         0.000000\n",
       "T_max       0.000000\n",
       "T_min       0.000000\n",
       "Работа      0.000404\n",
       "bulk_sum    0.027475\n",
       "wire_sum    0.041616\n",
       "Газ 1       0.000808\n",
       "dtype: float64"
      ]
     },
     "execution_count": 66,
     "metadata": {},
     "output_type": "execute_result"
    }
   ],
   "source": [
    "df.isna().mean()"
   ]
  },
  {
   "cell_type": "markdown",
   "metadata": {
    "id": "xfJWCF8G_j1a"
   },
   "source": [
    "Пропущенные значения есть только для добавленных материалов, заменим на нули, так как для данных партий материалы не добавлялись."
   ]
  },
  {
   "cell_type": "code",
   "execution_count": 67,
   "metadata": {
    "executionInfo": {
     "elapsed": 160,
     "status": "ok",
     "timestamp": 1637915186300,
     "user": {
      "displayName": "Евгений Макаров",
      "photoUrl": "https://lh3.googleusercontent.com/a/default-user=s64",
      "userId": "14572979811838672928"
     },
     "user_tz": -180
    },
    "id": "XrK4olx1TKga"
   },
   "outputs": [],
   "source": [
    "df.fillna(0, inplace=True)"
   ]
  },
  {
   "cell_type": "code",
   "execution_count": 68,
   "metadata": {
    "colab": {
     "base_uri": "https://localhost:8080/"
    },
    "executionInfo": {
     "elapsed": 160,
     "status": "ok",
     "timestamp": 1637915186301,
     "user": {
      "displayName": "Евгений Макаров",
      "photoUrl": "https://lh3.googleusercontent.com/a/default-user=s64",
      "userId": "14572979811838672928"
     },
     "user_tz": -180
    },
    "id": "zmAp38BtnkAm",
    "outputId": "b7a8be31-b153-47d3-f093-7c2bb0230fa5"
   },
   "outputs": [
    {
     "data": {
      "text/plain": [
       "key         0.0\n",
       "T_max       0.0\n",
       "T_min       0.0\n",
       "Работа      0.0\n",
       "bulk_sum    0.0\n",
       "wire_sum    0.0\n",
       "Газ 1       0.0\n",
       "dtype: float64"
      ]
     },
     "execution_count": 68,
     "metadata": {},
     "output_type": "execute_result"
    }
   ],
   "source": [
    "df.isna().mean()"
   ]
  },
  {
   "cell_type": "code",
   "execution_count": 69,
   "metadata": {
    "colab": {
     "base_uri": "https://localhost:8080/"
    },
    "executionInfo": {
     "elapsed": 147,
     "status": "ok",
     "timestamp": 1637915186301,
     "user": {
      "displayName": "Евгений Макаров",
      "photoUrl": "https://lh3.googleusercontent.com/a/default-user=s64",
      "userId": "14572979811838672928"
     },
     "user_tz": -180
    },
    "id": "TNr7nmLcOqau",
    "outputId": "a123a3ae-f652-4c77-e5ac-0b3d83fd33f6"
   },
   "outputs": [
    {
     "data": {
      "text/plain": [
       "True"
      ]
     },
     "execution_count": 69,
     "metadata": {},
     "output_type": "execute_result"
    }
   ],
   "source": [
    "len(df_temp_max) == len(df)"
   ]
  },
  {
   "cell_type": "markdown",
   "metadata": {
    "id": "Wk95uz0f_u0l"
   },
   "source": [
    "Количество измерений температур совпадает с длиной полученной сводной таблицы.  \n",
    "Проверка выполнена."
   ]
  },
  {
   "cell_type": "markdown",
   "metadata": {
    "id": "tbFDB2BYd573"
   },
   "source": [
    "### Проверка на мультиколлениарность признаков"
   ]
  },
  {
   "cell_type": "markdown",
   "metadata": {
    "id": "604yzYfH_8G5"
   },
   "source": [
    "Корреляция признаков с целевым признаком."
   ]
  },
  {
   "cell_type": "code",
   "execution_count": 70,
   "metadata": {
    "colab": {
     "base_uri": "https://localhost:8080/"
    },
    "executionInfo": {
     "elapsed": 135,
     "status": "ok",
     "timestamp": 1637915186302,
     "user": {
      "displayName": "Евгений Макаров",
      "photoUrl": "https://lh3.googleusercontent.com/a/default-user=s64",
      "userId": "14572979811838672928"
     },
     "user_tz": -180
    },
    "id": "Yqs0ZVDNPPlr",
    "outputId": "16532158-3f63-473d-f50c-a398ac00db02"
   },
   "outputs": [
    {
     "data": {
      "text/plain": [
       "T_min       0.436835\n",
       "Работа      0.288799\n",
       "bulk_sum   -0.086872\n",
       "wire_sum   -0.278095\n",
       "Газ 1      -0.033076\n",
       "dtype: float64"
      ]
     },
     "execution_count": 70,
     "metadata": {},
     "output_type": "execute_result"
    }
   ],
   "source": [
    "test_corr = df.drop(['key','T_max'], axis=1).corrwith(df[\"T_max\"])\n",
    "test_corr"
   ]
  },
  {
   "cell_type": "markdown",
   "metadata": {
    "id": "puT-Wie9AFRK"
   },
   "source": [
    "Наибольшую связь целевая температура имеет с начальной температурой и добавлением проволочных материалов, чуть меньше - с затраченной мощностью на нагрев и низкую с остальными признаками."
   ]
  },
  {
   "cell_type": "markdown",
   "metadata": {
    "id": "HXfXGBHB__Jg"
   },
   "source": [
    "Корреляция признаков между собой."
   ]
  },
  {
   "cell_type": "code",
   "execution_count": 71,
   "metadata": {
    "colab": {
     "base_uri": "https://localhost:8080/",
     "height": 338
    },
    "executionInfo": {
     "elapsed": 1834,
     "status": "ok",
     "timestamp": 1637915188013,
     "user": {
      "displayName": "Евгений Макаров",
      "photoUrl": "https://lh3.googleusercontent.com/a/default-user=s64",
      "userId": "14572979811838672928"
     },
     "user_tz": -180
    },
    "id": "iBEf7qEid_0F",
    "outputId": "9206c187-a7dd-472e-efac-0acc6f18e830"
   },
   "outputs": [
    {
     "data": {
      "image/png": "[encoded data removed]",
      "text/plain": [
       "<Figure size 576x360 with 1 Axes>"
      ]
     },
     "metadata": {
      "needs_background": "light"
     },
     "output_type": "display_data"
    }
   ],
   "source": [
    "plt.figure(figsize = (8,5))\n",
    "df_corr = df.drop(['key','T_max'], axis=1).corr()\n",
    "sns.heatmap(df_corr, annot=True, fmt='.2f', cbar=False, center=0)\n",
    "plt.title('Карта корреляции признаков',fontsize=14)\n",
    "plt.show()"
   ]
  },
  {
   "cell_type": "markdown",
   "metadata": {
    "id": "779VExEEAfLX"
   },
   "source": [
    "Полная мощность связана с начальной температурой, зависимость отрицательна, как и должно быть.  \n",
    "Также связаны полная мощность с добавлением сыпучих материалов и газа - видимо, но это тратится много электроэнергии.  \n",
    "Высокая корреляция между добавлением сыпучих и проволочных материалов.  \n"
   ]
  },
  {
   "cell_type": "markdown",
   "metadata": {
    "id": "lIC926jpP4NR"
   },
   "source": [
    "### Деление на тестовую и обучающую выборки"
   ]
  },
  {
   "cell_type": "code",
   "execution_count": 72,
   "metadata": {
    "colab": {
     "base_uri": "https://localhost:8080/"
    },
    "executionInfo": {
     "elapsed": 248,
     "status": "ok",
     "timestamp": 1637915188014,
     "user": {
      "displayName": "Евгений Макаров",
      "photoUrl": "https://lh3.googleusercontent.com/a/default-user=s64",
      "userId": "14572979811838672928"
     },
     "user_tz": -180
    },
    "id": "a03K91WQQt5d",
    "outputId": "4a56d3fd-ca3c-43d3-f05d-6c0345ad82b9"
   },
   "outputs": [
    {
     "data": {
      "text/plain": [
       "Index(['key', 'T_max', 'T_min', 'Работа', 'bulk_sum', 'wire_sum', 'Газ 1'], dtype='object')"
      ]
     },
     "execution_count": 72,
     "metadata": {},
     "output_type": "execute_result"
    }
   ],
   "source": [
    "df.columns"
   ]
  },
  {
   "cell_type": "code",
   "execution_count": 73,
   "metadata": {
    "executionInfo": {
     "elapsed": 260,
     "status": "ok",
     "timestamp": 1637915188043,
     "user": {
      "displayName": "Евгений Макаров",
      "photoUrl": "https://lh3.googleusercontent.com/a/default-user=s64",
      "userId": "14572979811838672928"
     },
     "user_tz": -180
    },
    "id": "A9SfZdYhP7_k"
   },
   "outputs": [],
   "source": [
    "target = df['T_max']\n",
    "features = df[['T_min', 'Работа', 'bulk_sum', 'wire_sum', 'Газ 1']]"
   ]
  },
  {
   "cell_type": "code",
   "execution_count": 74,
   "metadata": {
    "executionInfo": {
     "elapsed": 260,
     "status": "ok",
     "timestamp": 1637915188044,
     "user": {
      "displayName": "Евгений Макаров",
      "photoUrl": "https://lh3.googleusercontent.com/a/default-user=s64",
      "userId": "14572979811838672928"
     },
     "user_tz": -180
    },
    "id": "hYPq1dUbQ0oV"
   },
   "outputs": [],
   "source": [
    "features_train, features_test, target_train, target_test = train_test_split(\n",
    "    features, target, test_size=0.15, random_state=909)"
   ]
  },
  {
   "cell_type": "code",
   "execution_count": 75,
   "metadata": {
    "colab": {
     "base_uri": "https://localhost:8080/"
    },
    "executionInfo": {
     "elapsed": 261,
     "status": "ok",
     "timestamp": 1637915188046,
     "user": {
      "displayName": "Евгений Макаров",
      "photoUrl": "https://lh3.googleusercontent.com/a/default-user=s64",
      "userId": "14572979811838672928"
     },
     "user_tz": -180
    },
    "id": "1R7yAp64Q5t9",
    "outputId": "60e1a97b-c62a-45c0-a232-492e7dfbc051"
   },
   "outputs": [
    {
     "data": {
      "text/plain": [
       "(2103, 5)"
      ]
     },
     "execution_count": 75,
     "metadata": {},
     "output_type": "execute_result"
    }
   ],
   "source": [
    "features_train.shape"
   ]
  },
  {
   "cell_type": "code",
   "execution_count": 76,
   "metadata": {
    "colab": {
     "base_uri": "https://localhost:8080/"
    },
    "executionInfo": {
     "elapsed": 240,
     "status": "ok",
     "timestamp": 1637915188046,
     "user": {
      "displayName": "Евгений Макаров",
      "photoUrl": "https://lh3.googleusercontent.com/a/default-user=s64",
      "userId": "14572979811838672928"
     },
     "user_tz": -180
    },
    "id": "e3M14YaNRGnG",
    "outputId": "4e78d5a5-7423-4e77-e003-b3161d9e0015"
   },
   "outputs": [
    {
     "data": {
      "text/plain": [
       "(372, 5)"
      ]
     },
     "execution_count": 76,
     "metadata": {},
     "output_type": "execute_result"
    }
   ],
   "source": [
    "features_test.shape"
   ]
  },
  {
   "cell_type": "markdown",
   "metadata": {
    "id": "273wHRZAs29k"
   },
   "source": [
    "### Масштабирование признаков"
   ]
  },
  {
   "cell_type": "code",
   "execution_count": 77,
   "metadata": {
    "executionInfo": {
     "elapsed": 227,
     "status": "ok",
     "timestamp": 1637915188047,
     "user": {
      "displayName": "Евгений Макаров",
      "photoUrl": "https://lh3.googleusercontent.com/a/default-user=s64",
      "userId": "14572979811838672928"
     },
     "user_tz": -180
    },
    "id": "EKi8r9i8s6py"
   },
   "outputs": [],
   "source": [
    "scaler = StandardScaler()\n",
    "scaler.fit(features_train)\n",
    "features_train = scaler.transform(features_train)\n",
    "features_test = scaler.transform(features_test)"
   ]
  },
  {
   "cell_type": "code",
   "execution_count": 78,
   "metadata": {
    "colab": {
     "base_uri": "https://localhost:8080/"
    },
    "executionInfo": {
     "elapsed": 228,
     "status": "ok",
     "timestamp": 1637915188049,
     "user": {
      "displayName": "Евгений Макаров",
      "photoUrl": "https://lh3.googleusercontent.com/a/default-user=s64",
      "userId": "14572979811838672928"
     },
     "user_tz": -180
    },
    "id": "X_sv0VDxtVHT",
    "outputId": "71c5080e-79e2-4768-efdb-ac6bb7b3d9c0"
   },
   "outputs": [
    {
     "data": {
      "text/plain": [
       "array([[-1.39975136,  0.43379216,  0.10889469,  0.33928023, -0.25913121],\n",
       "       [-0.84066356, -0.28012696,  0.87308468,  0.84602709, -0.14336947],\n",
       "       [ 0.1577075 , -1.27583051, -2.21556763,  1.45980858, -0.92651747],\n",
       "       ...,\n",
       "       [ 0.67686045, -1.10908679,  0.06228278,  0.03860105, -0.87529844],\n",
       "       [ 1.27588309, -0.77843255,  1.89118691,  1.54018505,  0.69306839],\n",
       "       [ 1.83497088, -1.17938569,  1.41525478,  1.71970378, -1.23909433]])"
      ]
     },
     "execution_count": 78,
     "metadata": {},
     "output_type": "execute_result"
    }
   ],
   "source": [
    "features_train"
   ]
  },
  {
   "cell_type": "markdown",
   "metadata": {
    "id": "xzTWAA8AReFy"
   },
   "source": [
    "## Обучение моделей"
   ]
  },
  {
   "cell_type": "markdown",
   "metadata": {
    "id": "SmejRWnHSGki"
   },
   "source": [
    "### Dummy"
   ]
  },
  {
   "cell_type": "code",
   "execution_count": 79,
   "metadata": {
    "colab": {
     "base_uri": "https://localhost:8080/"
    },
    "executionInfo": {
     "elapsed": 212,
     "status": "ok",
     "timestamp": 1637915188050,
     "user": {
      "displayName": "Евгений Макаров",
      "photoUrl": "https://lh3.googleusercontent.com/a/default-user=s64",
      "userId": "14572979811838672928"
     },
     "user_tz": -180
    },
    "id": "-dPf3TWu7g_w",
    "outputId": "62a803da-7e0c-4988-f6c3-6edd7d5358f3"
   },
   "outputs": [
    {
     "name": "stdout",
     "output_type": "stream",
     "text": [
      "CPU times: user 482 µs, sys: 82 µs, total: 564 µs\n",
      "Wall time: 573 µs\n"
     ]
    }
   ],
   "source": [
    "%%time\n",
    "dummy_regressor = DummyRegressor(strategy=\"mean\")\n",
    "dummy_regressor.fit(features_train, target_train)\n"
   ]
  },
  {
   "cell_type": "code",
   "execution_count": 80,
   "metadata": {
    "executionInfo": {
     "elapsed": 195,
     "status": "ok",
     "timestamp": 1637915188050,
     "user": {
      "displayName": "Евгений Макаров",
      "photoUrl": "https://lh3.googleusercontent.com/a/default-user=s64",
      "userId": "14572979811838672928"
     },
     "user_tz": -180
    },
    "id": "s9SOkyIr580s"
   },
   "outputs": [],
   "source": [
    "predicted_dum = dummy_regressor.predict(features_test)"
   ]
  },
  {
   "cell_type": "code",
   "execution_count": 81,
   "metadata": {
    "colab": {
     "base_uri": "https://localhost:8080/"
    },
    "executionInfo": {
     "elapsed": 195,
     "status": "ok",
     "timestamp": 1637915188051,
     "user": {
      "displayName": "Евгений Макаров",
      "photoUrl": "https://lh3.googleusercontent.com/a/default-user=s64",
      "userId": "14572979811838672928"
     },
     "user_tz": -180
    },
    "id": "w2m7jmcBpt6Y",
    "outputId": "bc470c58-d93c-474e-aa39-b8a219a34dc8"
   },
   "outputs": [
    {
     "data": {
      "text/plain": [
       "10.002350712499789"
      ]
     },
     "execution_count": 81,
     "metadata": {},
     "output_type": "execute_result"
    }
   ],
   "source": [
    "mae_dum = mean_absolute_error(target_test, predicted_dum)\n",
    "mae_dum"
   ]
  },
  {
   "cell_type": "markdown",
   "metadata": {
    "id": "hTFp3bNeSJ-R"
   },
   "source": [
    "### Линейная регрессия"
   ]
  },
  {
   "cell_type": "code",
   "execution_count": 82,
   "metadata": {
    "executionInfo": {
     "elapsed": 186,
     "status": "ok",
     "timestamp": 1637915188054,
     "user": {
      "displayName": "Евгений Макаров",
      "photoUrl": "https://lh3.googleusercontent.com/a/default-user=s64",
      "userId": "14572979811838672928"
     },
     "user_tz": -180
    },
    "id": "VZXwDtSl1aUs"
   },
   "outputs": [],
   "source": [
    "model_lin = LinearRegression()"
   ]
  },
  {
   "cell_type": "code",
   "execution_count": 83,
   "metadata": {
    "colab": {
     "base_uri": "https://localhost:8080/"
    },
    "executionInfo": {
     "elapsed": 186,
     "status": "ok",
     "timestamp": 1637915188055,
     "user": {
      "displayName": "Евгений Макаров",
      "photoUrl": "https://lh3.googleusercontent.com/a/default-user=s64",
      "userId": "14572979811838672928"
     },
     "user_tz": -180
    },
    "id": "85Qa6O-o1_uC",
    "outputId": "9d2ae9ed-1ff0-4e1f-93df-04c881cd8cde"
   },
   "outputs": [
    {
     "name": "stdout",
     "output_type": "stream",
     "text": [
      "CPU times: user 2.12 ms, sys: 18 µs, total: 2.14 ms\n",
      "Wall time: 2.67 ms\n"
     ]
    },
    {
     "data": {
      "text/plain": [
       "LinearRegression()"
      ]
     },
     "execution_count": 83,
     "metadata": {},
     "output_type": "execute_result"
    }
   ],
   "source": [
    "%%time\n",
    "model_lin.fit(features_train, target_train)"
   ]
  },
  {
   "cell_type": "markdown",
   "metadata": {
    "id": "N-ldc7PsI-Xc"
   },
   "source": [
    "Проверка кросс-валидацией"
   ]
  },
  {
   "cell_type": "code",
   "execution_count": 84,
   "metadata": {
    "executionInfo": {
     "elapsed": 141,
     "status": "ok",
     "timestamp": 1637915188056,
     "user": {
      "displayName": "Евгений Макаров",
      "photoUrl": "https://lh3.googleusercontent.com/a/default-user=s64",
      "userId": "14572979811838672928"
     },
     "user_tz": -180
    },
    "id": "FkTHigPcI-Xd"
   },
   "outputs": [],
   "source": [
    "score_lin = cross_val_score(model_lin, features_train, target_train, scoring='neg_mean_absolute_error', cv=3)"
   ]
  },
  {
   "cell_type": "code",
   "execution_count": 85,
   "metadata": {
    "colab": {
     "base_uri": "https://localhost:8080/"
    },
    "executionInfo": {
     "elapsed": 144,
     "status": "ok",
     "timestamp": 1637915188059,
     "user": {
      "displayName": "Евгений Макаров",
      "photoUrl": "https://lh3.googleusercontent.com/a/default-user=s64",
      "userId": "14572979811838672928"
     },
     "user_tz": -180
    },
    "id": "x_EvFTLAI-Xe",
    "outputId": "3b0c88a5-b86e-40e6-c12b-3cc59318ed65"
   },
   "outputs": [
    {
     "data": {
      "text/plain": [
       "-8.198451935933116"
      ]
     },
     "execution_count": 85,
     "metadata": {},
     "output_type": "execute_result"
    }
   ],
   "source": [
    "score_lin.mean()"
   ]
  },
  {
   "cell_type": "markdown",
   "metadata": {
    "id": "14PosWdMJ0zO"
   },
   "source": [
    "#### Проверка на тестовых данных"
   ]
  },
  {
   "cell_type": "code",
   "execution_count": 86,
   "metadata": {
    "executionInfo": {
     "elapsed": 79,
     "status": "ok",
     "timestamp": 1637915188059,
     "user": {
      "displayName": "Евгений Макаров",
      "photoUrl": "https://lh3.googleusercontent.com/a/default-user=s64",
      "userId": "14572979811838672928"
     },
     "user_tz": -180
    },
    "id": "0ytlRYBz20Fv"
   },
   "outputs": [],
   "source": [
    "predicted_lin = model_lin.predict(features_test)"
   ]
  },
  {
   "cell_type": "code",
   "execution_count": 87,
   "metadata": {
    "colab": {
     "base_uri": "https://localhost:8080/"
    },
    "executionInfo": {
     "elapsed": 79,
     "status": "ok",
     "timestamp": 1637915188060,
     "user": {
      "displayName": "Евгений Макаров",
      "photoUrl": "https://lh3.googleusercontent.com/a/default-user=s64",
      "userId": "14572979811838672928"
     },
     "user_tz": -180
    },
    "id": "WlIZKt3kpphZ",
    "outputId": "25b8b422-a539-4ae2-d75a-ddbd93fab569"
   },
   "outputs": [
    {
     "data": {
      "text/plain": [
       "7.853574105822656"
      ]
     },
     "execution_count": 87,
     "metadata": {},
     "output_type": "execute_result"
    }
   ],
   "source": [
    "mae_lin = mean_absolute_error(target_test, predicted_lin)\n",
    "mae_lin"
   ]
  },
  {
   "cell_type": "markdown",
   "metadata": {
    "id": "cszFmU9EuBZd"
   },
   "source": [
    "### CatBoost GridSearch"
   ]
  },
  {
   "cell_type": "code",
   "execution_count": 88,
   "metadata": {
    "executionInfo": {
     "elapsed": 70,
     "status": "ok",
     "timestamp": 1637915188061,
     "user": {
      "displayName": "Евгений Макаров",
      "photoUrl": "https://lh3.googleusercontent.com/a/default-user=s64",
      "userId": "14572979811838672928"
     },
     "user_tz": -180
    },
    "id": "U7I3c5m2uE5d"
   },
   "outputs": [],
   "source": [
    "model_cat = CatBoostRegressor(verbose=100)"
   ]
  },
  {
   "cell_type": "code",
   "execution_count": 89,
   "metadata": {
    "executionInfo": {
     "elapsed": 69,
     "status": "ok",
     "timestamp": 1637915188061,
     "user": {
      "displayName": "Евгений Макаров",
      "photoUrl": "https://lh3.googleusercontent.com/a/default-user=s64",
      "userId": "14572979811838672928"
     },
     "user_tz": -180
    },
    "id": "U9QAgLzNy2Vs"
   },
   "outputs": [],
   "source": [
    "parameters = {'depth': [6,8,10],\n",
    "              'learning_rate': [0.01, 0.05, 0.1],\n",
    "              'iterations': [30, 50, 100]\n",
    "             }"
   ]
  },
  {
   "cell_type": "code",
   "execution_count": 90,
   "metadata": {
    "colab": {
     "base_uri": "https://localhost:8080/"
    },
    "executionInfo": {
     "elapsed": 37157,
     "status": "ok",
     "timestamp": 1637915225150,
     "user": {
      "displayName": "Евгений Макаров",
      "photoUrl": "https://lh3.googleusercontent.com/a/default-user=s64",
      "userId": "14572979811838672928"
     },
     "user_tz": -180
    },
    "id": "4d31MhbkuW-B",
    "outputId": "bc5db42f-eb15-4ba0-ade9-4c2d5af2c32f"
   },
   "outputs": [
    {
     "name": "stdout",
     "output_type": "stream",
     "text": [
      "0:\tlearn: 15.3085998\ttotal: 49ms\tremaining: 4.85s\n",
      "99:\tlearn: 7.6545131\ttotal: 236ms\tremaining: 0us\n",
      "CPU times: user 987 ms, sys: 130 ms, total: 1.12 s\n",
      "Wall time: 39.8 s\n"
     ]
    }
   ],
   "source": [
    "%%time\n",
    "grid_cat = GridSearchCV(estimator=model_cat, param_grid = parameters, scoring='neg_mean_absolute_error', cv = 3, n_jobs=-1)\n",
    "grid_cat.fit(features_train, target_train)"
   ]
  },
  {
   "cell_type": "code",
   "execution_count": 91,
   "metadata": {
    "colab": {
     "base_uri": "https://localhost:8080/"
    },
    "executionInfo": {
     "elapsed": 69,
     "status": "ok",
     "timestamp": 1637915225153,
     "user": {
      "displayName": "Евгений Макаров",
      "photoUrl": "https://lh3.googleusercontent.com/a/default-user=s64",
      "userId": "14572979811838672928"
     },
     "user_tz": -180
    },
    "id": "JLV5gnMbuxS3",
    "outputId": "3a255e8e-0113-4507-c586-390434e3a2eb"
   },
   "outputs": [
    {
     "name": "stdout",
     "output_type": "stream",
     "text": [
      "\n",
      " The best estimator across ALL searched params:\n",
      " <catboost.core.CatBoostRegressor object at 0x7fe45d94e110>\n",
      "\n",
      " The best score across ALL searched params:\n",
      " -6.7319652760831055\n",
      "\n",
      " The best parameters across ALL searched params:\n",
      " {'depth': 6, 'iterations': 100, 'learning_rate': 0.1}\n"
     ]
    }
   ],
   "source": [
    "print(\"\\n The best estimator across ALL searched params:\\n\", grid_cat.best_estimator_)\n",
    "print(\"\\n The best score across ALL searched params:\\n\", grid_cat.best_score_)\n",
    "print(\"\\n The best parameters across ALL searched params:\\n\", grid_cat.best_params_)"
   ]
  },
  {
   "cell_type": "markdown",
   "metadata": {
    "id": "oQS4_4nCvcPm"
   },
   "source": [
    "#### Проверка на тестовых данных"
   ]
  },
  {
   "cell_type": "code",
   "execution_count": 92,
   "metadata": {
    "executionInfo": {
     "elapsed": 46,
     "status": "ok",
     "timestamp": 1637915225156,
     "user": {
      "displayName": "Евгений Макаров",
      "photoUrl": "https://lh3.googleusercontent.com/a/default-user=s64",
      "userId": "14572979811838672928"
     },
     "user_tz": -180
    },
    "id": "Ew5xKuTzvcPn"
   },
   "outputs": [],
   "source": [
    "predicted_cat_grid = grid_cat.predict(features_test)"
   ]
  },
  {
   "cell_type": "code",
   "execution_count": 93,
   "metadata": {
    "colab": {
     "base_uri": "https://localhost:8080/"
    },
    "executionInfo": {
     "elapsed": 45,
     "status": "ok",
     "timestamp": 1637915225156,
     "user": {
      "displayName": "Евгений Макаров",
      "photoUrl": "https://lh3.googleusercontent.com/a/default-user=s64",
      "userId": "14572979811838672928"
     },
     "user_tz": -180
    },
    "id": "rtotiqa_vcPn",
    "outputId": "59c4d7ce-1510-4c90-b914-1783e3d64d3a"
   },
   "outputs": [
    {
     "data": {
      "text/plain": [
       "6.747526906336039"
      ]
     },
     "execution_count": 93,
     "metadata": {},
     "output_type": "execute_result"
    }
   ],
   "source": [
    "mae_cat_grid = mean_absolute_error(target_test, predicted_cat_grid)\n",
    "mae_cat_grid"
   ]
  },
  {
   "cell_type": "markdown",
   "metadata": {
    "id": "mq6UUwVxscBw"
   },
   "source": [
    "### LGBoost"
   ]
  },
  {
   "cell_type": "code",
   "execution_count": 94,
   "metadata": {
    "colab": {
     "base_uri": "https://localhost:8080/"
    },
    "executionInfo": {
     "elapsed": 339,
     "status": "ok",
     "timestamp": 1637915225460,
     "user": {
      "displayName": "Евгений Макаров",
      "photoUrl": "https://lh3.googleusercontent.com/a/default-user=s64",
      "userId": "14572979811838672928"
     },
     "user_tz": -180
    },
    "id": "JJOti_GTCz3m",
    "outputId": "a1930a33-092a-486f-dfb7-66168f5a1cf7"
   },
   "outputs": [
    {
     "name": "stdout",
     "output_type": "stream",
     "text": [
      "CPU times: user 198 ms, sys: 17.2 ms, total: 215 ms\n",
      "Wall time: 115 ms\n"
     ]
    }
   ],
   "source": [
    "%%time\n",
    "model_lgb = lgb.LGBMRegressor()\n",
    "model_lgb.fit(features_train, target_train)"
   ]
  },
  {
   "cell_type": "code",
   "execution_count": 95,
   "metadata": {
    "executionInfo": {
     "elapsed": 23,
     "status": "ok",
     "timestamp": 1637915225461,
     "user": {
      "displayName": "Евгений Макаров",
      "photoUrl": "https://lh3.googleusercontent.com/a/default-user=s64",
      "userId": "14572979811838672928"
     },
     "user_tz": -180
    },
    "id": "OuD7mLDQO0-m"
   },
   "outputs": [],
   "source": [
    "predicted_lgb = model_lgb.predict(features_test)"
   ]
  },
  {
   "cell_type": "code",
   "execution_count": 96,
   "metadata": {
    "colab": {
     "base_uri": "https://localhost:8080/"
    },
    "executionInfo": {
     "elapsed": 22,
     "status": "ok",
     "timestamp": 1637915225461,
     "user": {
      "displayName": "Евгений Макаров",
      "photoUrl": "https://lh3.googleusercontent.com/a/default-user=s64",
      "userId": "14572979811838672928"
     },
     "user_tz": -180
    },
    "id": "_Ox5MMZ5p_yi",
    "outputId": "9603a8b7-7cc5-4e15-88bb-49d506cb8b1e"
   },
   "outputs": [
    {
     "data": {
      "text/plain": [
       "6.989060698852807"
      ]
     },
     "execution_count": 96,
     "metadata": {},
     "output_type": "execute_result"
    }
   ],
   "source": [
    "mae_lgb = mean_absolute_error(target_test, predicted_lgb)\n",
    "mae_lgb"
   ]
  },
  {
   "cell_type": "markdown",
   "metadata": {
    "id": "HX8NvXYIqwrW"
   },
   "source": [
    "### LGB GridSearch"
   ]
  },
  {
   "cell_type": "code",
   "execution_count": 97,
   "metadata": {
    "executionInfo": {
     "elapsed": 12,
     "status": "ok",
     "timestamp": 1637915225462,
     "user": {
      "displayName": "Евгений Макаров",
      "photoUrl": "https://lh3.googleusercontent.com/a/default-user=s64",
      "userId": "14572979811838672928"
     },
     "user_tz": -180
    },
    "id": "JTjm8jT4znM3"
   },
   "outputs": [],
   "source": [
    "model_lgb = lgb.LGBMRegressor(random_state=909)"
   ]
  },
  {
   "cell_type": "code",
   "execution_count": 98,
   "metadata": {
    "executionInfo": {
     "elapsed": 12,
     "status": "ok",
     "timestamp": 1637915225463,
     "user": {
      "displayName": "Евгений Макаров",
      "photoUrl": "https://lh3.googleusercontent.com/a/default-user=s64",
      "userId": "14572979811838672928"
     },
     "user_tz": -180
    },
    "id": "R_QJIgzdznM3"
   },
   "outputs": [],
   "source": [
    "params = {\n",
    "    'num_leaves': [5,20,50],\n",
    "    'learning_rate': [0.01, 0.1, 0.2],\n",
    "    'max_depth': [-1,1,2,4],\n",
    "    'n_estimators': [50, 300, 500],\n",
    "}"
   ]
  },
  {
   "cell_type": "code",
   "execution_count": 99,
   "metadata": {
    "colab": {
     "base_uri": "https://localhost:8080/"
    },
    "executionInfo": {
     "elapsed": 58737,
     "status": "ok",
     "timestamp": 1637915284188,
     "user": {
      "displayName": "Евгений Макаров",
      "photoUrl": "https://lh3.googleusercontent.com/a/default-user=s64",
      "userId": "14572979811838672928"
     },
     "user_tz": -180
    },
    "id": "NaSo4gpOznM4",
    "outputId": "63ed416c-a377-4e4c-c33e-1916243cd6d2"
   },
   "outputs": [
    {
     "name": "stdout",
     "output_type": "stream",
     "text": [
      "CPU times: user 1min 48s, sys: 5.23 s, total: 1min 54s\n",
      "Wall time: 58.8 s\n"
     ]
    }
   ],
   "source": [
    "%%time\n",
    "grid2 = GridSearchCV(model_lgb, params, scoring='neg_mean_absolute_error', cv=5)\n",
    "grid2.fit(features_train, target_train)"
   ]
  },
  {
   "cell_type": "code",
   "execution_count": 100,
   "metadata": {
    "colab": {
     "base_uri": "https://localhost:8080/"
    },
    "executionInfo": {
     "elapsed": 73,
     "status": "ok",
     "timestamp": 1637915284193,
     "user": {
      "displayName": "Евгений Макаров",
      "photoUrl": "https://lh3.googleusercontent.com/a/default-user=s64",
      "userId": "14572979811838672928"
     },
     "user_tz": -180
    },
    "id": "O5Uo1zqkznM4",
    "outputId": "67ce5dc8-7825-4f24-b7e3-2da5cd55b51e"
   },
   "outputs": [
    {
     "name": "stdout",
     "output_type": "stream",
     "text": [
      "\n",
      " The best estimator across ALL searched params:\n",
      " LGBMRegressor(learning_rate=0.2, n_estimators=50, num_leaves=5,\n",
      "              random_state=909)\n",
      "\n",
      " The best score across ALL searched params:\n",
      " -6.8011878251298254\n",
      "\n",
      " The best parameters across ALL searched params:\n",
      " {'learning_rate': 0.2, 'max_depth': -1, 'n_estimators': 50, 'num_leaves': 5}\n"
     ]
    }
   ],
   "source": [
    "print(\"\\n The best estimator across ALL searched params:\\n\", grid2.best_estimator_)\n",
    "print(\"\\n The best score across ALL searched params:\\n\", grid2.best_score_)\n",
    "print(\"\\n The best parameters across ALL searched params:\\n\", grid2.best_params_)"
   ]
  },
  {
   "cell_type": "markdown",
   "metadata": {
    "id": "g_4tyEVvznM4"
   },
   "source": [
    "#### Проверка на тестовых данных"
   ]
  },
  {
   "cell_type": "code",
   "execution_count": 101,
   "metadata": {
    "executionInfo": {
     "elapsed": 40,
     "status": "ok",
     "timestamp": 1637915284193,
     "user": {
      "displayName": "Евгений Макаров",
      "photoUrl": "https://lh3.googleusercontent.com/a/default-user=s64",
      "userId": "14572979811838672928"
     },
     "user_tz": -180
    },
    "id": "C5bq5vmgznM5"
   },
   "outputs": [],
   "source": [
    "predicted_lgb_grid = grid2.predict(features_test)"
   ]
  },
  {
   "cell_type": "code",
   "execution_count": 102,
   "metadata": {
    "colab": {
     "base_uri": "https://localhost:8080/"
    },
    "executionInfo": {
     "elapsed": 41,
     "status": "ok",
     "timestamp": 1637915284194,
     "user": {
      "displayName": "Евгений Макаров",
      "photoUrl": "https://lh3.googleusercontent.com/a/default-user=s64",
      "userId": "14572979811838672928"
     },
     "user_tz": -180
    },
    "id": "7LbtQyeCznM5",
    "outputId": "9d02bd67-ef3c-440c-ba89-ac42beaf2d68"
   },
   "outputs": [
    {
     "data": {
      "text/plain": [
       "6.910158175378505"
      ]
     },
     "execution_count": 102,
     "metadata": {},
     "output_type": "execute_result"
    }
   ],
   "source": [
    "mae_lgb_grid = mean_absolute_error(target_test, predicted_lgb_grid)\n",
    "mae_lgb_grid"
   ]
  },
  {
   "cell_type": "markdown",
   "metadata": {
    "id": "X2I1B-0q_HRz"
   },
   "source": [
    "### *Keras"
   ]
  },
  {
   "cell_type": "code",
   "execution_count": 103,
   "metadata": {
    "colab": {
     "base_uri": "https://localhost:8080/"
    },
    "executionInfo": {
     "elapsed": 85301,
     "status": "ok",
     "timestamp": 1637915369469,
     "user": {
      "displayName": "Евгений Макаров",
      "photoUrl": "https://lh3.googleusercontent.com/a/default-user=s64",
      "userId": "14572979811838672928"
     },
     "user_tz": -180
    },
    "id": "ZoC3IpURAHJq",
    "outputId": "21b2a457-2007-488a-fc4d-63157dd84f78"
   },
   "outputs": [
    {
     "name": "stdout",
     "output_type": "stream",
     "text": [
      "CPU times: user 1min 45s, sys: 8.06 s, total: 1min 53s\n",
      "Wall time: 1min 25s\n"
     ]
    }
   ],
   "source": [
    "%%time\n",
    "import sklearn\n",
    "from sklearn.model_selection import train_test_split\n",
    "import tensorflow as tf\n",
    "import keras\n",
    "from keras.models import Sequential\n",
    "from keras.layers import Dense\n",
    "\n",
    "model = Sequential()\n",
    "model.add(Dense(12, input_dim=features_train.shape[1], activation=\"relu\"))\n",
    "model.add(Dense(8, activation=\"relu\"))\n",
    "model.add(Dense(5, activation=\"relu\"))\n",
    "model.add(Dense(1))\n",
    "opt = tf.keras.optimizers.Adam(learning_rate=0.0005)\n",
    "model.compile(loss=\"mean_absolute_error\", optimizer=opt, metrics=[\"mean_absolute_error\"])\n",
    "\n",
    "model.fit(features_train, target_train, epochs=1000, verbose=0)"
   ]
  },
  {
   "cell_type": "code",
   "execution_count": 104,
   "metadata": {
    "colab": {
     "base_uri": "https://localhost:8080/"
    },
    "executionInfo": {
     "elapsed": 102,
     "status": "ok",
     "timestamp": 1637915369479,
     "user": {
      "displayName": "Евгений Макаров",
      "photoUrl": "https://lh3.googleusercontent.com/a/default-user=s64",
      "userId": "14572979811838672928"
     },
     "user_tz": -180
    },
    "id": "jAOyPjQKCJ7F",
    "outputId": "8ef1d6f8-73f1-42fc-d1bc-0399660fc847"
   },
   "outputs": [
    {
     "data": {
      "text/plain": [
       "7.649906281502016"
      ]
     },
     "execution_count": 104,
     "metadata": {},
     "output_type": "execute_result"
    }
   ],
   "source": [
    "pred= model.predict(features_test)\n",
    "mae_keras = mean_absolute_error(target_test, pred)\n",
    "mae_keras"
   ]
  },
  {
   "cell_type": "markdown",
   "metadata": {
    "id": "wqF8hayfn1fX"
   },
   "source": [
    "### Feature importances лучшей модели"
   ]
  },
  {
   "cell_type": "code",
   "execution_count": 105,
   "metadata": {
    "colab": {
     "base_uri": "https://localhost:8080/"
    },
    "executionInfo": {
     "elapsed": 83,
     "status": "ok",
     "timestamp": 1637915369480,
     "user": {
      "displayName": "Евгений Макаров",
      "photoUrl": "https://lh3.googleusercontent.com/a/default-user=s64",
      "userId": "14572979811838672928"
     },
     "user_tz": -180
    },
    "id": "JXbAnyCD1gqR",
    "outputId": "a28d95a9-068b-49fa-c0b5-3391546bd6f2"
   },
   "outputs": [
    {
     "data": {
      "text/plain": [
       "[32.56983028144241,\n",
       " 24.694108925488663,\n",
       " 3.802749476781232,\n",
       " 33.310159445194294,\n",
       " 5.623151871093405]"
      ]
     },
     "execution_count": 105,
     "metadata": {},
     "output_type": "execute_result"
    }
   ],
   "source": [
    "importance = grid_cat.best_estimator_.feature_importances_.tolist()\n",
    "importance"
   ]
  },
  {
   "cell_type": "code",
   "execution_count": 106,
   "metadata": {
    "colab": {
     "base_uri": "https://localhost:8080/"
    },
    "executionInfo": {
     "elapsed": 76,
     "status": "ok",
     "timestamp": 1637915369481,
     "user": {
      "displayName": "Евгений Макаров",
      "photoUrl": "https://lh3.googleusercontent.com/a/default-user=s64",
      "userId": "14572979811838672928"
     },
     "user_tz": -180
    },
    "id": "RIhHJXhoCtpd",
    "outputId": "93526fe1-fa33-4048-f499-5210bb2bad15"
   },
   "outputs": [
    {
     "data": {
      "text/plain": [
       "[0.43683528208669,\n",
       " 0.28879874812848455,\n",
       " -0.08687191332661341,\n",
       " -0.27809490665518155,\n",
       " -0.033076046061297375]"
      ]
     },
     "execution_count": 106,
     "metadata": {},
     "output_type": "execute_result"
    }
   ],
   "source": [
    "test_corr.to_list()"
   ]
  },
  {
   "cell_type": "code",
   "execution_count": 107,
   "metadata": {
    "colab": {
     "base_uri": "https://localhost:8080/",
     "height": 206
    },
    "executionInfo": {
     "elapsed": 626,
     "status": "ok",
     "timestamp": 1637915370039,
     "user": {
      "displayName": "Евгений Макаров",
      "photoUrl": "https://lh3.googleusercontent.com/a/default-user=s64",
      "userId": "14572979811838672928"
     },
     "user_tz": -180
    },
    "id": "V1JymavBn-mo",
    "outputId": "c4ce8226-1c60-4c05-cc67-0c405770e838"
   },
   "outputs": [
    {
     "data": {
      "text/html": [
       "<div>\n",
       "<style scoped>\n",
       "    .dataframe tbody tr th:only-of-type {\n",
       "        vertical-align: middle;\n",
       "    }\n",
       "\n",
       "    .dataframe tbody tr th {\n",
       "        vertical-align: top;\n",
       "    }\n",
       "\n",
       "    .dataframe thead th {\n",
       "        text-align: right;\n",
       "    }\n",
       "</style>\n",
       "<table border=\"1\" class=\"dataframe\">\n",
       "  <thead>\n",
       "    <tr style=\"text-align: right;\">\n",
       "      <th></th>\n",
       "      <th>index</th>\n",
       "      <th>важность признаков</th>\n",
       "      <th>корреляция</th>\n",
       "    </tr>\n",
       "  </thead>\n",
       "  <tbody>\n",
       "    <tr>\n",
       "      <th>0</th>\n",
       "      <td>T_min</td>\n",
       "      <td>32.569830</td>\n",
       "      <td>0.436835</td>\n",
       "    </tr>\n",
       "    <tr>\n",
       "      <th>1</th>\n",
       "      <td>Работа</td>\n",
       "      <td>24.694109</td>\n",
       "      <td>0.288799</td>\n",
       "    </tr>\n",
       "    <tr>\n",
       "      <th>2</th>\n",
       "      <td>bulk_sum</td>\n",
       "      <td>3.802749</td>\n",
       "      <td>-0.086872</td>\n",
       "    </tr>\n",
       "    <tr>\n",
       "      <th>3</th>\n",
       "      <td>wire_sum</td>\n",
       "      <td>33.310159</td>\n",
       "      <td>-0.278095</td>\n",
       "    </tr>\n",
       "    <tr>\n",
       "      <th>4</th>\n",
       "      <td>Газ 1</td>\n",
       "      <td>5.623152</td>\n",
       "      <td>-0.033076</td>\n",
       "    </tr>\n",
       "  </tbody>\n",
       "</table>\n",
       "</div>"
      ],
      "text/plain": [
       "      index  важность признаков  корреляция\n",
       "0     T_min           32.569830    0.436835\n",
       "1    Работа           24.694109    0.288799\n",
       "2  bulk_sum            3.802749   -0.086872\n",
       "3  wire_sum           33.310159   -0.278095\n",
       "4     Газ 1            5.623152   -0.033076"
      ]
     },
     "execution_count": 107,
     "metadata": {},
     "output_type": "execute_result"
    }
   ],
   "source": [
    "d = {'важность признаков':importance, 'корреляция':test_corr.to_list()}\n",
    "importance_df = pd.DataFrame(d, index=features.columns).reset_index()\n",
    "importance_df"
   ]
  },
  {
   "cell_type": "markdown",
   "metadata": {
    "id": "zBuhfxOf18mR"
   },
   "source": [
    "Видим показатели важности признаков модели и корреляции признаков относительно целевого признака."
   ]
  },
  {
   "cell_type": "markdown",
   "metadata": {
    "id": "leWGPXzXs8TN"
   },
   "source": [
    "## Отчет"
   ]
  },
  {
   "cell_type": "code",
   "execution_count": 108,
   "metadata": {
    "colab": {
     "base_uri": "https://localhost:8080/",
     "height": 238
    },
    "executionInfo": {
     "elapsed": 221,
     "status": "ok",
     "timestamp": 1637915370063,
     "user": {
      "displayName": "Евгений Макаров",
      "photoUrl": "https://lh3.googleusercontent.com/a/default-user=s64",
      "userId": "14572979811838672928"
     },
     "user_tz": -180
    },
    "id": "yFmADNv4PGga",
    "outputId": "745ed3fc-2efa-4c14-d121-445b96c1ecdb"
   },
   "outputs": [
    {
     "data": {
      "text/html": [
       "<div>\n",
       "<style scoped>\n",
       "    .dataframe tbody tr th:only-of-type {\n",
       "        vertical-align: middle;\n",
       "    }\n",
       "\n",
       "    .dataframe tbody tr th {\n",
       "        vertical-align: top;\n",
       "    }\n",
       "\n",
       "    .dataframe thead th {\n",
       "        text-align: right;\n",
       "    }\n",
       "</style>\n",
       "<table border=\"1\" class=\"dataframe\">\n",
       "  <thead>\n",
       "    <tr style=\"text-align: right;\">\n",
       "      <th></th>\n",
       "      <th>время выполнения, с</th>\n",
       "      <th>MAE</th>\n",
       "    </tr>\n",
       "  </thead>\n",
       "  <tbody>\n",
       "    <tr>\n",
       "      <th>Dummy</th>\n",
       "      <td>0.0</td>\n",
       "      <td>10.002351</td>\n",
       "    </tr>\n",
       "    <tr>\n",
       "      <th>Линейная Регрессия</th>\n",
       "      <td>0.0</td>\n",
       "      <td>7.853574</td>\n",
       "    </tr>\n",
       "    <tr>\n",
       "      <th>Catboost Grid</th>\n",
       "      <td>40.0</td>\n",
       "      <td>6.747527</td>\n",
       "    </tr>\n",
       "    <tr>\n",
       "      <th>LightGBM</th>\n",
       "      <td>0.1</td>\n",
       "      <td>6.989061</td>\n",
       "    </tr>\n",
       "    <tr>\n",
       "      <th>LightGBM Grid</th>\n",
       "      <td>60.0</td>\n",
       "      <td>6.910158</td>\n",
       "    </tr>\n",
       "    <tr>\n",
       "      <th>Keras</th>\n",
       "      <td>83.0</td>\n",
       "      <td>7.649906</td>\n",
       "    </tr>\n",
       "  </tbody>\n",
       "</table>\n",
       "</div>"
      ],
      "text/plain": [
       "                    время выполнения, с        MAE\n",
       "Dummy                               0.0  10.002351\n",
       "Линейная Регрессия                  0.0   7.853574\n",
       "Catboost Grid                      40.0   6.747527\n",
       "LightGBM                            0.1   6.989061\n",
       "LightGBM Grid                      60.0   6.910158\n",
       "Keras                              83.0   7.649906"
      ]
     },
     "execution_count": 108,
     "metadata": {},
     "output_type": "execute_result"
    }
   ],
   "source": [
    "d = {'время выполнения, с':[0, 0, 40, 0.1, 60, 83], 'MAE':[mae_dum, mae_lin, mae_cat_grid, mae_lgb, mae_lgb_grid, mae_keras],}\n",
    "tabl = pd.DataFrame(d, index=['Dummy', 'Линейная Регрессия', 'Catboost Grid', 'LightGBM', 'LightGBM Grid', 'Keras'])\n",
    "tabl"
   ]
  },
  {
   "cell_type": "markdown",
   "metadata": {
    "id": "O4T_LVgxP5l-"
   },
   "source": [
    "* Все пункты плана выполнены:\n",
    "-- Добавлен признак `Полная мощность`, но в качестве признака для обучения моделей использована работа, так как она более связана с конечной температурой;\n",
    "-- Проведена обработка пропущенных и аномальных значений;\n",
    "-- Все признаки собраны в объединенную таблицу;\n",
    "-- Проведено обучение моделей;\n",
    "-- Достигнут целевой показатель метрики МАЕ.\n",
    "* В проекте были удалены только те показатели, которые бы помешали построению моделей (такие как отсутствие измерения температур), в остальном сохранены максимально приближенные к рабочему процессу числа, благодаря чему модель должна выдавать более реалистичные прогнозы в реальных условиях.\n",
    "* Наиболее важными метриками являются работа при нагреве стали, начальная температура и добавление проволочных материалов.\n",
    "* Наиболее точной моделью является Catboost с подбором параметров с МАЕ=6.74, наиболее быстрой LightGBM с временем обучения 0.1 с."
   ]
  }
 ],
 "metadata": {
  "ExecuteTimeLog": [
   {
    "duration": 333,
    "start_time": "2021-11-21T05:08:03.624Z"
   },
   {
    "duration": 50483,
    "start_time": "2021-11-21T05:08:13.954Z"
   },
   {
    "duration": 209,
    "start_time": "2021-11-21T05:09:05.086Z"
   },
   {
    "duration": 19,
    "start_time": "2021-11-21T05:09:13.757Z"
   },
   {
    "duration": 12,
    "start_time": "2021-11-21T05:09:14.380Z"
   },
   {
    "duration": 314,
    "start_time": "2021-11-21T05:09:15.398Z"
   },
   {
    "duration": 313,
    "start_time": "2021-11-21T05:09:15.954Z"
   },
   {
    "duration": 12,
    "start_time": "2021-11-21T05:09:16.910Z"
   },
   {
    "duration": 24,
    "start_time": "2021-11-21T05:09:18.768Z"
   },
   {
    "duration": 11,
    "start_time": "2021-11-21T05:09:19.560Z"
   },
   {
    "duration": 23,
    "start_time": "2021-11-21T05:09:21.139Z"
   },
   {
    "duration": 13,
    "start_time": "2021-11-21T05:09:21.359Z"
   },
   {
    "duration": 10,
    "start_time": "2021-11-21T05:09:21.974Z"
   },
   {
    "duration": 9,
    "start_time": "2021-11-21T05:09:22.280Z"
   },
   {
    "duration": 337,
    "start_time": "2021-11-21T05:09:22.499Z"
   },
   {
    "duration": 13,
    "start_time": "2021-11-21T05:09:23.185Z"
   },
   {
    "duration": 10,
    "start_time": "2021-11-21T05:09:23.611Z"
   },
   {
    "duration": 7,
    "start_time": "2021-11-21T05:09:23.886Z"
   },
   {
    "duration": 277,
    "start_time": "2021-11-21T05:09:24.130Z"
   },
   {
    "duration": 16,
    "start_time": "2021-11-21T05:09:24.409Z"
   },
   {
    "duration": 18,
    "start_time": "2021-11-21T05:09:25.131Z"
   },
   {
    "duration": 10,
    "start_time": "2021-11-21T05:09:25.868Z"
   },
   {
    "duration": 18,
    "start_time": "2021-11-21T05:09:26.739Z"
   },
   {
    "duration": 11,
    "start_time": "2021-11-21T05:09:26.999Z"
   },
   {
    "duration": 12,
    "start_time": "2021-11-21T05:12:35.841Z"
   },
   {
    "duration": 5,
    "start_time": "2021-11-21T05:12:36.618Z"
   },
   {
    "duration": 11,
    "start_time": "2021-11-21T05:12:37.731Z"
   },
   {
    "duration": 5,
    "start_time": "2021-11-21T05:12:37.990Z"
   },
   {
    "duration": 326,
    "start_time": "2021-11-21T05:12:39.803Z"
   },
   {
    "duration": 6,
    "start_time": "2021-11-21T05:12:43.468Z"
   },
   {
    "duration": 12,
    "start_time": "2021-11-21T05:12:44.098Z"
   },
   {
    "duration": 10,
    "start_time": "2021-11-21T05:12:44.663Z"
   },
   {
    "duration": 14,
    "start_time": "2021-11-21T05:12:45.420Z"
   },
   {
    "duration": 14,
    "start_time": "2021-11-21T05:12:45.723Z"
   },
   {
    "duration": 7,
    "start_time": "2021-11-21T05:12:48.229Z"
   },
   {
    "duration": 19,
    "start_time": "2021-11-21T05:12:48.419Z"
   },
   {
    "duration": 95,
    "start_time": "2021-11-21T05:12:49.089Z"
   },
   {
    "duration": 5,
    "start_time": "2021-11-21T05:12:49.288Z"
   },
   {
    "duration": 7,
    "start_time": "2021-11-21T05:12:49.530Z"
   },
   {
    "duration": 16,
    "start_time": "2021-11-21T05:12:49.806Z"
   },
   {
    "duration": 12,
    "start_time": "2021-11-21T05:12:50.379Z"
   },
   {
    "duration": 12,
    "start_time": "2021-11-21T05:12:50.812Z"
   },
   {
    "duration": 13,
    "start_time": "2021-11-21T05:12:51.154Z"
   },
   {
    "duration": 14,
    "start_time": "2021-11-21T05:12:51.335Z"
   },
   {
    "duration": 4,
    "start_time": "2021-11-21T05:12:51.980Z"
   },
   {
    "duration": 13,
    "start_time": "2021-11-21T05:12:53.123Z"
   },
   {
    "duration": 7,
    "start_time": "2021-11-21T05:12:53.705Z"
   },
   {
    "duration": 7,
    "start_time": "2021-11-21T05:12:54.221Z"
   },
   {
    "duration": 7,
    "start_time": "2021-11-21T05:12:56.875Z"
   },
   {
    "duration": 18,
    "start_time": "2021-11-21T05:12:56.885Z"
   },
   {
    "duration": 11,
    "start_time": "2021-11-21T05:12:56.906Z"
   },
   {
    "duration": 6,
    "start_time": "2021-11-21T05:12:56.920Z"
   },
   {
    "duration": 10,
    "start_time": "2021-11-21T05:12:56.929Z"
   },
   {
    "duration": 11,
    "start_time": "2021-11-21T05:12:56.941Z"
   },
   {
    "duration": 7,
    "start_time": "2021-11-21T05:12:56.965Z"
   },
   {
    "duration": 8,
    "start_time": "2021-11-21T05:12:57.162Z"
   },
   {
    "duration": 9,
    "start_time": "2021-11-21T05:12:57.346Z"
   },
   {
    "duration": 30,
    "start_time": "2021-11-21T05:20:07.173Z"
   },
   {
    "duration": 21,
    "start_time": "2021-11-21T05:20:08.907Z"
   },
   {
    "duration": 8,
    "start_time": "2021-11-21T05:20:29.705Z"
   },
   {
    "duration": 5,
    "start_time": "2021-11-21T05:20:31.372Z"
   },
   {
    "duration": 9,
    "start_time": "2021-11-21T05:20:33.470Z"
   },
   {
    "duration": 6,
    "start_time": "2021-11-21T05:20:37.625Z"
   },
   {
    "duration": 14,
    "start_time": "2021-11-21T05:20:59.484Z"
   },
   {
    "duration": 501,
    "start_time": "2021-11-21T05:21:10.763Z"
   },
   {
    "duration": 7,
    "start_time": "2021-11-21T05:22:02.859Z"
   },
   {
    "duration": 6,
    "start_time": "2021-11-21T05:22:03.044Z"
   },
   {
    "duration": 7,
    "start_time": "2021-11-21T05:22:03.225Z"
   },
   {
    "duration": 5,
    "start_time": "2021-11-21T05:22:03.399Z"
   },
   {
    "duration": 5,
    "start_time": "2021-11-21T05:22:03.612Z"
   },
   {
    "duration": 8,
    "start_time": "2021-11-21T05:22:20.123Z"
   },
   {
    "duration": 6,
    "start_time": "2021-11-21T05:22:20.338Z"
   },
   {
    "duration": 9,
    "start_time": "2021-11-21T05:22:25.673Z"
   },
   {
    "duration": 5,
    "start_time": "2021-11-21T05:22:25.846Z"
   },
   {
    "duration": 7,
    "start_time": "2021-11-21T05:22:26.024Z"
   },
   {
    "duration": 4,
    "start_time": "2021-11-21T05:22:26.386Z"
   },
   {
    "duration": 3,
    "start_time": "2021-11-21T05:23:18.895Z"
   },
   {
    "duration": 12,
    "start_time": "2021-11-21T05:23:19.068Z"
   },
   {
    "duration": 15,
    "start_time": "2021-11-21T05:23:19.390Z"
   },
   {
    "duration": 6,
    "start_time": "2021-11-21T05:23:19.563Z"
   },
   {
    "duration": 6,
    "start_time": "2021-11-21T05:23:22.847Z"
   },
   {
    "duration": 6,
    "start_time": "2021-11-21T05:23:23.512Z"
   },
   {
    "duration": 4,
    "start_time": "2021-11-21T05:23:33.944Z"
   },
   {
    "duration": 4,
    "start_time": "2021-11-21T05:23:34.380Z"
   },
   {
    "duration": 220533,
    "start_time": "2021-11-21T05:23:34.984Z"
   },
   {
    "duration": 5,
    "start_time": "2021-11-21T05:27:15.520Z"
   },
   {
    "duration": 10,
    "start_time": "2021-11-21T05:27:15.527Z"
   },
   {
    "duration": 6,
    "start_time": "2021-11-21T05:27:15.540Z"
   },
   {
    "duration": 1059,
    "start_time": "2021-11-21T05:27:15.549Z"
   },
   {
    "duration": 6,
    "start_time": "2021-11-21T05:27:16.611Z"
   },
   {
    "duration": 82,
    "start_time": "2021-11-21T05:27:16.620Z"
   },
   {
    "duration": 4,
    "start_time": "2021-11-21T05:27:16.707Z"
   },
   {
    "duration": 8,
    "start_time": "2021-11-21T05:27:16.714Z"
   },
   {
    "duration": 635481,
    "start_time": "2021-11-21T05:27:16.725Z"
   },
   {
    "duration": 6,
    "start_time": "2021-11-21T05:37:52.208Z"
   },
   {
    "duration": 87,
    "start_time": "2021-11-21T05:37:52.216Z"
   },
   {
    "duration": 6,
    "start_time": "2021-11-21T05:37:52.306Z"
   },
   {
    "duration": 10,
    "start_time": "2021-11-21T05:37:52.314Z"
   },
   {
    "duration": 6,
    "start_time": "2021-11-21T05:37:52.327Z"
   },
   {
    "duration": 16,
    "start_time": "2021-11-21T05:37:52.335Z"
   }
  ],
  "colab": {
   "collapsed_sections": [],
   "name": "Прошленность v2 (1).ipynb",
   "provenance": [],
   "toc_visible": true
  },
  "kernelspec": {
   "display_name": "Python 3 (ipykernel)",
   "language": "python",
   "name": "python3"
  },
  "language_info": {
   "codemirror_mode": {
    "name": "ipython",
    "version": 3
   },
   "file_extension": ".py",
   "mimetype": "text/x-python",
   "name": "python",
   "nbconvert_exporter": "python",
   "pygments_lexer": "ipython3",
   "version": "3.9.12"
  },
  "toc": {
   "base_numbering": 1,
   "nav_menu": {},
   "number_sections": true,
   "sideBar": true,
   "skip_h1_title": true,
   "title_cell": "Table of Contents",
   "title_sidebar": "Contents",
   "toc_cell": true,
   "toc_position": {},
   "toc_section_display": true,
   "toc_window_display": true
  }
 },
 "nbformat": 4,
 "nbformat_minor": 1
}
